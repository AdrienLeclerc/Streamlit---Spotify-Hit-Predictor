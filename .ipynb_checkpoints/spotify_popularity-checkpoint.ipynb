{
 "cells": [
  {
   "cell_type": "markdown",
   "metadata": {},
   "source": [
    "## Legend"
   ]
  },
  {
   "cell_type": "markdown",
   "metadata": {},
   "source": [
    "🎯 Objective    \n",
    "❓ Question  \n",
    "📝 Task  \n",
    "☑️ Instructions  \n",
    "💡 Informations  \n",
    "💾 Submit your results  \n",
    "\n",
    "**variable name**  \n",
    "*field name*  \n",
    "`python object`"
   ]
  },
  {
   "cell_type": "markdown",
   "metadata": {},
   "source": [
    "# Apprentissage automatique (Machine Learning) supervisé et non supervisé"
   ]
  },
  {
   "cell_type": "markdown",
   "metadata": {},
   "source": [
    "This exam contains **9** sections.  \n",
    "\n",
    "For each one a time indication is given for information but you may choose your own pace.\n",
    "\n",
    "To pass the exam you need to validate at least **5** sections.  \n",
    "\n",
    "Some sections can be validated independently even if the exam use the same data for all of them.  "
   ]
  },
  {
   "cell_type": "markdown",
   "metadata": {},
   "source": [
    "## Description (10 min)"
   ]
  },
  {
   "cell_type": "markdown",
   "metadata": {},
   "source": [
    "🎯 **Your objective is to create a model that predicts the popularity of a song based on its characteristics**"
   ]
  },
  {
   "cell_type": "markdown",
   "metadata": {},
   "source": [
    "To achieve this, you are given a dataset containing a list of songs with the following characteristics:\n",
    "\n",
    "**acousticness**: whether the track is acoustic  \n",
    "\n",
    "**danceability**: describes how suitable a track is for dancing  \n",
    "\n",
    "**duration_ms**: duration of the track in milliseconds  \n",
    "\n",
    "**energy**: represents a perceptual measure of intensity and activity  \n",
    "\n",
    "**explicit**: whether the track has explicit lyrics  \n",
    "\n",
    "**id**: id for the track  \n",
    "\n",
    "**instrumentalness**: predicts whether a track contains no vocals  \n",
    "\n",
    "**key**: the key the track is in  \n",
    "\n",
    "**liveness**: detects the presence of an audience in the recording  \n",
    "\n",
    "**loudness**: the overall loudness of a track in decibels  \n",
    "\n",
    "**mode**: modality of a track  \n",
    "\n",
    "**name**: name of the track  \n",
    "\n",
    "**popularity**: popularity of the track  \n",
    "\n",
    "**release_date**: release date  \n",
    "\n",
    "**speechiness**: detects the presence of spoken words in a track  \n",
    "\n",
    "**tempo**: overall estimated tempo of a track in beats per minute  \n",
    "\n",
    "**valence**: describes the musical positiveness conveyed by a track  \n",
    "\n",
    "**artist**: artist who performed the track"
   ]
  },
  {
   "cell_type": "markdown",
   "metadata": {},
   "source": [
    "☑️ Only fine-tune your model when explicitly asked to do so, in section *7 - Fine-tuning*  "
   ]
  },
  {
   "cell_type": "markdown",
   "metadata": {},
   "source": [
    "## 1 - Data Cleaning (15 min)"
   ]
  },
  {
   "cell_type": "code",
   "execution_count": 488,
   "metadata": {},
   "outputs": [],
   "source": [
    "import pandas as pd\n",
    "from sklearn.metrics import mean_squared_error\n",
    "from math import sqrt\n",
    "import numpy as np\n",
    "from sklearn.model_selection import train_test_split\n",
    "from sklearn.linear_model import LinearRegression\n",
    "from sklearn.model_selection import cross_val_score\n",
    "from sklearn.cluster import KMeans\n",
    "from sklearn.preprocessing import FunctionTransformer\n",
    "from sklearn.preprocessing import MinMaxScaler\n",
    "from sklearn.pipeline import Pipeline\n",
    "from sklearn.compose import ColumnTransformer\n",
    "from sklearn.preprocessing import OneHotEncoder\n",
    "from sklearn.pipeline import make_pipeline\n",
    "from sklearn.model_selection import cross_validate\n",
    "from sklearn.ensemble import RandomForestRegressor, RandomForestClassifier\n",
    "from sklearn.model_selection import RandomizedSearchCV\n",
    "from sklearn.model_selection import GridSearchCV\n",
    "from sklearn.linear_model import LogisticRegression"
   ]
  },
  {
   "cell_type": "markdown",
   "metadata": {},
   "source": [
    "*C5 - Préparer les données en vue de l'apprentissage afin que celles-ci soient nettoyées*"
   ]
  },
  {
   "cell_type": "markdown",
   "metadata": {},
   "source": [
    "🎯 **Load and clean the data**"
   ]
  },
  {
   "cell_type": "markdown",
   "metadata": {},
   "source": [
    "📝 Load the data in **df**, a `DataFrame`  \n",
    "☑️ The data file is available at this url: https://wagon-public-datasets.s3.amazonaws.com/certification_paris_2021Q1/spotify_popularity_train.csv"
   ]
  },
  {
   "cell_type": "code",
   "execution_count": 248,
   "metadata": {
    "tags": [
     "challengify"
    ]
   },
   "outputs": [],
   "source": [
    "df = pd.read_csv(\"https://wagon-public-datasets.s3.amazonaws.com/certification_paris_2021Q1/spotify_popularity_train.csv\")"
   ]
  },
  {
   "cell_type": "code",
   "execution_count": 249,
   "metadata": {},
   "outputs": [
    {
     "data": {
      "text/plain": [
       "(52317, 18)"
      ]
     },
     "execution_count": 249,
     "metadata": {},
     "output_type": "execute_result"
    }
   ],
   "source": [
    "df.shape"
   ]
  },
  {
   "cell_type": "markdown",
   "metadata": {},
   "source": [
    "📝 Clean the data, make sure that no duplicates nor missing values remain in **df**"
   ]
  },
  {
   "cell_type": "markdown",
   "metadata": {},
   "source": [
    "Duplicates"
   ]
  },
  {
   "cell_type": "code",
   "execution_count": 250,
   "metadata": {
    "slideshow": {
     "slide_type": "notes"
    },
    "tags": [
     "challengify"
    ]
   },
   "outputs": [
    {
     "data": {
      "text/plain": [
       "260"
      ]
     },
     "execution_count": 250,
     "metadata": {},
     "output_type": "execute_result"
    }
   ],
   "source": [
    "duplicate_count = len(df)-len(df.drop_duplicates()) # Original data lenght minus data length without duplicates\n",
    "\n",
    "duplicate_count"
   ]
  },
  {
   "cell_type": "code",
   "execution_count": 251,
   "metadata": {},
   "outputs": [],
   "source": [
    "df.drop_duplicates(inplace=True) # Drop duplicates in place"
   ]
  },
  {
   "cell_type": "code",
   "execution_count": 252,
   "metadata": {},
   "outputs": [
    {
     "data": {
      "text/plain": [
       "(52057, 18)"
      ]
     },
     "execution_count": 252,
     "metadata": {},
     "output_type": "execute_result"
    }
   ],
   "source": [
    "df.shape"
   ]
  },
  {
   "cell_type": "markdown",
   "metadata": {},
   "source": [
    "Missing Values"
   ]
  },
  {
   "cell_type": "code",
   "execution_count": 253,
   "metadata": {},
   "outputs": [
    {
     "data": {
      "text/plain": [
       "artist              0.000077\n",
       "danceability        0.000000\n",
       "valence             0.000000\n",
       "tempo               0.000000\n",
       "speechiness         0.000000\n",
       "release_date        0.000000\n",
       "popularity          0.000000\n",
       "name                0.000000\n",
       "mode                0.000000\n",
       "acousticness        0.000000\n",
       "liveness            0.000000\n",
       "key                 0.000000\n",
       "instrumentalness    0.000000\n",
       "id                  0.000000\n",
       "explicit            0.000000\n",
       "energy              0.000000\n",
       "duration_ms         0.000000\n",
       "loudness            0.000000\n",
       "dtype: float64"
      ]
     },
     "execution_count": 253,
     "metadata": {},
     "output_type": "execute_result"
    }
   ],
   "source": [
    "df.isnull().sum().sort_values(ascending=False)/len(df) #NaN percentage for each column"
   ]
  },
  {
   "cell_type": "code",
   "execution_count": 254,
   "metadata": {},
   "outputs": [],
   "source": [
    "df.dropna(inplace = True)"
   ]
  },
  {
   "cell_type": "code",
   "execution_count": 255,
   "metadata": {},
   "outputs": [
    {
     "data": {
      "text/plain": [
       "(52053, 18)"
      ]
     },
     "execution_count": 255,
     "metadata": {},
     "output_type": "execute_result"
    }
   ],
   "source": [
    "df.shape"
   ]
  },
  {
   "cell_type": "markdown",
   "metadata": {},
   "source": [
    "💾 **Run the following cell to save your results**"
   ]
  },
  {
   "cell_type": "code",
   "execution_count": 256,
   "metadata": {},
   "outputs": [],
   "source": [
    "from nbresult import ChallengeResult\n",
    "\n",
    "result = ChallengeResult(\"data_cleaning\", shape=df.shape)\n",
    "result.write()"
   ]
  },
  {
   "cell_type": "markdown",
   "metadata": {},
   "source": [
    "## 2 - Supervised Learning (40 min)"
   ]
  },
  {
   "cell_type": "markdown",
   "metadata": {},
   "source": [
    "*C9 - Entraîner un modèle d'apprentissage supervisé pour optimiser une fonction de prédiction à partir d'exemples annotées*"
   ]
  },
  {
   "cell_type": "markdown",
   "metadata": {},
   "source": [
    "🎯 **Identify your metrics, compute your baseline and evaluate a basic model**"
   ]
  },
  {
   "cell_type": "markdown",
   "metadata": {},
   "source": [
    "📝 Choose an appropriate scoring [metric](https://scikit-learn.org/stable/modules/model_evaluation.html) from `sklearn` for this challenge, the chosen metric must:    \n",
    "\n",
    "☑️ strongly penalize largest errors relatively to smaller ones  \n",
    "☑️ measure errors in the same unit as the target `popularity`  \n",
    "☑️ the greater, the better (metric_good_model > metric_bad_model)  \n",
    "\n",
    "📝 Store in **scoring** its exact name as `string`"
   ]
  },
  {
   "cell_type": "code",
   "execution_count": 257,
   "metadata": {
    "slideshow": {
     "slide_type": "notes"
    },
    "tags": [
     "challengify"
    ]
   },
   "outputs": [],
   "source": [
    "scoring = \"neg_root_mean_squared_error\""
   ]
  },
  {
   "cell_type": "markdown",
   "metadata": {},
   "source": [
    "📝 Define your features and target   \n",
    "\n",
    "☑️ Assign to **X_simple** a `DataFrame` containing only numerical features  \n",
    "☑️ Assign to **y** a `Series` containing only your target: *popularity*  "
   ]
  },
  {
   "cell_type": "code",
   "execution_count": 258,
   "metadata": {},
   "outputs": [
    {
     "data": {
      "text/plain": [
       "acousticness        float64\n",
       "danceability        float64\n",
       "duration_ms           int64\n",
       "energy              float64\n",
       "explicit              int64\n",
       "id                   object\n",
       "instrumentalness    float64\n",
       "key                   int64\n",
       "liveness            float64\n",
       "loudness            float64\n",
       "mode                  int64\n",
       "name                 object\n",
       "popularity            int64\n",
       "release_date         object\n",
       "speechiness         float64\n",
       "tempo               float64\n",
       "valence             float64\n",
       "artist               object\n",
       "dtype: object"
      ]
     },
     "execution_count": 258,
     "metadata": {},
     "output_type": "execute_result"
    }
   ],
   "source": [
    "df.dtypes"
   ]
  },
  {
   "cell_type": "code",
   "execution_count": 259,
   "metadata": {
    "slideshow": {
     "slide_type": "notes"
    },
    "tags": [
     "challengify"
    ]
   },
   "outputs": [],
   "source": [
    "X_simple = df.select_dtypes(include=['float64','int64']).drop(columns = 'popularity')\n",
    "y = df['popularity']"
   ]
  },
  {
   "cell_type": "code",
   "execution_count": 260,
   "metadata": {},
   "outputs": [
    {
     "name": "stdout",
     "output_type": "stream",
     "text": [
      "(52053, 13) (52053,)\n"
     ]
    }
   ],
   "source": [
    "print(X_simple.shape, y.shape)"
   ]
  },
  {
   "cell_type": "markdown",
   "metadata": {},
   "source": [
    "📝 Compute your baseline and store it in **baseline_score**, as a `float`  \n",
    "☑️ Do so by simulating a constant prediction equivalent to the mean value of your target  \n",
    "☑️ Use the same scoring function as the one stored in **scoring**  \n",
    "☑️ You may have to code the scoring function yourself to use it outside a `sklearn` workflow  "
   ]
  },
  {
   "cell_type": "code",
   "execution_count": 261,
   "metadata": {
    "tags": [
     "challengify"
    ]
   },
   "outputs": [],
   "source": [
    "mean_popularity = y.mean()\n",
    "\n",
    "rmse = mean_squared_error(y,np.full(len(y),mean_popularity),squared=False)\n",
    "\n",
    "baseline_score = -rmse"
   ]
  },
  {
   "cell_type": "code",
   "execution_count": 262,
   "metadata": {},
   "outputs": [
    {
     "data": {
      "text/plain": [
       "-21.86400900273424"
      ]
     },
     "execution_count": 262,
     "metadata": {},
     "output_type": "execute_result"
    }
   ],
   "source": [
    "baseline_score"
   ]
  },
  {
   "cell_type": "markdown",
   "metadata": {},
   "source": [
    "### Holdout evaluation"
   ]
  },
  {
   "cell_type": "markdown",
   "metadata": {},
   "source": [
    "📝 Split your data, holding out 50% of observations, randomly sampled, as test set  \n",
    "☑️  Assign the result of your holdout to **X_train_simple** **y_train**, **X_test_simple**, **y_test**"
   ]
  },
  {
   "cell_type": "code",
   "execution_count": 263,
   "metadata": {
    "slideshow": {
     "slide_type": "notes"
    },
    "tags": [
     "challengify"
    ]
   },
   "outputs": [],
   "source": [
    "X_train_simple, X_test_simple, y_train, y_test = train_test_split(X_simple, y, test_size=0.5)"
   ]
  },
  {
   "cell_type": "code",
   "execution_count": 264,
   "metadata": {},
   "outputs": [
    {
     "name": "stdout",
     "output_type": "stream",
     "text": [
      "(26026, 13) (26027, 13) (26026,) (26027,)\n"
     ]
    }
   ],
   "source": [
    "print(X_train_simple.shape, X_test_simple.shape, y_train.shape, y_test.shape)"
   ]
  },
  {
   "cell_type": "markdown",
   "metadata": {},
   "source": [
    "📝 Fit and evaluate the most basic linear model you can find in the [`linear_model`](https://scikit-learn.org/stable/modules/classes.html#module-sklearn.linear_model) module  \n",
    "☑️ Use the metric you stored in **scoring**    \n",
    "☑️ Store in **score_simple_holdout** your model score"
   ]
  },
  {
   "cell_type": "code",
   "execution_count": 265,
   "metadata": {
    "slideshow": {
     "slide_type": "notes"
    },
    "tags": [
     "challengify"
    ]
   },
   "outputs": [
    {
     "data": {
      "text/plain": [
       "-18.39557025989475"
      ]
     },
     "execution_count": 265,
     "metadata": {},
     "output_type": "execute_result"
    }
   ],
   "source": [
    "model_simple = LinearRegression()\n",
    "\n",
    "model_simple.fit(X_train_simple,y_train)\n",
    "\n",
    "y_pred = model_simple.predict(X_test_simple)\n",
    "\n",
    "negrmse = -mean_squared_error(y_test,y_pred,squared=False)\n",
    "\n",
    "score_simple_holdout = negrmse\n",
    "\n",
    "score_simple_holdout"
   ]
  },
  {
   "cell_type": "markdown",
   "metadata": {},
   "source": [
    "### Cross-validation evaluation"
   ]
  },
  {
   "cell_type": "markdown",
   "metadata": {},
   "source": [
    "📝 Cross-validate your basic model  \n",
    "☑️ Use 5 folds for your cross-validation  \n",
    "☑️ Store your mean score in **score_simple_cv_mean** as a `float`  \n",
    "☑️ Store the standard deviation of your scores in **score_simple_cv_std** as a `float`"
   ]
  },
  {
   "cell_type": "code",
   "execution_count": 266,
   "metadata": {
    "slideshow": {
     "slide_type": "notes"
    },
    "tags": [
     "challengify"
    ]
   },
   "outputs": [],
   "source": [
    "cv_results = cross_val_score(LinearRegression(), \\\n",
    "                                       X_train_simple, y_train, cv=5,\\\n",
    "                                       scoring = 'neg_root_mean_squared_error')\n",
    "\n",
    "score_simple_cv_mean = cv_results.mean()\n",
    "score_simple_cv_std = cv_results.std()"
   ]
  },
  {
   "cell_type": "code",
   "execution_count": 267,
   "metadata": {},
   "outputs": [
    {
     "data": {
      "text/plain": [
       "array([-18.18495221, -18.44226419, -18.44946268, -18.40720878,\n",
       "       -18.16786536])"
      ]
     },
     "execution_count": 267,
     "metadata": {},
     "output_type": "execute_result"
    }
   ],
   "source": [
    "cv_results"
   ]
  },
  {
   "cell_type": "code",
   "execution_count": 268,
   "metadata": {},
   "outputs": [
    {
     "data": {
      "text/plain": [
       "-18.330350642764824"
      ]
     },
     "execution_count": 268,
     "metadata": {},
     "output_type": "execute_result"
    }
   ],
   "source": [
    "score_simple_cv_mean"
   ]
  },
  {
   "cell_type": "code",
   "execution_count": 269,
   "metadata": {},
   "outputs": [
    {
     "data": {
      "text/plain": [
       "0.12661884894055922"
      ]
     },
     "execution_count": 269,
     "metadata": {},
     "output_type": "execute_result"
    }
   ],
   "source": [
    "score_simple_cv_std"
   ]
  },
  {
   "cell_type": "markdown",
   "metadata": {},
   "source": [
    "☑️ From now on, you will stop using your train-test split    \n",
    "☑️ Instead we expect you to cross-validate (5 folds) your results with the whole dataset"
   ]
  },
  {
   "cell_type": "markdown",
   "metadata": {},
   "source": [
    "💾 **Run the following cell to save your results**"
   ]
  },
  {
   "cell_type": "code",
   "execution_count": 270,
   "metadata": {},
   "outputs": [],
   "source": [
    "from nbresult import ChallengeResult\n",
    "\n",
    "result = ChallengeResult(\n",
    "    \"supervised_learning\",\n",
    "    scoring=scoring,\n",
    "    baseline_score=baseline_score,\n",
    "    model=model_simple,\n",
    "    shape_train = X_train_simple.shape,\n",
    "    score_simple_holdout=score_simple_holdout,\n",
    "    score_simple_cv_mean=score_simple_cv_mean,\n",
    "    score_simple_cv_std=score_simple_cv_std,\n",
    ")\n",
    "result.write()"
   ]
  },
  {
   "cell_type": "markdown",
   "metadata": {},
   "source": [
    "## 3 - Feature engineering (20 min)"
   ]
  },
  {
   "cell_type": "markdown",
   "metadata": {},
   "source": [
    "*C7 - Générer des données d'entrée afin de satisfaire les contraintes inhérentes au modèles (Feature Engineering)*"
   ]
  },
  {
   "cell_type": "markdown",
   "metadata": {},
   "source": [
    "🎯 **Create a new feature by extracting information from existing features**"
   ]
  },
  {
   "cell_type": "markdown",
   "metadata": {},
   "source": [
    "Let's try to improve performance using the feature *release_date*"
   ]
  },
  {
   "cell_type": "markdown",
   "metadata": {},
   "source": [
    "📝 Create a `DataFrame` **X_engineered** by adding a new column *year* to **X_simple**  \n",
    "☑️ *year* must contain the release year of the track as `integer`"
   ]
  },
  {
   "cell_type": "code",
   "execution_count": 271,
   "metadata": {},
   "outputs": [],
   "source": [
    "df_copy = df.copy()"
   ]
  },
  {
   "cell_type": "code",
   "execution_count": 272,
   "metadata": {
    "slideshow": {
     "slide_type": "notes"
    },
    "tags": [
     "challengify"
    ]
   },
   "outputs": [],
   "source": [
    "df_copy['release_date'] = pd.to_datetime(df_copy['release_date'])"
   ]
  },
  {
   "cell_type": "code",
   "execution_count": 273,
   "metadata": {},
   "outputs": [],
   "source": [
    "df_copy['year'] = df_copy['release_date'].dt.year"
   ]
  },
  {
   "cell_type": "code",
   "execution_count": 274,
   "metadata": {},
   "outputs": [],
   "source": [
    "X_engineered = df_copy.select_dtypes(include=['float64','int64']).drop(columns = 'popularity')"
   ]
  },
  {
   "cell_type": "code",
   "execution_count": 275,
   "metadata": {},
   "outputs": [
    {
     "data": {
      "text/plain": [
       "acousticness        float64\n",
       "danceability        float64\n",
       "duration_ms           int64\n",
       "energy              float64\n",
       "explicit              int64\n",
       "instrumentalness    float64\n",
       "key                   int64\n",
       "liveness            float64\n",
       "loudness            float64\n",
       "mode                  int64\n",
       "speechiness         float64\n",
       "tempo               float64\n",
       "valence             float64\n",
       "year                  int64\n",
       "dtype: object"
      ]
     },
     "execution_count": 275,
     "metadata": {},
     "output_type": "execute_result"
    }
   ],
   "source": [
    "X_engineered.dtypes"
   ]
  },
  {
   "cell_type": "markdown",
   "metadata": {},
   "source": [
    "📝 Check the impact of your new feature on the performance of your model  \n",
    "☑️ Retrain the same basic linear model you used in section 2  \n",
    "☑️ Use your **X_engineered** for the training  \n",
    "☑️ Save the mean score after cross-validation in **score_engineered** as a `float`  "
   ]
  },
  {
   "cell_type": "code",
   "execution_count": 276,
   "metadata": {
    "slideshow": {
     "slide_type": "notes"
    },
    "tags": [
     "challengify"
    ]
   },
   "outputs": [],
   "source": [
    "cv_results_eng = cross_val_score(LinearRegression(), \\\n",
    "                                       X_engineered, y, cv=5,\\\n",
    "                                       scoring = 'neg_root_mean_squared_error')\n"
   ]
  },
  {
   "cell_type": "code",
   "execution_count": 277,
   "metadata": {},
   "outputs": [],
   "source": [
    "score_engineered = cv_results_eng.mean()"
   ]
  },
  {
   "cell_type": "code",
   "execution_count": 278,
   "metadata": {},
   "outputs": [
    {
     "data": {
      "text/plain": [
       "-17.301966769706553"
      ]
     },
     "execution_count": 278,
     "metadata": {},
     "output_type": "execute_result"
    }
   ],
   "source": [
    "score_engineered"
   ]
  },
  {
   "cell_type": "markdown",
   "metadata": {},
   "source": [
    "💾 **Run the following cell to save your results**"
   ]
  },
  {
   "cell_type": "code",
   "execution_count": 279,
   "metadata": {},
   "outputs": [],
   "source": [
    "from nbresult import ChallengeResult\n",
    "\n",
    "result = ChallengeResult(\"feature_engineering\",\n",
    "    cols = X_engineered.columns,\n",
    "    years = X_engineered.get(\"year\"),\n",
    "    score=score_engineered\n",
    ")\n",
    "result.write()"
   ]
  },
  {
   "cell_type": "markdown",
   "metadata": {},
   "source": [
    "## 4 - Unsupervised Learning (20 min)"
   ]
  },
  {
   "cell_type": "markdown",
   "metadata": {},
   "source": [
    "*C10 - Entraîner un modèle d'apprentissage non supervisé pour détecter des structures sous-jacentes à partir de données non étiquetées*"
   ]
  },
  {
   "cell_type": "markdown",
   "metadata": {},
   "source": [
    "🎯 **Create a new feature by performing a clustering of your existing features**"
   ]
  },
  {
   "cell_type": "markdown",
   "metadata": {},
   "source": [
    "📝 Use a `KMeans` to assign each track to a cluster  \n",
    "☑️ Your target number of clusters is 5  \n",
    "☑️ Fit your `KMeans` on **X_simple**  \n",
    "☑️ Store your fitted `KMeans` in **kmeans**  "
   ]
  },
  {
   "cell_type": "code",
   "execution_count": 280,
   "metadata": {
    "tags": [
     "challengify"
    ]
   },
   "outputs": [],
   "source": [
    "kmeans = KMeans(n_clusters=5).fit(X_simple)"
   ]
  },
  {
   "cell_type": "code",
   "execution_count": 281,
   "metadata": {},
   "outputs": [
    {
     "data": {
      "text/html": [
       "<style>#sk-33bc4968-a8fa-437e-aa3e-90ec823a9036 {color: black;background-color: white;}#sk-33bc4968-a8fa-437e-aa3e-90ec823a9036 pre{padding: 0;}#sk-33bc4968-a8fa-437e-aa3e-90ec823a9036 div.sk-toggleable {background-color: white;}#sk-33bc4968-a8fa-437e-aa3e-90ec823a9036 label.sk-toggleable__label {cursor: pointer;display: block;width: 100%;margin-bottom: 0;padding: 0.3em;box-sizing: border-box;text-align: center;}#sk-33bc4968-a8fa-437e-aa3e-90ec823a9036 label.sk-toggleable__label-arrow:before {content: \"▸\";float: left;margin-right: 0.25em;color: #696969;}#sk-33bc4968-a8fa-437e-aa3e-90ec823a9036 label.sk-toggleable__label-arrow:hover:before {color: black;}#sk-33bc4968-a8fa-437e-aa3e-90ec823a9036 div.sk-estimator:hover label.sk-toggleable__label-arrow:before {color: black;}#sk-33bc4968-a8fa-437e-aa3e-90ec823a9036 div.sk-toggleable__content {max-height: 0;max-width: 0;overflow: hidden;text-align: left;background-color: #f0f8ff;}#sk-33bc4968-a8fa-437e-aa3e-90ec823a9036 div.sk-toggleable__content pre {margin: 0.2em;color: black;border-radius: 0.25em;background-color: #f0f8ff;}#sk-33bc4968-a8fa-437e-aa3e-90ec823a9036 input.sk-toggleable__control:checked~div.sk-toggleable__content {max-height: 200px;max-width: 100%;overflow: auto;}#sk-33bc4968-a8fa-437e-aa3e-90ec823a9036 input.sk-toggleable__control:checked~label.sk-toggleable__label-arrow:before {content: \"▾\";}#sk-33bc4968-a8fa-437e-aa3e-90ec823a9036 div.sk-estimator input.sk-toggleable__control:checked~label.sk-toggleable__label {background-color: #d4ebff;}#sk-33bc4968-a8fa-437e-aa3e-90ec823a9036 div.sk-label input.sk-toggleable__control:checked~label.sk-toggleable__label {background-color: #d4ebff;}#sk-33bc4968-a8fa-437e-aa3e-90ec823a9036 input.sk-hidden--visually {border: 0;clip: rect(1px 1px 1px 1px);clip: rect(1px, 1px, 1px, 1px);height: 1px;margin: -1px;overflow: hidden;padding: 0;position: absolute;width: 1px;}#sk-33bc4968-a8fa-437e-aa3e-90ec823a9036 div.sk-estimator {font-family: monospace;background-color: #f0f8ff;border: 1px dotted black;border-radius: 0.25em;box-sizing: border-box;margin-bottom: 0.5em;}#sk-33bc4968-a8fa-437e-aa3e-90ec823a9036 div.sk-estimator:hover {background-color: #d4ebff;}#sk-33bc4968-a8fa-437e-aa3e-90ec823a9036 div.sk-parallel-item::after {content: \"\";width: 100%;border-bottom: 1px solid gray;flex-grow: 1;}#sk-33bc4968-a8fa-437e-aa3e-90ec823a9036 div.sk-label:hover label.sk-toggleable__label {background-color: #d4ebff;}#sk-33bc4968-a8fa-437e-aa3e-90ec823a9036 div.sk-serial::before {content: \"\";position: absolute;border-left: 1px solid gray;box-sizing: border-box;top: 2em;bottom: 0;left: 50%;}#sk-33bc4968-a8fa-437e-aa3e-90ec823a9036 div.sk-serial {display: flex;flex-direction: column;align-items: center;background-color: white;padding-right: 0.2em;padding-left: 0.2em;}#sk-33bc4968-a8fa-437e-aa3e-90ec823a9036 div.sk-item {z-index: 1;}#sk-33bc4968-a8fa-437e-aa3e-90ec823a9036 div.sk-parallel {display: flex;align-items: stretch;justify-content: center;background-color: white;}#sk-33bc4968-a8fa-437e-aa3e-90ec823a9036 div.sk-parallel::before {content: \"\";position: absolute;border-left: 1px solid gray;box-sizing: border-box;top: 2em;bottom: 0;left: 50%;}#sk-33bc4968-a8fa-437e-aa3e-90ec823a9036 div.sk-parallel-item {display: flex;flex-direction: column;position: relative;background-color: white;}#sk-33bc4968-a8fa-437e-aa3e-90ec823a9036 div.sk-parallel-item:first-child::after {align-self: flex-end;width: 50%;}#sk-33bc4968-a8fa-437e-aa3e-90ec823a9036 div.sk-parallel-item:last-child::after {align-self: flex-start;width: 50%;}#sk-33bc4968-a8fa-437e-aa3e-90ec823a9036 div.sk-parallel-item:only-child::after {width: 0;}#sk-33bc4968-a8fa-437e-aa3e-90ec823a9036 div.sk-dashed-wrapped {border: 1px dashed gray;margin: 0 0.4em 0.5em 0.4em;box-sizing: border-box;padding-bottom: 0.4em;background-color: white;position: relative;}#sk-33bc4968-a8fa-437e-aa3e-90ec823a9036 div.sk-label label {font-family: monospace;font-weight: bold;background-color: white;display: inline-block;line-height: 1.2em;}#sk-33bc4968-a8fa-437e-aa3e-90ec823a9036 div.sk-label-container {position: relative;z-index: 2;text-align: center;}#sk-33bc4968-a8fa-437e-aa3e-90ec823a9036 div.sk-container {/* jupyter's `normalize.less` sets `[hidden] { display: none; }` but bootstrap.min.css set `[hidden] { display: none !important; }` so we also need the `!important` here to be able to override the default hidden behavior on the sphinx rendered scikit-learn.org. See: https://github.com/scikit-learn/scikit-learn/issues/21755 */display: inline-block !important;position: relative;}#sk-33bc4968-a8fa-437e-aa3e-90ec823a9036 div.sk-text-repr-fallback {display: none;}</style><div id=\"sk-33bc4968-a8fa-437e-aa3e-90ec823a9036\" class=\"sk-top-container\"><div class=\"sk-text-repr-fallback\"><pre>KMeans(n_clusters=5)</pre><b>Please rerun this cell to show the HTML repr or trust the notebook.</b></div><div class=\"sk-container\" hidden><div class=\"sk-item\"><div class=\"sk-estimator sk-toggleable\"><input class=\"sk-toggleable__control sk-hidden--visually\" id=\"3fe7ffe9-dd6e-4845-983e-c81b954c8a7a\" type=\"checkbox\" checked><label for=\"3fe7ffe9-dd6e-4845-983e-c81b954c8a7a\" class=\"sk-toggleable__label sk-toggleable__label-arrow\">KMeans</label><div class=\"sk-toggleable__content\"><pre>KMeans(n_clusters=5)</pre></div></div></div></div></div>"
      ],
      "text/plain": [
       "KMeans(n_clusters=5)"
      ]
     },
     "execution_count": 281,
     "metadata": {},
     "output_type": "execute_result"
    }
   ],
   "source": [
    "kmeans"
   ]
  },
  {
   "cell_type": "code",
   "execution_count": 282,
   "metadata": {},
   "outputs": [
    {
     "data": {
      "text/plain": [
       "array([0, 2, 0, ..., 0, 0, 0], dtype=int32)"
      ]
     },
     "execution_count": 282,
     "metadata": {},
     "output_type": "execute_result"
    }
   ],
   "source": [
    "kmeans.labels_"
   ]
  },
  {
   "cell_type": "markdown",
   "metadata": {},
   "source": [
    "📝 Add your clusters as features to your **X_engineered**  \n",
    "☑️ Use your **kmeans** to get cluster predictions on **X_simple**  \n",
    "☑️ Store the resulting predictions in a new column of **X_engineered** called *clusters*  "
   ]
  },
  {
   "cell_type": "code",
   "execution_count": 283,
   "metadata": {
    "tags": [
     "challengify"
    ]
   },
   "outputs": [],
   "source": [
    "X_engineered['clusters'] = kmeans.labels_"
   ]
  },
  {
   "cell_type": "code",
   "execution_count": 284,
   "metadata": {},
   "outputs": [
    {
     "data": {
      "text/html": [
       "<div>\n",
       "<style scoped>\n",
       "    .dataframe tbody tr th:only-of-type {\n",
       "        vertical-align: middle;\n",
       "    }\n",
       "\n",
       "    .dataframe tbody tr th {\n",
       "        vertical-align: top;\n",
       "    }\n",
       "\n",
       "    .dataframe thead th {\n",
       "        text-align: right;\n",
       "    }\n",
       "</style>\n",
       "<table border=\"1\" class=\"dataframe\">\n",
       "  <thead>\n",
       "    <tr style=\"text-align: right;\">\n",
       "      <th></th>\n",
       "      <th>acousticness</th>\n",
       "      <th>danceability</th>\n",
       "      <th>duration_ms</th>\n",
       "      <th>energy</th>\n",
       "      <th>explicit</th>\n",
       "      <th>instrumentalness</th>\n",
       "      <th>key</th>\n",
       "      <th>liveness</th>\n",
       "      <th>loudness</th>\n",
       "      <th>mode</th>\n",
       "      <th>speechiness</th>\n",
       "      <th>tempo</th>\n",
       "      <th>valence</th>\n",
       "      <th>year</th>\n",
       "      <th>clusters</th>\n",
       "    </tr>\n",
       "  </thead>\n",
       "  <tbody>\n",
       "    <tr>\n",
       "      <th>0</th>\n",
       "      <td>0.65400</td>\n",
       "      <td>0.499</td>\n",
       "      <td>219827</td>\n",
       "      <td>0.190</td>\n",
       "      <td>0</td>\n",
       "      <td>0.00409</td>\n",
       "      <td>7</td>\n",
       "      <td>0.0898</td>\n",
       "      <td>-16.435</td>\n",
       "      <td>1</td>\n",
       "      <td>0.0454</td>\n",
       "      <td>149.46</td>\n",
       "      <td>0.4300</td>\n",
       "      <td>1971</td>\n",
       "      <td>0</td>\n",
       "    </tr>\n",
       "    <tr>\n",
       "      <th>1</th>\n",
       "      <td>0.00592</td>\n",
       "      <td>0.439</td>\n",
       "      <td>483948</td>\n",
       "      <td>0.808</td>\n",
       "      <td>0</td>\n",
       "      <td>0.14000</td>\n",
       "      <td>2</td>\n",
       "      <td>0.0890</td>\n",
       "      <td>-8.497</td>\n",
       "      <td>1</td>\n",
       "      <td>0.0677</td>\n",
       "      <td>138.04</td>\n",
       "      <td>0.0587</td>\n",
       "      <td>2015</td>\n",
       "      <td>2</td>\n",
       "    </tr>\n",
       "  </tbody>\n",
       "</table>\n",
       "</div>"
      ],
      "text/plain": [
       "   acousticness  danceability  duration_ms  energy  explicit  \\\n",
       "0       0.65400         0.499       219827   0.190         0   \n",
       "1       0.00592         0.439       483948   0.808         0   \n",
       "\n",
       "   instrumentalness  key  liveness  loudness  mode  speechiness   tempo  \\\n",
       "0           0.00409    7    0.0898   -16.435     1       0.0454  149.46   \n",
       "1           0.14000    2    0.0890    -8.497     1       0.0677  138.04   \n",
       "\n",
       "   valence  year  clusters  \n",
       "0   0.4300  1971         0  \n",
       "1   0.0587  2015         2  "
      ]
     },
     "execution_count": 284,
     "metadata": {},
     "output_type": "execute_result"
    }
   ],
   "source": [
    "X_engineered.head(2)"
   ]
  },
  {
   "cell_type": "markdown",
   "metadata": {},
   "source": [
    "📝 Check the impact of your new *clusters* feature on the performance of your model  \n",
    "☑️ Retrain the same basic linear model you used in section 2 and 3  \n",
    "☑️ Use your **X_engineered**, with both *year* and *clusters* for the training  \n",
    "☑️ Save the mean score after cross-validation in **score_clusters** as a `float`  "
   ]
  },
  {
   "cell_type": "code",
   "execution_count": 285,
   "metadata": {
    "tags": [
     "challengify"
    ]
   },
   "outputs": [],
   "source": [
    "cv_results_eng_clusters = cross_val_score(LinearRegression(), \\\n",
    "                                       X_engineered, y, cv=5,\\\n",
    "                                       scoring = 'neg_root_mean_squared_error')\n"
   ]
  },
  {
   "cell_type": "code",
   "execution_count": 286,
   "metadata": {},
   "outputs": [],
   "source": [
    "score_clusters = cv_results_eng_clusters.mean()"
   ]
  },
  {
   "cell_type": "code",
   "execution_count": 287,
   "metadata": {},
   "outputs": [
    {
     "data": {
      "text/plain": [
       "-17.231566851984724"
      ]
     },
     "execution_count": 287,
     "metadata": {},
     "output_type": "execute_result"
    }
   ],
   "source": [
    "score_clusters"
   ]
  },
  {
   "cell_type": "markdown",
   "metadata": {},
   "source": [
    "💾 **Run the following cell to save your results**"
   ]
  },
  {
   "cell_type": "code",
   "execution_count": 288,
   "metadata": {},
   "outputs": [],
   "source": [
    "from nbresult import ChallengeResult\n",
    "\n",
    "result = ChallengeResult(\"unsupervised_learning\",\n",
    "    cols=X_engineered.columns.tolist(),\n",
    "    clusters= kmeans.n_clusters,\n",
    "    labels=X_engineered['clusters'].value_counts(normalize=True).values,\n",
    "    score=score_clusters\n",
    ")\n",
    "result.write()"
   ]
  },
  {
   "cell_type": "markdown",
   "metadata": {},
   "source": [
    "## 5 - Preprocressing (1 h)"
   ]
  },
  {
   "cell_type": "markdown",
   "metadata": {},
   "source": [
    "*C6 - Transformer les données d'entrée afin de satisfaire les contraintes inhérentes au modèle (Preprocessing)*"
   ]
  },
  {
   "cell_type": "markdown",
   "metadata": {},
   "source": [
    "🎯 **Construct a preprocessing pipeline for your data**"
   ]
  },
  {
   "cell_type": "code",
   "execution_count": 289,
   "metadata": {
    "slideshow": {
     "slide_type": "notes"
    }
   },
   "outputs": [],
   "source": [
    "# This will help you visualize your pipelines\n",
    "from sklearn import set_config; set_config(display='diagram')"
   ]
  },
  {
   "cell_type": "code",
   "execution_count": 290,
   "metadata": {},
   "outputs": [],
   "source": [
    "# 👉 Do not hesitate to reload a clean new dataset if you need a fresh start.\n",
    "X = df.drop(columns = 'popularity')\n",
    "y = df['popularity']"
   ]
  },
  {
   "cell_type": "markdown",
   "metadata": {},
   "source": [
    "📝 Look at your features with an `object` type in your **df**  \n",
    "☑️ Check their number of unique values  \n",
    "\n",
    "❓ Do you think it would be reasonable or efficient to one-hot encode any of them?  \n",
    "☑️ Store you answer as a string (Yes or No) in **answer_ohe** below"
   ]
  },
  {
   "cell_type": "code",
   "execution_count": 291,
   "metadata": {},
   "outputs": [
    {
     "data": {
      "text/plain": [
       "id              52053\n",
       "name            46641\n",
       "release_date     7547\n",
       "artist          12577\n",
       "dtype: int64"
      ]
     },
     "execution_count": 291,
     "metadata": {},
     "output_type": "execute_result"
    }
   ],
   "source": [
    "df.select_dtypes(include=['object']).nunique()"
   ]
  },
  {
   "cell_type": "code",
   "execution_count": 292,
   "metadata": {},
   "outputs": [],
   "source": [
    "answer_ohe = 'No'"
   ]
  },
  {
   "cell_type": "markdown",
   "metadata": {},
   "source": [
    "### 5.1 - Year"
   ]
  },
  {
   "cell_type": "markdown",
   "metadata": {},
   "source": [
    "📝 Create a custom transformer to extract the *year* from *release_date*  \n",
    "☑️ Use a [`FunctionTransformer`](https://scikit-learn.org/stable/modules/generated/sklearn.preprocessing.FunctionTransformer.html)  \n",
    "☑️ Store your custom transformer in **transformer_year**"
   ]
  },
  {
   "cell_type": "code",
   "execution_count": 379,
   "metadata": {},
   "outputs": [],
   "source": [
    "def year_function(df):\n",
    "    \n",
    "    return pd.DataFrame(pd.to_datetime(df['release_date']).dt.year)"
   ]
  },
  {
   "cell_type": "code",
   "execution_count": 380,
   "metadata": {
    "slideshow": {
     "slide_type": "notes"
    },
    "tags": [
     "challengify"
    ]
   },
   "outputs": [],
   "source": [
    "transformer_year = FunctionTransformer(year_function)"
   ]
  },
  {
   "cell_type": "markdown",
   "metadata": {},
   "source": [
    "📝 Create a pipeline **pipeline_year** with two steps:\n",
    "- your **transformer_year**  \n",
    "- a scaler that ensures values between 0 and 1"
   ]
  },
  {
   "cell_type": "code",
   "execution_count": 381,
   "metadata": {
    "tags": [
     "challengify"
    ]
   },
   "outputs": [],
   "source": [
    "pipeline_year = Pipeline([\n",
    "    ('transformer_year', transformer_year),\n",
    "    ('min_max_scaler',MinMaxScaler())\n",
    "])"
   ]
  },
  {
   "cell_type": "code",
   "execution_count": 382,
   "metadata": {},
   "outputs": [
    {
     "data": {
      "text/html": [
       "<style>#sk-ce6116a8-0484-4298-9bd3-b515871f2300 {color: black;background-color: white;}#sk-ce6116a8-0484-4298-9bd3-b515871f2300 pre{padding: 0;}#sk-ce6116a8-0484-4298-9bd3-b515871f2300 div.sk-toggleable {background-color: white;}#sk-ce6116a8-0484-4298-9bd3-b515871f2300 label.sk-toggleable__label {cursor: pointer;display: block;width: 100%;margin-bottom: 0;padding: 0.3em;box-sizing: border-box;text-align: center;}#sk-ce6116a8-0484-4298-9bd3-b515871f2300 label.sk-toggleable__label-arrow:before {content: \"▸\";float: left;margin-right: 0.25em;color: #696969;}#sk-ce6116a8-0484-4298-9bd3-b515871f2300 label.sk-toggleable__label-arrow:hover:before {color: black;}#sk-ce6116a8-0484-4298-9bd3-b515871f2300 div.sk-estimator:hover label.sk-toggleable__label-arrow:before {color: black;}#sk-ce6116a8-0484-4298-9bd3-b515871f2300 div.sk-toggleable__content {max-height: 0;max-width: 0;overflow: hidden;text-align: left;background-color: #f0f8ff;}#sk-ce6116a8-0484-4298-9bd3-b515871f2300 div.sk-toggleable__content pre {margin: 0.2em;color: black;border-radius: 0.25em;background-color: #f0f8ff;}#sk-ce6116a8-0484-4298-9bd3-b515871f2300 input.sk-toggleable__control:checked~div.sk-toggleable__content {max-height: 200px;max-width: 100%;overflow: auto;}#sk-ce6116a8-0484-4298-9bd3-b515871f2300 input.sk-toggleable__control:checked~label.sk-toggleable__label-arrow:before {content: \"▾\";}#sk-ce6116a8-0484-4298-9bd3-b515871f2300 div.sk-estimator input.sk-toggleable__control:checked~label.sk-toggleable__label {background-color: #d4ebff;}#sk-ce6116a8-0484-4298-9bd3-b515871f2300 div.sk-label input.sk-toggleable__control:checked~label.sk-toggleable__label {background-color: #d4ebff;}#sk-ce6116a8-0484-4298-9bd3-b515871f2300 input.sk-hidden--visually {border: 0;clip: rect(1px 1px 1px 1px);clip: rect(1px, 1px, 1px, 1px);height: 1px;margin: -1px;overflow: hidden;padding: 0;position: absolute;width: 1px;}#sk-ce6116a8-0484-4298-9bd3-b515871f2300 div.sk-estimator {font-family: monospace;background-color: #f0f8ff;border: 1px dotted black;border-radius: 0.25em;box-sizing: border-box;margin-bottom: 0.5em;}#sk-ce6116a8-0484-4298-9bd3-b515871f2300 div.sk-estimator:hover {background-color: #d4ebff;}#sk-ce6116a8-0484-4298-9bd3-b515871f2300 div.sk-parallel-item::after {content: \"\";width: 100%;border-bottom: 1px solid gray;flex-grow: 1;}#sk-ce6116a8-0484-4298-9bd3-b515871f2300 div.sk-label:hover label.sk-toggleable__label {background-color: #d4ebff;}#sk-ce6116a8-0484-4298-9bd3-b515871f2300 div.sk-serial::before {content: \"\";position: absolute;border-left: 1px solid gray;box-sizing: border-box;top: 2em;bottom: 0;left: 50%;}#sk-ce6116a8-0484-4298-9bd3-b515871f2300 div.sk-serial {display: flex;flex-direction: column;align-items: center;background-color: white;padding-right: 0.2em;padding-left: 0.2em;}#sk-ce6116a8-0484-4298-9bd3-b515871f2300 div.sk-item {z-index: 1;}#sk-ce6116a8-0484-4298-9bd3-b515871f2300 div.sk-parallel {display: flex;align-items: stretch;justify-content: center;background-color: white;}#sk-ce6116a8-0484-4298-9bd3-b515871f2300 div.sk-parallel::before {content: \"\";position: absolute;border-left: 1px solid gray;box-sizing: border-box;top: 2em;bottom: 0;left: 50%;}#sk-ce6116a8-0484-4298-9bd3-b515871f2300 div.sk-parallel-item {display: flex;flex-direction: column;position: relative;background-color: white;}#sk-ce6116a8-0484-4298-9bd3-b515871f2300 div.sk-parallel-item:first-child::after {align-self: flex-end;width: 50%;}#sk-ce6116a8-0484-4298-9bd3-b515871f2300 div.sk-parallel-item:last-child::after {align-self: flex-start;width: 50%;}#sk-ce6116a8-0484-4298-9bd3-b515871f2300 div.sk-parallel-item:only-child::after {width: 0;}#sk-ce6116a8-0484-4298-9bd3-b515871f2300 div.sk-dashed-wrapped {border: 1px dashed gray;margin: 0 0.4em 0.5em 0.4em;box-sizing: border-box;padding-bottom: 0.4em;background-color: white;position: relative;}#sk-ce6116a8-0484-4298-9bd3-b515871f2300 div.sk-label label {font-family: monospace;font-weight: bold;background-color: white;display: inline-block;line-height: 1.2em;}#sk-ce6116a8-0484-4298-9bd3-b515871f2300 div.sk-label-container {position: relative;z-index: 2;text-align: center;}#sk-ce6116a8-0484-4298-9bd3-b515871f2300 div.sk-container {/* jupyter's `normalize.less` sets `[hidden] { display: none; }` but bootstrap.min.css set `[hidden] { display: none !important; }` so we also need the `!important` here to be able to override the default hidden behavior on the sphinx rendered scikit-learn.org. See: https://github.com/scikit-learn/scikit-learn/issues/21755 */display: inline-block !important;position: relative;}#sk-ce6116a8-0484-4298-9bd3-b515871f2300 div.sk-text-repr-fallback {display: none;}</style><div id=\"sk-ce6116a8-0484-4298-9bd3-b515871f2300\" class=\"sk-top-container\"><div class=\"sk-text-repr-fallback\"><pre>Pipeline(steps=[(&#x27;transformer_year&#x27;,\n",
       "                 FunctionTransformer(func=&lt;function year_function at 0x7feff9a4c790&gt;)),\n",
       "                (&#x27;min_max_scaler&#x27;, MinMaxScaler())])</pre><b>Please rerun this cell to show the HTML repr or trust the notebook.</b></div><div class=\"sk-container\" hidden><div class=\"sk-item sk-dashed-wrapped\"><div class=\"sk-label-container\"><div class=\"sk-label sk-toggleable\"><input class=\"sk-toggleable__control sk-hidden--visually\" id=\"69ca4621-002a-4286-84ea-6ed3d6b15797\" type=\"checkbox\" ><label for=\"69ca4621-002a-4286-84ea-6ed3d6b15797\" class=\"sk-toggleable__label sk-toggleable__label-arrow\">Pipeline</label><div class=\"sk-toggleable__content\"><pre>Pipeline(steps=[(&#x27;transformer_year&#x27;,\n",
       "                 FunctionTransformer(func=&lt;function year_function at 0x7feff9a4c790&gt;)),\n",
       "                (&#x27;min_max_scaler&#x27;, MinMaxScaler())])</pre></div></div></div><div class=\"sk-serial\"><div class=\"sk-item\"><div class=\"sk-estimator sk-toggleable\"><input class=\"sk-toggleable__control sk-hidden--visually\" id=\"e0b07984-475e-4e59-8dba-cea68359edf2\" type=\"checkbox\" ><label for=\"e0b07984-475e-4e59-8dba-cea68359edf2\" class=\"sk-toggleable__label sk-toggleable__label-arrow\">FunctionTransformer</label><div class=\"sk-toggleable__content\"><pre>FunctionTransformer(func=&lt;function year_function at 0x7feff9a4c790&gt;)</pre></div></div></div><div class=\"sk-item\"><div class=\"sk-estimator sk-toggleable\"><input class=\"sk-toggleable__control sk-hidden--visually\" id=\"64f90d23-ea3b-4956-8f70-da425c4d2117\" type=\"checkbox\" ><label for=\"64f90d23-ea3b-4956-8f70-da425c4d2117\" class=\"sk-toggleable__label sk-toggleable__label-arrow\">MinMaxScaler</label><div class=\"sk-toggleable__content\"><pre>MinMaxScaler()</pre></div></div></div></div></div></div></div>"
      ],
      "text/plain": [
       "Pipeline(steps=[('transformer_year',\n",
       "                 FunctionTransformer(func=<function year_function at 0x7feff9a4c790>)),\n",
       "                ('min_max_scaler', MinMaxScaler())])"
      ]
     },
     "execution_count": 382,
     "metadata": {},
     "output_type": "execute_result"
    }
   ],
   "source": [
    "pipeline_year"
   ]
  },
  {
   "cell_type": "markdown",
   "metadata": {},
   "source": [
    "### 5.2 - Clusters"
   ]
  },
  {
   "cell_type": "markdown",
   "metadata": {},
   "source": [
    "📝 We provide you with a custom transformer to extract a cluster id for each observation  \n",
    "☑️ The [`transform`](https://scikit-learn.org/stable/modules/generated/sklearn.cluster.KMeans.html#sklearn.cluster.KMeans.transform) method of a `KMeans` return an array of shape (n_samples, n_clusters) with the distance to cluster for each pair obs-cluster  \n",
    "☑️ We then simply use an `np.argmin` on the rows to get the index of the center the observation is closest to  \n",
    "☑️ This effectively yields clusters for each observation"
   ]
  },
  {
   "cell_type": "code",
   "execution_count": 383,
   "metadata": {},
   "outputs": [],
   "source": [
    "def process_clusters(clusters):\n",
    "    return np.argmin(clusters, axis=1).reshape((-1, 1))\n",
    "\n",
    "transformer_clusters = FunctionTransformer(process_clusters)"
   ]
  },
  {
   "cell_type": "markdown",
   "metadata": {},
   "source": [
    "📝 Create a pipeline **pipeline_clusters** with three steps:\n",
    "- a `KMeans` with a target number of clusters equals to 5  \n",
    "- your custom transformer **transformer_clusters**  \n",
    "- an encoder that creates a new binary column for each cluster - 1  "
   ]
  },
  {
   "cell_type": "code",
   "execution_count": 384,
   "metadata": {
    "tags": [
     "challengify"
    ]
   },
   "outputs": [],
   "source": [
    "pipeline_clusters = Pipeline([\n",
    "    ('Kmeans', KMeans(n_clusters = 5)),\n",
    "    ('transformer_clusters',transformer_clusters),\n",
    "    ('ohe', OneHotEncoder(sparse = False, handle_unknown = 'ignore', drop = 'first'))\n",
    "])"
   ]
  },
  {
   "cell_type": "code",
   "execution_count": 385,
   "metadata": {},
   "outputs": [
    {
     "data": {
      "text/html": [
       "<style>#sk-fbafbef9-411e-4fc5-9310-a303a2022912 {color: black;background-color: white;}#sk-fbafbef9-411e-4fc5-9310-a303a2022912 pre{padding: 0;}#sk-fbafbef9-411e-4fc5-9310-a303a2022912 div.sk-toggleable {background-color: white;}#sk-fbafbef9-411e-4fc5-9310-a303a2022912 label.sk-toggleable__label {cursor: pointer;display: block;width: 100%;margin-bottom: 0;padding: 0.3em;box-sizing: border-box;text-align: center;}#sk-fbafbef9-411e-4fc5-9310-a303a2022912 label.sk-toggleable__label-arrow:before {content: \"▸\";float: left;margin-right: 0.25em;color: #696969;}#sk-fbafbef9-411e-4fc5-9310-a303a2022912 label.sk-toggleable__label-arrow:hover:before {color: black;}#sk-fbafbef9-411e-4fc5-9310-a303a2022912 div.sk-estimator:hover label.sk-toggleable__label-arrow:before {color: black;}#sk-fbafbef9-411e-4fc5-9310-a303a2022912 div.sk-toggleable__content {max-height: 0;max-width: 0;overflow: hidden;text-align: left;background-color: #f0f8ff;}#sk-fbafbef9-411e-4fc5-9310-a303a2022912 div.sk-toggleable__content pre {margin: 0.2em;color: black;border-radius: 0.25em;background-color: #f0f8ff;}#sk-fbafbef9-411e-4fc5-9310-a303a2022912 input.sk-toggleable__control:checked~div.sk-toggleable__content {max-height: 200px;max-width: 100%;overflow: auto;}#sk-fbafbef9-411e-4fc5-9310-a303a2022912 input.sk-toggleable__control:checked~label.sk-toggleable__label-arrow:before {content: \"▾\";}#sk-fbafbef9-411e-4fc5-9310-a303a2022912 div.sk-estimator input.sk-toggleable__control:checked~label.sk-toggleable__label {background-color: #d4ebff;}#sk-fbafbef9-411e-4fc5-9310-a303a2022912 div.sk-label input.sk-toggleable__control:checked~label.sk-toggleable__label {background-color: #d4ebff;}#sk-fbafbef9-411e-4fc5-9310-a303a2022912 input.sk-hidden--visually {border: 0;clip: rect(1px 1px 1px 1px);clip: rect(1px, 1px, 1px, 1px);height: 1px;margin: -1px;overflow: hidden;padding: 0;position: absolute;width: 1px;}#sk-fbafbef9-411e-4fc5-9310-a303a2022912 div.sk-estimator {font-family: monospace;background-color: #f0f8ff;border: 1px dotted black;border-radius: 0.25em;box-sizing: border-box;margin-bottom: 0.5em;}#sk-fbafbef9-411e-4fc5-9310-a303a2022912 div.sk-estimator:hover {background-color: #d4ebff;}#sk-fbafbef9-411e-4fc5-9310-a303a2022912 div.sk-parallel-item::after {content: \"\";width: 100%;border-bottom: 1px solid gray;flex-grow: 1;}#sk-fbafbef9-411e-4fc5-9310-a303a2022912 div.sk-label:hover label.sk-toggleable__label {background-color: #d4ebff;}#sk-fbafbef9-411e-4fc5-9310-a303a2022912 div.sk-serial::before {content: \"\";position: absolute;border-left: 1px solid gray;box-sizing: border-box;top: 2em;bottom: 0;left: 50%;}#sk-fbafbef9-411e-4fc5-9310-a303a2022912 div.sk-serial {display: flex;flex-direction: column;align-items: center;background-color: white;padding-right: 0.2em;padding-left: 0.2em;}#sk-fbafbef9-411e-4fc5-9310-a303a2022912 div.sk-item {z-index: 1;}#sk-fbafbef9-411e-4fc5-9310-a303a2022912 div.sk-parallel {display: flex;align-items: stretch;justify-content: center;background-color: white;}#sk-fbafbef9-411e-4fc5-9310-a303a2022912 div.sk-parallel::before {content: \"\";position: absolute;border-left: 1px solid gray;box-sizing: border-box;top: 2em;bottom: 0;left: 50%;}#sk-fbafbef9-411e-4fc5-9310-a303a2022912 div.sk-parallel-item {display: flex;flex-direction: column;position: relative;background-color: white;}#sk-fbafbef9-411e-4fc5-9310-a303a2022912 div.sk-parallel-item:first-child::after {align-self: flex-end;width: 50%;}#sk-fbafbef9-411e-4fc5-9310-a303a2022912 div.sk-parallel-item:last-child::after {align-self: flex-start;width: 50%;}#sk-fbafbef9-411e-4fc5-9310-a303a2022912 div.sk-parallel-item:only-child::after {width: 0;}#sk-fbafbef9-411e-4fc5-9310-a303a2022912 div.sk-dashed-wrapped {border: 1px dashed gray;margin: 0 0.4em 0.5em 0.4em;box-sizing: border-box;padding-bottom: 0.4em;background-color: white;position: relative;}#sk-fbafbef9-411e-4fc5-9310-a303a2022912 div.sk-label label {font-family: monospace;font-weight: bold;background-color: white;display: inline-block;line-height: 1.2em;}#sk-fbafbef9-411e-4fc5-9310-a303a2022912 div.sk-label-container {position: relative;z-index: 2;text-align: center;}#sk-fbafbef9-411e-4fc5-9310-a303a2022912 div.sk-container {/* jupyter's `normalize.less` sets `[hidden] { display: none; }` but bootstrap.min.css set `[hidden] { display: none !important; }` so we also need the `!important` here to be able to override the default hidden behavior on the sphinx rendered scikit-learn.org. See: https://github.com/scikit-learn/scikit-learn/issues/21755 */display: inline-block !important;position: relative;}#sk-fbafbef9-411e-4fc5-9310-a303a2022912 div.sk-text-repr-fallback {display: none;}</style><div id=\"sk-fbafbef9-411e-4fc5-9310-a303a2022912\" class=\"sk-top-container\"><div class=\"sk-text-repr-fallback\"><pre>Pipeline(steps=[(&#x27;Kmeans&#x27;, KMeans(n_clusters=5)),\n",
       "                (&#x27;transformer_clusters&#x27;,\n",
       "                 FunctionTransformer(func=&lt;function process_clusters at 0x7feff9a4c820&gt;)),\n",
       "                (&#x27;ohe&#x27;,\n",
       "                 OneHotEncoder(drop=&#x27;first&#x27;, handle_unknown=&#x27;ignore&#x27;,\n",
       "                               sparse=False))])</pre><b>Please rerun this cell to show the HTML repr or trust the notebook.</b></div><div class=\"sk-container\" hidden><div class=\"sk-item sk-dashed-wrapped\"><div class=\"sk-label-container\"><div class=\"sk-label sk-toggleable\"><input class=\"sk-toggleable__control sk-hidden--visually\" id=\"caa9a211-cf68-4ba1-b3bc-0524cee22d65\" type=\"checkbox\" ><label for=\"caa9a211-cf68-4ba1-b3bc-0524cee22d65\" class=\"sk-toggleable__label sk-toggleable__label-arrow\">Pipeline</label><div class=\"sk-toggleable__content\"><pre>Pipeline(steps=[(&#x27;Kmeans&#x27;, KMeans(n_clusters=5)),\n",
       "                (&#x27;transformer_clusters&#x27;,\n",
       "                 FunctionTransformer(func=&lt;function process_clusters at 0x7feff9a4c820&gt;)),\n",
       "                (&#x27;ohe&#x27;,\n",
       "                 OneHotEncoder(drop=&#x27;first&#x27;, handle_unknown=&#x27;ignore&#x27;,\n",
       "                               sparse=False))])</pre></div></div></div><div class=\"sk-serial\"><div class=\"sk-item\"><div class=\"sk-estimator sk-toggleable\"><input class=\"sk-toggleable__control sk-hidden--visually\" id=\"d32ed265-49c7-445c-9e95-759fe4fd3e23\" type=\"checkbox\" ><label for=\"d32ed265-49c7-445c-9e95-759fe4fd3e23\" class=\"sk-toggleable__label sk-toggleable__label-arrow\">KMeans</label><div class=\"sk-toggleable__content\"><pre>KMeans(n_clusters=5)</pre></div></div></div><div class=\"sk-item\"><div class=\"sk-estimator sk-toggleable\"><input class=\"sk-toggleable__control sk-hidden--visually\" id=\"b9303dd8-a643-4f1c-8dff-ca8ec447dc62\" type=\"checkbox\" ><label for=\"b9303dd8-a643-4f1c-8dff-ca8ec447dc62\" class=\"sk-toggleable__label sk-toggleable__label-arrow\">FunctionTransformer</label><div class=\"sk-toggleable__content\"><pre>FunctionTransformer(func=&lt;function process_clusters at 0x7feff9a4c820&gt;)</pre></div></div></div><div class=\"sk-item\"><div class=\"sk-estimator sk-toggleable\"><input class=\"sk-toggleable__control sk-hidden--visually\" id=\"48942163-6ff6-4e58-a11d-20adede5b4da\" type=\"checkbox\" ><label for=\"48942163-6ff6-4e58-a11d-20adede5b4da\" class=\"sk-toggleable__label sk-toggleable__label-arrow\">OneHotEncoder</label><div class=\"sk-toggleable__content\"><pre>OneHotEncoder(drop=&#x27;first&#x27;, handle_unknown=&#x27;ignore&#x27;, sparse=False)</pre></div></div></div></div></div></div></div>"
      ],
      "text/plain": [
       "Pipeline(steps=[('Kmeans', KMeans(n_clusters=5)),\n",
       "                ('transformer_clusters',\n",
       "                 FunctionTransformer(func=<function process_clusters at 0x7feff9a4c820>)),\n",
       "                ('ohe',\n",
       "                 OneHotEncoder(drop='first', handle_unknown='ignore',\n",
       "                               sparse=False))])"
      ]
     },
     "execution_count": 385,
     "metadata": {},
     "output_type": "execute_result"
    }
   ],
   "source": [
    "pipeline_clusters"
   ]
  },
  {
   "cell_type": "markdown",
   "metadata": {},
   "source": [
    "### 5.3 - Artist"
   ]
  },
  {
   "cell_type": "markdown",
   "metadata": {},
   "source": [
    "📝 We provide you with a custom Transformer Class below  \n",
    "☑️ Take some time to understand it  \n",
    "☑️ It computes the average popularity of songs, per artist, on the train set only  \n",
    "☑️ If the artist is unknown in the test set, the average popularity will be equal to the mean popularity on the train set  "
   ]
  },
  {
   "cell_type": "code",
   "execution_count": 386,
   "metadata": {
    "slideshow": {
     "slide_type": "-"
    }
   },
   "outputs": [],
   "source": [
    "from sklearn.base import BaseEstimator, TransformerMixin\n",
    "\n",
    "class ArtistPopularityTransformer(BaseEstimator, TransformerMixin):\n",
    "    \"\"\"\n",
    "    Compute, as a new feature the artist's popularity\n",
    "    Do so by computing the mean popularity of all songs from the artist\n",
    "    Notice that the popularity is computed on the train only to avoid leakage\n",
    "    \"\"\"\n",
    "\n",
    "    def __init__(self):\n",
    "        pass\n",
    "\n",
    "    def fit(self, X, y=None):\n",
    "        \"\"\"\n",
    "        process artist mean popularity from artists songs popularity\n",
    "        process song global mean popularity\n",
    "        \"\"\"\n",
    "\n",
    "        # process artist popularity\n",
    "        self.artist_popularity = y.groupby(X.artist).agg(\"mean\")\n",
    "        self.artist_popularity.name = \"artist_popularity\"\n",
    "\n",
    "        # process mean popularity\n",
    "        self.mean_popularity = y.mean()\n",
    "\n",
    "        return self\n",
    "\n",
    "    def transform(self, X, y=None):\n",
    "        \"\"\"\n",
    "        apply artist mean popularity vs song global mean popularity to songs\n",
    "        \"\"\"\n",
    "\n",
    "        # inject artist popularity\n",
    "        X_copy = X.merge(self.artist_popularity, how=\"left\", left_on=\"artist\", right_index=True)\n",
    "\n",
    "        # fills popularity of unknown artists with song global mean popularity\n",
    "        X_copy.replace(np.nan, self.mean_popularity, inplace=True)\n",
    "\n",
    "        return X_copy[[\"artist_popularity\"]]"
   ]
  },
  {
   "cell_type": "markdown",
   "metadata": {},
   "source": [
    "📝 Create a **pipeline_artist** with two steps:  \n",
    "- the custom `ArtistPopularityTransformer`  \n",
    "- a scaler that ensures values between 0 and 1"
   ]
  },
  {
   "cell_type": "code",
   "execution_count": 387,
   "metadata": {
    "tags": [
     "challengify"
    ]
   },
   "outputs": [],
   "source": [
    "pipeline_artist = Pipeline([\n",
    "    ('artist_popularity', ArtistPopularityTransformer()),\n",
    "    ('MMscaler', MinMaxScaler())\n",
    "])"
   ]
  },
  {
   "cell_type": "code",
   "execution_count": 388,
   "metadata": {},
   "outputs": [
    {
     "data": {
      "text/html": [
       "<style>#sk-d5a75313-0a6c-4cbc-bb20-1813902d882a {color: black;background-color: white;}#sk-d5a75313-0a6c-4cbc-bb20-1813902d882a pre{padding: 0;}#sk-d5a75313-0a6c-4cbc-bb20-1813902d882a div.sk-toggleable {background-color: white;}#sk-d5a75313-0a6c-4cbc-bb20-1813902d882a label.sk-toggleable__label {cursor: pointer;display: block;width: 100%;margin-bottom: 0;padding: 0.3em;box-sizing: border-box;text-align: center;}#sk-d5a75313-0a6c-4cbc-bb20-1813902d882a label.sk-toggleable__label-arrow:before {content: \"▸\";float: left;margin-right: 0.25em;color: #696969;}#sk-d5a75313-0a6c-4cbc-bb20-1813902d882a label.sk-toggleable__label-arrow:hover:before {color: black;}#sk-d5a75313-0a6c-4cbc-bb20-1813902d882a div.sk-estimator:hover label.sk-toggleable__label-arrow:before {color: black;}#sk-d5a75313-0a6c-4cbc-bb20-1813902d882a div.sk-toggleable__content {max-height: 0;max-width: 0;overflow: hidden;text-align: left;background-color: #f0f8ff;}#sk-d5a75313-0a6c-4cbc-bb20-1813902d882a div.sk-toggleable__content pre {margin: 0.2em;color: black;border-radius: 0.25em;background-color: #f0f8ff;}#sk-d5a75313-0a6c-4cbc-bb20-1813902d882a input.sk-toggleable__control:checked~div.sk-toggleable__content {max-height: 200px;max-width: 100%;overflow: auto;}#sk-d5a75313-0a6c-4cbc-bb20-1813902d882a input.sk-toggleable__control:checked~label.sk-toggleable__label-arrow:before {content: \"▾\";}#sk-d5a75313-0a6c-4cbc-bb20-1813902d882a div.sk-estimator input.sk-toggleable__control:checked~label.sk-toggleable__label {background-color: #d4ebff;}#sk-d5a75313-0a6c-4cbc-bb20-1813902d882a div.sk-label input.sk-toggleable__control:checked~label.sk-toggleable__label {background-color: #d4ebff;}#sk-d5a75313-0a6c-4cbc-bb20-1813902d882a input.sk-hidden--visually {border: 0;clip: rect(1px 1px 1px 1px);clip: rect(1px, 1px, 1px, 1px);height: 1px;margin: -1px;overflow: hidden;padding: 0;position: absolute;width: 1px;}#sk-d5a75313-0a6c-4cbc-bb20-1813902d882a div.sk-estimator {font-family: monospace;background-color: #f0f8ff;border: 1px dotted black;border-radius: 0.25em;box-sizing: border-box;margin-bottom: 0.5em;}#sk-d5a75313-0a6c-4cbc-bb20-1813902d882a div.sk-estimator:hover {background-color: #d4ebff;}#sk-d5a75313-0a6c-4cbc-bb20-1813902d882a div.sk-parallel-item::after {content: \"\";width: 100%;border-bottom: 1px solid gray;flex-grow: 1;}#sk-d5a75313-0a6c-4cbc-bb20-1813902d882a div.sk-label:hover label.sk-toggleable__label {background-color: #d4ebff;}#sk-d5a75313-0a6c-4cbc-bb20-1813902d882a div.sk-serial::before {content: \"\";position: absolute;border-left: 1px solid gray;box-sizing: border-box;top: 2em;bottom: 0;left: 50%;}#sk-d5a75313-0a6c-4cbc-bb20-1813902d882a div.sk-serial {display: flex;flex-direction: column;align-items: center;background-color: white;padding-right: 0.2em;padding-left: 0.2em;}#sk-d5a75313-0a6c-4cbc-bb20-1813902d882a div.sk-item {z-index: 1;}#sk-d5a75313-0a6c-4cbc-bb20-1813902d882a div.sk-parallel {display: flex;align-items: stretch;justify-content: center;background-color: white;}#sk-d5a75313-0a6c-4cbc-bb20-1813902d882a div.sk-parallel::before {content: \"\";position: absolute;border-left: 1px solid gray;box-sizing: border-box;top: 2em;bottom: 0;left: 50%;}#sk-d5a75313-0a6c-4cbc-bb20-1813902d882a div.sk-parallel-item {display: flex;flex-direction: column;position: relative;background-color: white;}#sk-d5a75313-0a6c-4cbc-bb20-1813902d882a div.sk-parallel-item:first-child::after {align-self: flex-end;width: 50%;}#sk-d5a75313-0a6c-4cbc-bb20-1813902d882a div.sk-parallel-item:last-child::after {align-self: flex-start;width: 50%;}#sk-d5a75313-0a6c-4cbc-bb20-1813902d882a div.sk-parallel-item:only-child::after {width: 0;}#sk-d5a75313-0a6c-4cbc-bb20-1813902d882a div.sk-dashed-wrapped {border: 1px dashed gray;margin: 0 0.4em 0.5em 0.4em;box-sizing: border-box;padding-bottom: 0.4em;background-color: white;position: relative;}#sk-d5a75313-0a6c-4cbc-bb20-1813902d882a div.sk-label label {font-family: monospace;font-weight: bold;background-color: white;display: inline-block;line-height: 1.2em;}#sk-d5a75313-0a6c-4cbc-bb20-1813902d882a div.sk-label-container {position: relative;z-index: 2;text-align: center;}#sk-d5a75313-0a6c-4cbc-bb20-1813902d882a div.sk-container {/* jupyter's `normalize.less` sets `[hidden] { display: none; }` but bootstrap.min.css set `[hidden] { display: none !important; }` so we also need the `!important` here to be able to override the default hidden behavior on the sphinx rendered scikit-learn.org. See: https://github.com/scikit-learn/scikit-learn/issues/21755 */display: inline-block !important;position: relative;}#sk-d5a75313-0a6c-4cbc-bb20-1813902d882a div.sk-text-repr-fallback {display: none;}</style><div id=\"sk-d5a75313-0a6c-4cbc-bb20-1813902d882a\" class=\"sk-top-container\"><div class=\"sk-text-repr-fallback\"><pre>Pipeline(steps=[(&#x27;artist_popularity&#x27;, ArtistPopularityTransformer()),\n",
       "                (&#x27;MMscaler&#x27;, MinMaxScaler())])</pre><b>Please rerun this cell to show the HTML repr or trust the notebook.</b></div><div class=\"sk-container\" hidden><div class=\"sk-item sk-dashed-wrapped\"><div class=\"sk-label-container\"><div class=\"sk-label sk-toggleable\"><input class=\"sk-toggleable__control sk-hidden--visually\" id=\"84fc2da6-eea6-4cbf-bf19-359458fa4813\" type=\"checkbox\" ><label for=\"84fc2da6-eea6-4cbf-bf19-359458fa4813\" class=\"sk-toggleable__label sk-toggleable__label-arrow\">Pipeline</label><div class=\"sk-toggleable__content\"><pre>Pipeline(steps=[(&#x27;artist_popularity&#x27;, ArtistPopularityTransformer()),\n",
       "                (&#x27;MMscaler&#x27;, MinMaxScaler())])</pre></div></div></div><div class=\"sk-serial\"><div class=\"sk-item\"><div class=\"sk-estimator sk-toggleable\"><input class=\"sk-toggleable__control sk-hidden--visually\" id=\"46b391f4-378c-4923-bb7d-7d91af8d3a46\" type=\"checkbox\" ><label for=\"46b391f4-378c-4923-bb7d-7d91af8d3a46\" class=\"sk-toggleable__label sk-toggleable__label-arrow\">ArtistPopularityTransformer</label><div class=\"sk-toggleable__content\"><pre>ArtistPopularityTransformer()</pre></div></div></div><div class=\"sk-item\"><div class=\"sk-estimator sk-toggleable\"><input class=\"sk-toggleable__control sk-hidden--visually\" id=\"1b3f0204-1c73-4cc4-9d07-8e0934a8e99d\" type=\"checkbox\" ><label for=\"1b3f0204-1c73-4cc4-9d07-8e0934a8e99d\" class=\"sk-toggleable__label sk-toggleable__label-arrow\">MinMaxScaler</label><div class=\"sk-toggleable__content\"><pre>MinMaxScaler()</pre></div></div></div></div></div></div></div>"
      ],
      "text/plain": [
       "Pipeline(steps=[('artist_popularity', ArtistPopularityTransformer()),\n",
       "                ('MMscaler', MinMaxScaler())])"
      ]
     },
     "execution_count": 388,
     "metadata": {},
     "output_type": "execute_result"
    }
   ],
   "source": [
    "pipeline_artist"
   ]
  },
  {
   "cell_type": "markdown",
   "metadata": {},
   "source": [
    "### 5.4 Preprocessing Pipeline"
   ]
  },
  {
   "cell_type": "markdown",
   "metadata": {},
   "source": [
    "📝 Create a transformer that contains all your preprocessing steps using a [`ColumnTransformer`](https://scikit-learn.org/stable/modules/generated/sklearn.compose.ColumnTransformer.html?highlight=column%20transformer#sklearn.compose.ColumnTransformer), which should:  \n",
    "☑️ Apply your **pipeline_clusters** to all numeric features  \n",
    "☑️ Scale all numeric features, so that their scaled values are within 0 and 1  \n",
    "☑️ Apply your **pipeline_year** to the *release_date* field  \n",
    "☑️ Apply your **pipeline_artist** to the *artist* field  \n",
    "☑️ Drop all other fields  "
   ]
  },
  {
   "cell_type": "code",
   "execution_count": 389,
   "metadata": {},
   "outputs": [
    {
     "data": {
      "text/plain": [
       "['acousticness',\n",
       " 'danceability',\n",
       " 'duration_ms',\n",
       " 'energy',\n",
       " 'explicit',\n",
       " 'instrumentalness',\n",
       " 'key',\n",
       " 'liveness',\n",
       " 'loudness',\n",
       " 'mode',\n",
       " 'speechiness',\n",
       " 'tempo',\n",
       " 'valence']"
      ]
     },
     "execution_count": 389,
     "metadata": {},
     "output_type": "execute_result"
    }
   ],
   "source": [
    "numerics = ['int16', 'int32', 'int64', 'float16', 'float32', 'float64']\n",
    "\n",
    "num_col = list(X.select_dtypes(include=numerics).columns)\n",
    "\n",
    "num_col"
   ]
  },
  {
   "cell_type": "code",
   "execution_count": 390,
   "metadata": {},
   "outputs": [
    {
     "data": {
      "text/plain": [
       "Index(['acousticness', 'danceability', 'duration_ms', 'energy', 'explicit',\n",
       "       'id', 'instrumentalness', 'key', 'liveness', 'loudness', 'mode', 'name',\n",
       "       'release_date', 'speechiness', 'tempo', 'valence', 'artist'],\n",
       "      dtype='object')"
      ]
     },
     "execution_count": 390,
     "metadata": {},
     "output_type": "execute_result"
    }
   ],
   "source": [
    "X.columns"
   ]
  },
  {
   "cell_type": "code",
   "execution_count": 391,
   "metadata": {},
   "outputs": [
    {
     "data": {
      "text/html": [
       "<style>#sk-7507575c-5728-4ecd-91cf-7279cbd4a65b {color: black;background-color: white;}#sk-7507575c-5728-4ecd-91cf-7279cbd4a65b pre{padding: 0;}#sk-7507575c-5728-4ecd-91cf-7279cbd4a65b div.sk-toggleable {background-color: white;}#sk-7507575c-5728-4ecd-91cf-7279cbd4a65b label.sk-toggleable__label {cursor: pointer;display: block;width: 100%;margin-bottom: 0;padding: 0.3em;box-sizing: border-box;text-align: center;}#sk-7507575c-5728-4ecd-91cf-7279cbd4a65b label.sk-toggleable__label-arrow:before {content: \"▸\";float: left;margin-right: 0.25em;color: #696969;}#sk-7507575c-5728-4ecd-91cf-7279cbd4a65b label.sk-toggleable__label-arrow:hover:before {color: black;}#sk-7507575c-5728-4ecd-91cf-7279cbd4a65b div.sk-estimator:hover label.sk-toggleable__label-arrow:before {color: black;}#sk-7507575c-5728-4ecd-91cf-7279cbd4a65b div.sk-toggleable__content {max-height: 0;max-width: 0;overflow: hidden;text-align: left;background-color: #f0f8ff;}#sk-7507575c-5728-4ecd-91cf-7279cbd4a65b div.sk-toggleable__content pre {margin: 0.2em;color: black;border-radius: 0.25em;background-color: #f0f8ff;}#sk-7507575c-5728-4ecd-91cf-7279cbd4a65b input.sk-toggleable__control:checked~div.sk-toggleable__content {max-height: 200px;max-width: 100%;overflow: auto;}#sk-7507575c-5728-4ecd-91cf-7279cbd4a65b input.sk-toggleable__control:checked~label.sk-toggleable__label-arrow:before {content: \"▾\";}#sk-7507575c-5728-4ecd-91cf-7279cbd4a65b div.sk-estimator input.sk-toggleable__control:checked~label.sk-toggleable__label {background-color: #d4ebff;}#sk-7507575c-5728-4ecd-91cf-7279cbd4a65b div.sk-label input.sk-toggleable__control:checked~label.sk-toggleable__label {background-color: #d4ebff;}#sk-7507575c-5728-4ecd-91cf-7279cbd4a65b input.sk-hidden--visually {border: 0;clip: rect(1px 1px 1px 1px);clip: rect(1px, 1px, 1px, 1px);height: 1px;margin: -1px;overflow: hidden;padding: 0;position: absolute;width: 1px;}#sk-7507575c-5728-4ecd-91cf-7279cbd4a65b div.sk-estimator {font-family: monospace;background-color: #f0f8ff;border: 1px dotted black;border-radius: 0.25em;box-sizing: border-box;margin-bottom: 0.5em;}#sk-7507575c-5728-4ecd-91cf-7279cbd4a65b div.sk-estimator:hover {background-color: #d4ebff;}#sk-7507575c-5728-4ecd-91cf-7279cbd4a65b div.sk-parallel-item::after {content: \"\";width: 100%;border-bottom: 1px solid gray;flex-grow: 1;}#sk-7507575c-5728-4ecd-91cf-7279cbd4a65b div.sk-label:hover label.sk-toggleable__label {background-color: #d4ebff;}#sk-7507575c-5728-4ecd-91cf-7279cbd4a65b div.sk-serial::before {content: \"\";position: absolute;border-left: 1px solid gray;box-sizing: border-box;top: 2em;bottom: 0;left: 50%;}#sk-7507575c-5728-4ecd-91cf-7279cbd4a65b div.sk-serial {display: flex;flex-direction: column;align-items: center;background-color: white;padding-right: 0.2em;padding-left: 0.2em;}#sk-7507575c-5728-4ecd-91cf-7279cbd4a65b div.sk-item {z-index: 1;}#sk-7507575c-5728-4ecd-91cf-7279cbd4a65b div.sk-parallel {display: flex;align-items: stretch;justify-content: center;background-color: white;}#sk-7507575c-5728-4ecd-91cf-7279cbd4a65b div.sk-parallel::before {content: \"\";position: absolute;border-left: 1px solid gray;box-sizing: border-box;top: 2em;bottom: 0;left: 50%;}#sk-7507575c-5728-4ecd-91cf-7279cbd4a65b div.sk-parallel-item {display: flex;flex-direction: column;position: relative;background-color: white;}#sk-7507575c-5728-4ecd-91cf-7279cbd4a65b div.sk-parallel-item:first-child::after {align-self: flex-end;width: 50%;}#sk-7507575c-5728-4ecd-91cf-7279cbd4a65b div.sk-parallel-item:last-child::after {align-self: flex-start;width: 50%;}#sk-7507575c-5728-4ecd-91cf-7279cbd4a65b div.sk-parallel-item:only-child::after {width: 0;}#sk-7507575c-5728-4ecd-91cf-7279cbd4a65b div.sk-dashed-wrapped {border: 1px dashed gray;margin: 0 0.4em 0.5em 0.4em;box-sizing: border-box;padding-bottom: 0.4em;background-color: white;position: relative;}#sk-7507575c-5728-4ecd-91cf-7279cbd4a65b div.sk-label label {font-family: monospace;font-weight: bold;background-color: white;display: inline-block;line-height: 1.2em;}#sk-7507575c-5728-4ecd-91cf-7279cbd4a65b div.sk-label-container {position: relative;z-index: 2;text-align: center;}#sk-7507575c-5728-4ecd-91cf-7279cbd4a65b div.sk-container {/* jupyter's `normalize.less` sets `[hidden] { display: none; }` but bootstrap.min.css set `[hidden] { display: none !important; }` so we also need the `!important` here to be able to override the default hidden behavior on the sphinx rendered scikit-learn.org. See: https://github.com/scikit-learn/scikit-learn/issues/21755 */display: inline-block !important;position: relative;}#sk-7507575c-5728-4ecd-91cf-7279cbd4a65b div.sk-text-repr-fallback {display: none;}</style><div id=\"sk-7507575c-5728-4ecd-91cf-7279cbd4a65b\" class=\"sk-top-container\"><div class=\"sk-text-repr-fallback\"><pre>ColumnTransformer(transformers=[(&#x27;clusters_num_col&#x27;,\n",
       "                                 Pipeline(steps=[(&#x27;Kmeans&#x27;,\n",
       "                                                  KMeans(n_clusters=5)),\n",
       "                                                 (&#x27;transformer_clusters&#x27;,\n",
       "                                                  FunctionTransformer(func=&lt;function process_clusters at 0x7feff9a4c820&gt;)),\n",
       "                                                 (&#x27;ohe&#x27;,\n",
       "                                                  OneHotEncoder(drop=&#x27;first&#x27;,\n",
       "                                                                handle_unknown=&#x27;ignore&#x27;,\n",
       "                                                                sparse=False))]),\n",
       "                                 [&#x27;acousticness&#x27;, &#x27;danceability&#x27;, &#x27;duration_ms&#x27;,\n",
       "                                  &#x27;energy&#x27;, &#x27;explicit&#x27;, &#x27;instrumentalnes...\n",
       "                                  &#x27;key&#x27;, &#x27;liveness&#x27;, &#x27;loudness&#x27;, &#x27;mode&#x27;,\n",
       "                                  &#x27;speechiness&#x27;, &#x27;tempo&#x27;, &#x27;valence&#x27;]),\n",
       "                                (&#x27;year&#x27;,\n",
       "                                 Pipeline(steps=[(&#x27;transformer_year&#x27;,\n",
       "                                                  FunctionTransformer(func=&lt;function year_function at 0x7feff9a4c790&gt;)),\n",
       "                                                 (&#x27;min_max_scaler&#x27;,\n",
       "                                                  MinMaxScaler())]),\n",
       "                                 [&#x27;release_date&#x27;]),\n",
       "                                (&#x27;artist&#x27;,\n",
       "                                 Pipeline(steps=[(&#x27;artist_popularity&#x27;,\n",
       "                                                  ArtistPopularityTransformer()),\n",
       "                                                 (&#x27;MMscaler&#x27;, MinMaxScaler())]),\n",
       "                                 [&#x27;artist&#x27;])])</pre><b>Please rerun this cell to show the HTML repr or trust the notebook.</b></div><div class=\"sk-container\" hidden><div class=\"sk-item sk-dashed-wrapped\"><div class=\"sk-label-container\"><div class=\"sk-label sk-toggleable\"><input class=\"sk-toggleable__control sk-hidden--visually\" id=\"567a7a77-6904-4e25-9f85-f907dadf3c27\" type=\"checkbox\" ><label for=\"567a7a77-6904-4e25-9f85-f907dadf3c27\" class=\"sk-toggleable__label sk-toggleable__label-arrow\">ColumnTransformer</label><div class=\"sk-toggleable__content\"><pre>ColumnTransformer(transformers=[(&#x27;clusters_num_col&#x27;,\n",
       "                                 Pipeline(steps=[(&#x27;Kmeans&#x27;,\n",
       "                                                  KMeans(n_clusters=5)),\n",
       "                                                 (&#x27;transformer_clusters&#x27;,\n",
       "                                                  FunctionTransformer(func=&lt;function process_clusters at 0x7feff9a4c820&gt;)),\n",
       "                                                 (&#x27;ohe&#x27;,\n",
       "                                                  OneHotEncoder(drop=&#x27;first&#x27;,\n",
       "                                                                handle_unknown=&#x27;ignore&#x27;,\n",
       "                                                                sparse=False))]),\n",
       "                                 [&#x27;acousticness&#x27;, &#x27;danceability&#x27;, &#x27;duration_ms&#x27;,\n",
       "                                  &#x27;energy&#x27;, &#x27;explicit&#x27;, &#x27;instrumentalnes...\n",
       "                                  &#x27;key&#x27;, &#x27;liveness&#x27;, &#x27;loudness&#x27;, &#x27;mode&#x27;,\n",
       "                                  &#x27;speechiness&#x27;, &#x27;tempo&#x27;, &#x27;valence&#x27;]),\n",
       "                                (&#x27;year&#x27;,\n",
       "                                 Pipeline(steps=[(&#x27;transformer_year&#x27;,\n",
       "                                                  FunctionTransformer(func=&lt;function year_function at 0x7feff9a4c790&gt;)),\n",
       "                                                 (&#x27;min_max_scaler&#x27;,\n",
       "                                                  MinMaxScaler())]),\n",
       "                                 [&#x27;release_date&#x27;]),\n",
       "                                (&#x27;artist&#x27;,\n",
       "                                 Pipeline(steps=[(&#x27;artist_popularity&#x27;,\n",
       "                                                  ArtistPopularityTransformer()),\n",
       "                                                 (&#x27;MMscaler&#x27;, MinMaxScaler())]),\n",
       "                                 [&#x27;artist&#x27;])])</pre></div></div></div><div class=\"sk-parallel\"><div class=\"sk-parallel-item\"><div class=\"sk-item\"><div class=\"sk-label-container\"><div class=\"sk-label sk-toggleable\"><input class=\"sk-toggleable__control sk-hidden--visually\" id=\"80835b3a-ddc7-4af7-96bd-fbe06f0dede2\" type=\"checkbox\" ><label for=\"80835b3a-ddc7-4af7-96bd-fbe06f0dede2\" class=\"sk-toggleable__label sk-toggleable__label-arrow\">clusters_num_col</label><div class=\"sk-toggleable__content\"><pre>[&#x27;acousticness&#x27;, &#x27;danceability&#x27;, &#x27;duration_ms&#x27;, &#x27;energy&#x27;, &#x27;explicit&#x27;, &#x27;instrumentalness&#x27;, &#x27;key&#x27;, &#x27;liveness&#x27;, &#x27;loudness&#x27;, &#x27;mode&#x27;, &#x27;speechiness&#x27;, &#x27;tempo&#x27;, &#x27;valence&#x27;]</pre></div></div></div><div class=\"sk-serial\"><div class=\"sk-item\"><div class=\"sk-serial\"><div class=\"sk-item\"><div class=\"sk-estimator sk-toggleable\"><input class=\"sk-toggleable__control sk-hidden--visually\" id=\"86b1a293-b29d-4dda-99b0-f9f60301db6c\" type=\"checkbox\" ><label for=\"86b1a293-b29d-4dda-99b0-f9f60301db6c\" class=\"sk-toggleable__label sk-toggleable__label-arrow\">KMeans</label><div class=\"sk-toggleable__content\"><pre>KMeans(n_clusters=5)</pre></div></div></div><div class=\"sk-item\"><div class=\"sk-estimator sk-toggleable\"><input class=\"sk-toggleable__control sk-hidden--visually\" id=\"d04c3c23-2a12-4221-87aa-851d1aa2bdbb\" type=\"checkbox\" ><label for=\"d04c3c23-2a12-4221-87aa-851d1aa2bdbb\" class=\"sk-toggleable__label sk-toggleable__label-arrow\">FunctionTransformer</label><div class=\"sk-toggleable__content\"><pre>FunctionTransformer(func=&lt;function process_clusters at 0x7feff9a4c820&gt;)</pre></div></div></div><div class=\"sk-item\"><div class=\"sk-estimator sk-toggleable\"><input class=\"sk-toggleable__control sk-hidden--visually\" id=\"d6469b8c-001f-4326-8215-57830a643a2a\" type=\"checkbox\" ><label for=\"d6469b8c-001f-4326-8215-57830a643a2a\" class=\"sk-toggleable__label sk-toggleable__label-arrow\">OneHotEncoder</label><div class=\"sk-toggleable__content\"><pre>OneHotEncoder(drop=&#x27;first&#x27;, handle_unknown=&#x27;ignore&#x27;, sparse=False)</pre></div></div></div></div></div></div></div></div><div class=\"sk-parallel-item\"><div class=\"sk-item\"><div class=\"sk-label-container\"><div class=\"sk-label sk-toggleable\"><input class=\"sk-toggleable__control sk-hidden--visually\" id=\"237a2943-a554-419a-bcad-bde0a6ebca5c\" type=\"checkbox\" ><label for=\"237a2943-a554-419a-bcad-bde0a6ebca5c\" class=\"sk-toggleable__label sk-toggleable__label-arrow\">MMscaler_num_col</label><div class=\"sk-toggleable__content\"><pre>[&#x27;acousticness&#x27;, &#x27;danceability&#x27;, &#x27;duration_ms&#x27;, &#x27;energy&#x27;, &#x27;explicit&#x27;, &#x27;instrumentalness&#x27;, &#x27;key&#x27;, &#x27;liveness&#x27;, &#x27;loudness&#x27;, &#x27;mode&#x27;, &#x27;speechiness&#x27;, &#x27;tempo&#x27;, &#x27;valence&#x27;]</pre></div></div></div><div class=\"sk-serial\"><div class=\"sk-item\"><div class=\"sk-estimator sk-toggleable\"><input class=\"sk-toggleable__control sk-hidden--visually\" id=\"08ff9feb-9815-4ba9-9f64-203d560306cd\" type=\"checkbox\" ><label for=\"08ff9feb-9815-4ba9-9f64-203d560306cd\" class=\"sk-toggleable__label sk-toggleable__label-arrow\">MinMaxScaler</label><div class=\"sk-toggleable__content\"><pre>MinMaxScaler()</pre></div></div></div></div></div></div><div class=\"sk-parallel-item\"><div class=\"sk-item\"><div class=\"sk-label-container\"><div class=\"sk-label sk-toggleable\"><input class=\"sk-toggleable__control sk-hidden--visually\" id=\"025d3b8f-bfff-40cf-ac40-01c5754e4048\" type=\"checkbox\" ><label for=\"025d3b8f-bfff-40cf-ac40-01c5754e4048\" class=\"sk-toggleable__label sk-toggleable__label-arrow\">year</label><div class=\"sk-toggleable__content\"><pre>[&#x27;release_date&#x27;]</pre></div></div></div><div class=\"sk-serial\"><div class=\"sk-item\"><div class=\"sk-serial\"><div class=\"sk-item\"><div class=\"sk-estimator sk-toggleable\"><input class=\"sk-toggleable__control sk-hidden--visually\" id=\"32cff9d1-2106-4c8c-b548-d59e55734833\" type=\"checkbox\" ><label for=\"32cff9d1-2106-4c8c-b548-d59e55734833\" class=\"sk-toggleable__label sk-toggleable__label-arrow\">FunctionTransformer</label><div class=\"sk-toggleable__content\"><pre>FunctionTransformer(func=&lt;function year_function at 0x7feff9a4c790&gt;)</pre></div></div></div><div class=\"sk-item\"><div class=\"sk-estimator sk-toggleable\"><input class=\"sk-toggleable__control sk-hidden--visually\" id=\"a7d44dc3-e349-4c15-8620-5dd5d4ca4629\" type=\"checkbox\" ><label for=\"a7d44dc3-e349-4c15-8620-5dd5d4ca4629\" class=\"sk-toggleable__label sk-toggleable__label-arrow\">MinMaxScaler</label><div class=\"sk-toggleable__content\"><pre>MinMaxScaler()</pre></div></div></div></div></div></div></div></div><div class=\"sk-parallel-item\"><div class=\"sk-item\"><div class=\"sk-label-container\"><div class=\"sk-label sk-toggleable\"><input class=\"sk-toggleable__control sk-hidden--visually\" id=\"cbb80c6a-8c85-441b-abde-0d983072c4a6\" type=\"checkbox\" ><label for=\"cbb80c6a-8c85-441b-abde-0d983072c4a6\" class=\"sk-toggleable__label sk-toggleable__label-arrow\">artist</label><div class=\"sk-toggleable__content\"><pre>[&#x27;artist&#x27;]</pre></div></div></div><div class=\"sk-serial\"><div class=\"sk-item\"><div class=\"sk-serial\"><div class=\"sk-item\"><div class=\"sk-estimator sk-toggleable\"><input class=\"sk-toggleable__control sk-hidden--visually\" id=\"41ec0f0f-1e31-41df-ae0b-8f3989d8d942\" type=\"checkbox\" ><label for=\"41ec0f0f-1e31-41df-ae0b-8f3989d8d942\" class=\"sk-toggleable__label sk-toggleable__label-arrow\">ArtistPopularityTransformer</label><div class=\"sk-toggleable__content\"><pre>ArtistPopularityTransformer()</pre></div></div></div><div class=\"sk-item\"><div class=\"sk-estimator sk-toggleable\"><input class=\"sk-toggleable__control sk-hidden--visually\" id=\"6824aec0-834f-4b0b-abb4-80ed7a81267b\" type=\"checkbox\" ><label for=\"6824aec0-834f-4b0b-abb4-80ed7a81267b\" class=\"sk-toggleable__label sk-toggleable__label-arrow\">MinMaxScaler</label><div class=\"sk-toggleable__content\"><pre>MinMaxScaler()</pre></div></div></div></div></div></div></div></div></div></div></div></div>"
      ],
      "text/plain": [
       "ColumnTransformer(transformers=[('clusters_num_col',\n",
       "                                 Pipeline(steps=[('Kmeans',\n",
       "                                                  KMeans(n_clusters=5)),\n",
       "                                                 ('transformer_clusters',\n",
       "                                                  FunctionTransformer(func=<function process_clusters at 0x7feff9a4c820>)),\n",
       "                                                 ('ohe',\n",
       "                                                  OneHotEncoder(drop='first',\n",
       "                                                                handle_unknown='ignore',\n",
       "                                                                sparse=False))]),\n",
       "                                 ['acousticness', 'danceability', 'duration_ms',\n",
       "                                  'energy', 'explicit', 'instrumentalnes...\n",
       "                                  'key', 'liveness', 'loudness', 'mode',\n",
       "                                  'speechiness', 'tempo', 'valence']),\n",
       "                                ('year',\n",
       "                                 Pipeline(steps=[('transformer_year',\n",
       "                                                  FunctionTransformer(func=<function year_function at 0x7feff9a4c790>)),\n",
       "                                                 ('min_max_scaler',\n",
       "                                                  MinMaxScaler())]),\n",
       "                                 ['release_date']),\n",
       "                                ('artist',\n",
       "                                 Pipeline(steps=[('artist_popularity',\n",
       "                                                  ArtistPopularityTransformer()),\n",
       "                                                 ('MMscaler', MinMaxScaler())]),\n",
       "                                 ['artist'])])"
      ]
     },
     "execution_count": 391,
     "metadata": {},
     "output_type": "execute_result"
    }
   ],
   "source": [
    "preprocessor = ColumnTransformer([\n",
    "    ('clusters_num_col', pipeline_clusters, num_col),\n",
    "    ('MMscaler_num_col', MinMaxScaler(), num_col),\n",
    "    ('year', pipeline_year, ['release_date']),\n",
    "    ('artist', pipeline_artist, ['artist'])\n",
    "],\n",
    "    remainder='drop')\n",
    "\n",
    "preprocessor"
   ]
  },
  {
   "cell_type": "markdown",
   "metadata": {},
   "source": [
    "📝 Use your pipeline to `transform` your **X** and store the result in **X_transformed**"
   ]
  },
  {
   "cell_type": "code",
   "execution_count": 392,
   "metadata": {
    "tags": [
     "challengify"
    ]
   },
   "outputs": [],
   "source": [
    "X_transformed = pd.DataFrame(preprocessor.fit_transform(X,y))"
   ]
  },
  {
   "cell_type": "code",
   "execution_count": 398,
   "metadata": {},
   "outputs": [
    {
     "data": {
      "text/plain": [
       "(52053, 19)"
      ]
     },
     "execution_count": 398,
     "metadata": {},
     "output_type": "execute_result"
    }
   ],
   "source": [
    "X_transformed.shape"
   ]
  },
  {
   "cell_type": "markdown",
   "metadata": {},
   "source": [
    "💾 **Run the following cell to save your results**"
   ]
  },
  {
   "cell_type": "code",
   "execution_count": 399,
   "metadata": {},
   "outputs": [],
   "source": [
    "# Save your preproc\n",
    "from nbresult import ChallengeResult\n",
    "\n",
    "result = ChallengeResult(\n",
    "    \"preprocessing\",\n",
    "    answer=answer_ohe,\n",
    "    shape=X_transformed.shape,\n",
    "    first_observation = X_transformed[0]\n",
    ")\n",
    "result.write()"
   ]
  },
  {
   "cell_type": "markdown",
   "metadata": {},
   "source": [
    "## 6 - Model Selection (40 min)"
   ]
  },
  {
   "cell_type": "markdown",
   "metadata": {},
   "source": [
    "*C8 - Maîtriser les différents algorithmes d'apprentissage afin d'apporter une réponse adaptée à une problématique d'une organisation (entreprise, laboratoire, etc.)*  "
   ]
  },
  {
   "cell_type": "markdown",
   "metadata": {},
   "source": [
    "🎯 **Select the model that yields the best performance for your task**"
   ]
  },
  {
   "cell_type": "markdown",
   "metadata": {},
   "source": [
    "📝 Try model from two different families: linear and ensemble  \n",
    "☑️ We expect you to cross-validate all scores with 5 folds in this section  \n",
    "\n",
    "**If you did not manage to construct the full preprocessing:**  \n",
    "☑️ Construct a light pipeline that use only features in **X_simple** and scale them to values between 0 and 1  "
   ]
  },
  {
   "cell_type": "markdown",
   "metadata": {
    "slideshow": {
     "slide_type": "-"
    }
   },
   "source": [
    "### 6.1 - Linear Models"
   ]
  },
  {
   "cell_type": "markdown",
   "metadata": {},
   "source": [
    "📝 Construct a `Pipeline` that combines your **preproc**  and a linear estimator from `sklearn`  \n",
    "☑️ Assign your pipeline to a variable named **pipe_linear**  \n",
    "☑️ We expect you to cross-validate all scores with 5 folds in this section  \n",
    "☑️ Store the mean of the scores in **score_linear**  "
   ]
  },
  {
   "cell_type": "code",
   "execution_count": 403,
   "metadata": {
    "slideshow": {
     "slide_type": "notes"
    },
    "tags": [
     "challengify"
    ]
   },
   "outputs": [],
   "source": [
    "pipe_linear = make_pipeline(preprocessor, LinearRegression())"
   ]
  },
  {
   "cell_type": "code",
   "execution_count": 404,
   "metadata": {},
   "outputs": [
    {
     "data": {
      "text/html": [
       "<style>#sk-fc623062-609a-414e-b1b1-d258445b00b1 {color: black;background-color: white;}#sk-fc623062-609a-414e-b1b1-d258445b00b1 pre{padding: 0;}#sk-fc623062-609a-414e-b1b1-d258445b00b1 div.sk-toggleable {background-color: white;}#sk-fc623062-609a-414e-b1b1-d258445b00b1 label.sk-toggleable__label {cursor: pointer;display: block;width: 100%;margin-bottom: 0;padding: 0.3em;box-sizing: border-box;text-align: center;}#sk-fc623062-609a-414e-b1b1-d258445b00b1 label.sk-toggleable__label-arrow:before {content: \"▸\";float: left;margin-right: 0.25em;color: #696969;}#sk-fc623062-609a-414e-b1b1-d258445b00b1 label.sk-toggleable__label-arrow:hover:before {color: black;}#sk-fc623062-609a-414e-b1b1-d258445b00b1 div.sk-estimator:hover label.sk-toggleable__label-arrow:before {color: black;}#sk-fc623062-609a-414e-b1b1-d258445b00b1 div.sk-toggleable__content {max-height: 0;max-width: 0;overflow: hidden;text-align: left;background-color: #f0f8ff;}#sk-fc623062-609a-414e-b1b1-d258445b00b1 div.sk-toggleable__content pre {margin: 0.2em;color: black;border-radius: 0.25em;background-color: #f0f8ff;}#sk-fc623062-609a-414e-b1b1-d258445b00b1 input.sk-toggleable__control:checked~div.sk-toggleable__content {max-height: 200px;max-width: 100%;overflow: auto;}#sk-fc623062-609a-414e-b1b1-d258445b00b1 input.sk-toggleable__control:checked~label.sk-toggleable__label-arrow:before {content: \"▾\";}#sk-fc623062-609a-414e-b1b1-d258445b00b1 div.sk-estimator input.sk-toggleable__control:checked~label.sk-toggleable__label {background-color: #d4ebff;}#sk-fc623062-609a-414e-b1b1-d258445b00b1 div.sk-label input.sk-toggleable__control:checked~label.sk-toggleable__label {background-color: #d4ebff;}#sk-fc623062-609a-414e-b1b1-d258445b00b1 input.sk-hidden--visually {border: 0;clip: rect(1px 1px 1px 1px);clip: rect(1px, 1px, 1px, 1px);height: 1px;margin: -1px;overflow: hidden;padding: 0;position: absolute;width: 1px;}#sk-fc623062-609a-414e-b1b1-d258445b00b1 div.sk-estimator {font-family: monospace;background-color: #f0f8ff;border: 1px dotted black;border-radius: 0.25em;box-sizing: border-box;margin-bottom: 0.5em;}#sk-fc623062-609a-414e-b1b1-d258445b00b1 div.sk-estimator:hover {background-color: #d4ebff;}#sk-fc623062-609a-414e-b1b1-d258445b00b1 div.sk-parallel-item::after {content: \"\";width: 100%;border-bottom: 1px solid gray;flex-grow: 1;}#sk-fc623062-609a-414e-b1b1-d258445b00b1 div.sk-label:hover label.sk-toggleable__label {background-color: #d4ebff;}#sk-fc623062-609a-414e-b1b1-d258445b00b1 div.sk-serial::before {content: \"\";position: absolute;border-left: 1px solid gray;box-sizing: border-box;top: 2em;bottom: 0;left: 50%;}#sk-fc623062-609a-414e-b1b1-d258445b00b1 div.sk-serial {display: flex;flex-direction: column;align-items: center;background-color: white;padding-right: 0.2em;padding-left: 0.2em;}#sk-fc623062-609a-414e-b1b1-d258445b00b1 div.sk-item {z-index: 1;}#sk-fc623062-609a-414e-b1b1-d258445b00b1 div.sk-parallel {display: flex;align-items: stretch;justify-content: center;background-color: white;}#sk-fc623062-609a-414e-b1b1-d258445b00b1 div.sk-parallel::before {content: \"\";position: absolute;border-left: 1px solid gray;box-sizing: border-box;top: 2em;bottom: 0;left: 50%;}#sk-fc623062-609a-414e-b1b1-d258445b00b1 div.sk-parallel-item {display: flex;flex-direction: column;position: relative;background-color: white;}#sk-fc623062-609a-414e-b1b1-d258445b00b1 div.sk-parallel-item:first-child::after {align-self: flex-end;width: 50%;}#sk-fc623062-609a-414e-b1b1-d258445b00b1 div.sk-parallel-item:last-child::after {align-self: flex-start;width: 50%;}#sk-fc623062-609a-414e-b1b1-d258445b00b1 div.sk-parallel-item:only-child::after {width: 0;}#sk-fc623062-609a-414e-b1b1-d258445b00b1 div.sk-dashed-wrapped {border: 1px dashed gray;margin: 0 0.4em 0.5em 0.4em;box-sizing: border-box;padding-bottom: 0.4em;background-color: white;position: relative;}#sk-fc623062-609a-414e-b1b1-d258445b00b1 div.sk-label label {font-family: monospace;font-weight: bold;background-color: white;display: inline-block;line-height: 1.2em;}#sk-fc623062-609a-414e-b1b1-d258445b00b1 div.sk-label-container {position: relative;z-index: 2;text-align: center;}#sk-fc623062-609a-414e-b1b1-d258445b00b1 div.sk-container {/* jupyter's `normalize.less` sets `[hidden] { display: none; }` but bootstrap.min.css set `[hidden] { display: none !important; }` so we also need the `!important` here to be able to override the default hidden behavior on the sphinx rendered scikit-learn.org. See: https://github.com/scikit-learn/scikit-learn/issues/21755 */display: inline-block !important;position: relative;}#sk-fc623062-609a-414e-b1b1-d258445b00b1 div.sk-text-repr-fallback {display: none;}</style><div id=\"sk-fc623062-609a-414e-b1b1-d258445b00b1\" class=\"sk-top-container\"><div class=\"sk-text-repr-fallback\"><pre>Pipeline(steps=[(&#x27;columntransformer&#x27;,\n",
       "                 ColumnTransformer(transformers=[(&#x27;clusters_num_col&#x27;,\n",
       "                                                  Pipeline(steps=[(&#x27;Kmeans&#x27;,\n",
       "                                                                   KMeans(n_clusters=5)),\n",
       "                                                                  (&#x27;transformer_clusters&#x27;,\n",
       "                                                                   FunctionTransformer(func=&lt;function process_clusters at 0x7feff9a4c820&gt;)),\n",
       "                                                                  (&#x27;ohe&#x27;,\n",
       "                                                                   OneHotEncoder(drop=&#x27;first&#x27;,\n",
       "                                                                                 handle_unknown=&#x27;ignore&#x27;,\n",
       "                                                                                 sparse=False))]),\n",
       "                                                  [&#x27;acousticness&#x27;,\n",
       "                                                   &#x27;danceability&#x27;,\n",
       "                                                   &#x27;duration_ms&#x27;...\n",
       "                                                   &#x27;mode&#x27;, &#x27;speechiness&#x27;,\n",
       "                                                   &#x27;tempo&#x27;, &#x27;valence&#x27;]),\n",
       "                                                 (&#x27;year&#x27;,\n",
       "                                                  Pipeline(steps=[(&#x27;transformer_year&#x27;,\n",
       "                                                                   FunctionTransformer(func=&lt;function year_function at 0x7feff9a4c790&gt;)),\n",
       "                                                                  (&#x27;min_max_scaler&#x27;,\n",
       "                                                                   MinMaxScaler())]),\n",
       "                                                  [&#x27;release_date&#x27;]),\n",
       "                                                 (&#x27;artist&#x27;,\n",
       "                                                  Pipeline(steps=[(&#x27;artist_popularity&#x27;,\n",
       "                                                                   ArtistPopularityTransformer()),\n",
       "                                                                  (&#x27;MMscaler&#x27;,\n",
       "                                                                   MinMaxScaler())]),\n",
       "                                                  [&#x27;artist&#x27;])])),\n",
       "                (&#x27;linearregression&#x27;, LinearRegression())])</pre><b>Please rerun this cell to show the HTML repr or trust the notebook.</b></div><div class=\"sk-container\" hidden><div class=\"sk-item sk-dashed-wrapped\"><div class=\"sk-label-container\"><div class=\"sk-label sk-toggleable\"><input class=\"sk-toggleable__control sk-hidden--visually\" id=\"d831c0b3-4be0-4293-98c4-d55ae2569167\" type=\"checkbox\" ><label for=\"d831c0b3-4be0-4293-98c4-d55ae2569167\" class=\"sk-toggleable__label sk-toggleable__label-arrow\">Pipeline</label><div class=\"sk-toggleable__content\"><pre>Pipeline(steps=[(&#x27;columntransformer&#x27;,\n",
       "                 ColumnTransformer(transformers=[(&#x27;clusters_num_col&#x27;,\n",
       "                                                  Pipeline(steps=[(&#x27;Kmeans&#x27;,\n",
       "                                                                   KMeans(n_clusters=5)),\n",
       "                                                                  (&#x27;transformer_clusters&#x27;,\n",
       "                                                                   FunctionTransformer(func=&lt;function process_clusters at 0x7feff9a4c820&gt;)),\n",
       "                                                                  (&#x27;ohe&#x27;,\n",
       "                                                                   OneHotEncoder(drop=&#x27;first&#x27;,\n",
       "                                                                                 handle_unknown=&#x27;ignore&#x27;,\n",
       "                                                                                 sparse=False))]),\n",
       "                                                  [&#x27;acousticness&#x27;,\n",
       "                                                   &#x27;danceability&#x27;,\n",
       "                                                   &#x27;duration_ms&#x27;...\n",
       "                                                   &#x27;mode&#x27;, &#x27;speechiness&#x27;,\n",
       "                                                   &#x27;tempo&#x27;, &#x27;valence&#x27;]),\n",
       "                                                 (&#x27;year&#x27;,\n",
       "                                                  Pipeline(steps=[(&#x27;transformer_year&#x27;,\n",
       "                                                                   FunctionTransformer(func=&lt;function year_function at 0x7feff9a4c790&gt;)),\n",
       "                                                                  (&#x27;min_max_scaler&#x27;,\n",
       "                                                                   MinMaxScaler())]),\n",
       "                                                  [&#x27;release_date&#x27;]),\n",
       "                                                 (&#x27;artist&#x27;,\n",
       "                                                  Pipeline(steps=[(&#x27;artist_popularity&#x27;,\n",
       "                                                                   ArtistPopularityTransformer()),\n",
       "                                                                  (&#x27;MMscaler&#x27;,\n",
       "                                                                   MinMaxScaler())]),\n",
       "                                                  [&#x27;artist&#x27;])])),\n",
       "                (&#x27;linearregression&#x27;, LinearRegression())])</pre></div></div></div><div class=\"sk-serial\"><div class=\"sk-item sk-dashed-wrapped\"><div class=\"sk-label-container\"><div class=\"sk-label sk-toggleable\"><input class=\"sk-toggleable__control sk-hidden--visually\" id=\"16fa80c6-c362-4479-9a4a-c9647fd032f1\" type=\"checkbox\" ><label for=\"16fa80c6-c362-4479-9a4a-c9647fd032f1\" class=\"sk-toggleable__label sk-toggleable__label-arrow\">columntransformer: ColumnTransformer</label><div class=\"sk-toggleable__content\"><pre>ColumnTransformer(transformers=[(&#x27;clusters_num_col&#x27;,\n",
       "                                 Pipeline(steps=[(&#x27;Kmeans&#x27;,\n",
       "                                                  KMeans(n_clusters=5)),\n",
       "                                                 (&#x27;transformer_clusters&#x27;,\n",
       "                                                  FunctionTransformer(func=&lt;function process_clusters at 0x7feff9a4c820&gt;)),\n",
       "                                                 (&#x27;ohe&#x27;,\n",
       "                                                  OneHotEncoder(drop=&#x27;first&#x27;,\n",
       "                                                                handle_unknown=&#x27;ignore&#x27;,\n",
       "                                                                sparse=False))]),\n",
       "                                 [&#x27;acousticness&#x27;, &#x27;danceability&#x27;, &#x27;duration_ms&#x27;,\n",
       "                                  &#x27;energy&#x27;, &#x27;explicit&#x27;, &#x27;instrumentalnes...\n",
       "                                  &#x27;key&#x27;, &#x27;liveness&#x27;, &#x27;loudness&#x27;, &#x27;mode&#x27;,\n",
       "                                  &#x27;speechiness&#x27;, &#x27;tempo&#x27;, &#x27;valence&#x27;]),\n",
       "                                (&#x27;year&#x27;,\n",
       "                                 Pipeline(steps=[(&#x27;transformer_year&#x27;,\n",
       "                                                  FunctionTransformer(func=&lt;function year_function at 0x7feff9a4c790&gt;)),\n",
       "                                                 (&#x27;min_max_scaler&#x27;,\n",
       "                                                  MinMaxScaler())]),\n",
       "                                 [&#x27;release_date&#x27;]),\n",
       "                                (&#x27;artist&#x27;,\n",
       "                                 Pipeline(steps=[(&#x27;artist_popularity&#x27;,\n",
       "                                                  ArtistPopularityTransformer()),\n",
       "                                                 (&#x27;MMscaler&#x27;, MinMaxScaler())]),\n",
       "                                 [&#x27;artist&#x27;])])</pre></div></div></div><div class=\"sk-parallel\"><div class=\"sk-parallel-item\"><div class=\"sk-item\"><div class=\"sk-label-container\"><div class=\"sk-label sk-toggleable\"><input class=\"sk-toggleable__control sk-hidden--visually\" id=\"5ece88ad-df15-4fd5-bd66-336a4cb94d99\" type=\"checkbox\" ><label for=\"5ece88ad-df15-4fd5-bd66-336a4cb94d99\" class=\"sk-toggleable__label sk-toggleable__label-arrow\">clusters_num_col</label><div class=\"sk-toggleable__content\"><pre>[&#x27;acousticness&#x27;, &#x27;danceability&#x27;, &#x27;duration_ms&#x27;, &#x27;energy&#x27;, &#x27;explicit&#x27;, &#x27;instrumentalness&#x27;, &#x27;key&#x27;, &#x27;liveness&#x27;, &#x27;loudness&#x27;, &#x27;mode&#x27;, &#x27;speechiness&#x27;, &#x27;tempo&#x27;, &#x27;valence&#x27;]</pre></div></div></div><div class=\"sk-serial\"><div class=\"sk-item\"><div class=\"sk-serial\"><div class=\"sk-item\"><div class=\"sk-estimator sk-toggleable\"><input class=\"sk-toggleable__control sk-hidden--visually\" id=\"50985484-6046-4783-aeb0-61bf24b02f52\" type=\"checkbox\" ><label for=\"50985484-6046-4783-aeb0-61bf24b02f52\" class=\"sk-toggleable__label sk-toggleable__label-arrow\">KMeans</label><div class=\"sk-toggleable__content\"><pre>KMeans(n_clusters=5)</pre></div></div></div><div class=\"sk-item\"><div class=\"sk-estimator sk-toggleable\"><input class=\"sk-toggleable__control sk-hidden--visually\" id=\"0afae789-dc26-4191-ba74-a311aeca6025\" type=\"checkbox\" ><label for=\"0afae789-dc26-4191-ba74-a311aeca6025\" class=\"sk-toggleable__label sk-toggleable__label-arrow\">FunctionTransformer</label><div class=\"sk-toggleable__content\"><pre>FunctionTransformer(func=&lt;function process_clusters at 0x7feff9a4c820&gt;)</pre></div></div></div><div class=\"sk-item\"><div class=\"sk-estimator sk-toggleable\"><input class=\"sk-toggleable__control sk-hidden--visually\" id=\"d504d2d4-14b7-46f9-be7c-e8cce186c295\" type=\"checkbox\" ><label for=\"d504d2d4-14b7-46f9-be7c-e8cce186c295\" class=\"sk-toggleable__label sk-toggleable__label-arrow\">OneHotEncoder</label><div class=\"sk-toggleable__content\"><pre>OneHotEncoder(drop=&#x27;first&#x27;, handle_unknown=&#x27;ignore&#x27;, sparse=False)</pre></div></div></div></div></div></div></div></div><div class=\"sk-parallel-item\"><div class=\"sk-item\"><div class=\"sk-label-container\"><div class=\"sk-label sk-toggleable\"><input class=\"sk-toggleable__control sk-hidden--visually\" id=\"ebf5712b-6b33-433b-8e5c-1a50af219cf0\" type=\"checkbox\" ><label for=\"ebf5712b-6b33-433b-8e5c-1a50af219cf0\" class=\"sk-toggleable__label sk-toggleable__label-arrow\">MMscaler_num_col</label><div class=\"sk-toggleable__content\"><pre>[&#x27;acousticness&#x27;, &#x27;danceability&#x27;, &#x27;duration_ms&#x27;, &#x27;energy&#x27;, &#x27;explicit&#x27;, &#x27;instrumentalness&#x27;, &#x27;key&#x27;, &#x27;liveness&#x27;, &#x27;loudness&#x27;, &#x27;mode&#x27;, &#x27;speechiness&#x27;, &#x27;tempo&#x27;, &#x27;valence&#x27;]</pre></div></div></div><div class=\"sk-serial\"><div class=\"sk-item\"><div class=\"sk-estimator sk-toggleable\"><input class=\"sk-toggleable__control sk-hidden--visually\" id=\"f03b90fe-ba09-4385-9b4b-5b39620ce3ad\" type=\"checkbox\" ><label for=\"f03b90fe-ba09-4385-9b4b-5b39620ce3ad\" class=\"sk-toggleable__label sk-toggleable__label-arrow\">MinMaxScaler</label><div class=\"sk-toggleable__content\"><pre>MinMaxScaler()</pre></div></div></div></div></div></div><div class=\"sk-parallel-item\"><div class=\"sk-item\"><div class=\"sk-label-container\"><div class=\"sk-label sk-toggleable\"><input class=\"sk-toggleable__control sk-hidden--visually\" id=\"45a2f8f9-ae6f-41f0-9d17-914a425f080e\" type=\"checkbox\" ><label for=\"45a2f8f9-ae6f-41f0-9d17-914a425f080e\" class=\"sk-toggleable__label sk-toggleable__label-arrow\">year</label><div class=\"sk-toggleable__content\"><pre>[&#x27;release_date&#x27;]</pre></div></div></div><div class=\"sk-serial\"><div class=\"sk-item\"><div class=\"sk-serial\"><div class=\"sk-item\"><div class=\"sk-estimator sk-toggleable\"><input class=\"sk-toggleable__control sk-hidden--visually\" id=\"68c3286c-16a2-4f8c-a138-8d515a01ba31\" type=\"checkbox\" ><label for=\"68c3286c-16a2-4f8c-a138-8d515a01ba31\" class=\"sk-toggleable__label sk-toggleable__label-arrow\">FunctionTransformer</label><div class=\"sk-toggleable__content\"><pre>FunctionTransformer(func=&lt;function year_function at 0x7feff9a4c790&gt;)</pre></div></div></div><div class=\"sk-item\"><div class=\"sk-estimator sk-toggleable\"><input class=\"sk-toggleable__control sk-hidden--visually\" id=\"06b3ca44-b560-400c-ba73-621eb661dfb8\" type=\"checkbox\" ><label for=\"06b3ca44-b560-400c-ba73-621eb661dfb8\" class=\"sk-toggleable__label sk-toggleable__label-arrow\">MinMaxScaler</label><div class=\"sk-toggleable__content\"><pre>MinMaxScaler()</pre></div></div></div></div></div></div></div></div><div class=\"sk-parallel-item\"><div class=\"sk-item\"><div class=\"sk-label-container\"><div class=\"sk-label sk-toggleable\"><input class=\"sk-toggleable__control sk-hidden--visually\" id=\"d39a4cb4-9c85-41ee-a104-81c1b4f99557\" type=\"checkbox\" ><label for=\"d39a4cb4-9c85-41ee-a104-81c1b4f99557\" class=\"sk-toggleable__label sk-toggleable__label-arrow\">artist</label><div class=\"sk-toggleable__content\"><pre>[&#x27;artist&#x27;]</pre></div></div></div><div class=\"sk-serial\"><div class=\"sk-item\"><div class=\"sk-serial\"><div class=\"sk-item\"><div class=\"sk-estimator sk-toggleable\"><input class=\"sk-toggleable__control sk-hidden--visually\" id=\"61c8ad7d-face-4df9-bc11-3f7691c5c3ce\" type=\"checkbox\" ><label for=\"61c8ad7d-face-4df9-bc11-3f7691c5c3ce\" class=\"sk-toggleable__label sk-toggleable__label-arrow\">ArtistPopularityTransformer</label><div class=\"sk-toggleable__content\"><pre>ArtistPopularityTransformer()</pre></div></div></div><div class=\"sk-item\"><div class=\"sk-estimator sk-toggleable\"><input class=\"sk-toggleable__control sk-hidden--visually\" id=\"f3f786b7-38fa-4ff7-be5f-38e6fa79f757\" type=\"checkbox\" ><label for=\"f3f786b7-38fa-4ff7-be5f-38e6fa79f757\" class=\"sk-toggleable__label sk-toggleable__label-arrow\">MinMaxScaler</label><div class=\"sk-toggleable__content\"><pre>MinMaxScaler()</pre></div></div></div></div></div></div></div></div></div></div><div class=\"sk-item\"><div class=\"sk-estimator sk-toggleable\"><input class=\"sk-toggleable__control sk-hidden--visually\" id=\"1adbe423-c2d5-4763-91e6-00ecaebd9279\" type=\"checkbox\" ><label for=\"1adbe423-c2d5-4763-91e6-00ecaebd9279\" class=\"sk-toggleable__label sk-toggleable__label-arrow\">LinearRegression</label><div class=\"sk-toggleable__content\"><pre>LinearRegression()</pre></div></div></div></div></div></div></div>"
      ],
      "text/plain": [
       "Pipeline(steps=[('columntransformer',\n",
       "                 ColumnTransformer(transformers=[('clusters_num_col',\n",
       "                                                  Pipeline(steps=[('Kmeans',\n",
       "                                                                   KMeans(n_clusters=5)),\n",
       "                                                                  ('transformer_clusters',\n",
       "                                                                   FunctionTransformer(func=<function process_clusters at 0x7feff9a4c820>)),\n",
       "                                                                  ('ohe',\n",
       "                                                                   OneHotEncoder(drop='first',\n",
       "                                                                                 handle_unknown='ignore',\n",
       "                                                                                 sparse=False))]),\n",
       "                                                  ['acousticness',\n",
       "                                                   'danceability',\n",
       "                                                   'duration_ms'...\n",
       "                                                   'mode', 'speechiness',\n",
       "                                                   'tempo', 'valence']),\n",
       "                                                 ('year',\n",
       "                                                  Pipeline(steps=[('transformer_year',\n",
       "                                                                   FunctionTransformer(func=<function year_function at 0x7feff9a4c790>)),\n",
       "                                                                  ('min_max_scaler',\n",
       "                                                                   MinMaxScaler())]),\n",
       "                                                  ['release_date']),\n",
       "                                                 ('artist',\n",
       "                                                  Pipeline(steps=[('artist_popularity',\n",
       "                                                                   ArtistPopularityTransformer()),\n",
       "                                                                  ('MMscaler',\n",
       "                                                                   MinMaxScaler())]),\n",
       "                                                  ['artist'])])),\n",
       "                ('linearregression', LinearRegression())])"
      ]
     },
     "execution_count": 404,
     "metadata": {},
     "output_type": "execute_result"
    }
   ],
   "source": [
    "pipe_linear"
   ]
  },
  {
   "cell_type": "code",
   "execution_count": 424,
   "metadata": {},
   "outputs": [],
   "source": [
    "score_linear = cross_val_score(pipe_linear, X,y,cv=5, scoring = 'neg_root_mean_squared_error')"
   ]
  },
  {
   "cell_type": "code",
   "execution_count": 425,
   "metadata": {},
   "outputs": [],
   "source": [
    "score_linear = score_linear.mean()"
   ]
  },
  {
   "cell_type": "code",
   "execution_count": 426,
   "metadata": {},
   "outputs": [
    {
     "data": {
      "text/plain": [
       "-13.49329322132599"
      ]
     },
     "execution_count": 426,
     "metadata": {},
     "output_type": "execute_result"
    }
   ],
   "source": [
    "score_linear"
   ]
  },
  {
   "cell_type": "markdown",
   "metadata": {},
   "source": [
    "### 6.2 - Ensemble Methods"
   ]
  },
  {
   "cell_type": "markdown",
   "metadata": {},
   "source": [
    "📝 Construct a `Pipeline` that combines your **preproc**  and an ensemble estimator from `sklearn`  \n",
    "☑️ Assign your pipeline to a variable named **pipe_ensemble**  \n",
    "☑️ We expect you to cross-validate all scores with 5 folds in this section  \n",
    "☑️ Store the mean of the scores in **score_ensemble**  "
   ]
  },
  {
   "cell_type": "code",
   "execution_count": 435,
   "metadata": {
    "slideshow": {
     "slide_type": "notes"
    },
    "tags": [
     "challengify"
    ]
   },
   "outputs": [],
   "source": [
    "pipe_ensemble = make_pipeline(preprocessor, RandomForestRegressor(max_depth = 8))"
   ]
  },
  {
   "cell_type": "code",
   "execution_count": 436,
   "metadata": {},
   "outputs": [
    {
     "data": {
      "text/html": [
       "<style>#sk-508b5bfe-1137-44b6-bee8-06c1483d0229 {color: black;background-color: white;}#sk-508b5bfe-1137-44b6-bee8-06c1483d0229 pre{padding: 0;}#sk-508b5bfe-1137-44b6-bee8-06c1483d0229 div.sk-toggleable {background-color: white;}#sk-508b5bfe-1137-44b6-bee8-06c1483d0229 label.sk-toggleable__label {cursor: pointer;display: block;width: 100%;margin-bottom: 0;padding: 0.3em;box-sizing: border-box;text-align: center;}#sk-508b5bfe-1137-44b6-bee8-06c1483d0229 label.sk-toggleable__label-arrow:before {content: \"▸\";float: left;margin-right: 0.25em;color: #696969;}#sk-508b5bfe-1137-44b6-bee8-06c1483d0229 label.sk-toggleable__label-arrow:hover:before {color: black;}#sk-508b5bfe-1137-44b6-bee8-06c1483d0229 div.sk-estimator:hover label.sk-toggleable__label-arrow:before {color: black;}#sk-508b5bfe-1137-44b6-bee8-06c1483d0229 div.sk-toggleable__content {max-height: 0;max-width: 0;overflow: hidden;text-align: left;background-color: #f0f8ff;}#sk-508b5bfe-1137-44b6-bee8-06c1483d0229 div.sk-toggleable__content pre {margin: 0.2em;color: black;border-radius: 0.25em;background-color: #f0f8ff;}#sk-508b5bfe-1137-44b6-bee8-06c1483d0229 input.sk-toggleable__control:checked~div.sk-toggleable__content {max-height: 200px;max-width: 100%;overflow: auto;}#sk-508b5bfe-1137-44b6-bee8-06c1483d0229 input.sk-toggleable__control:checked~label.sk-toggleable__label-arrow:before {content: \"▾\";}#sk-508b5bfe-1137-44b6-bee8-06c1483d0229 div.sk-estimator input.sk-toggleable__control:checked~label.sk-toggleable__label {background-color: #d4ebff;}#sk-508b5bfe-1137-44b6-bee8-06c1483d0229 div.sk-label input.sk-toggleable__control:checked~label.sk-toggleable__label {background-color: #d4ebff;}#sk-508b5bfe-1137-44b6-bee8-06c1483d0229 input.sk-hidden--visually {border: 0;clip: rect(1px 1px 1px 1px);clip: rect(1px, 1px, 1px, 1px);height: 1px;margin: -1px;overflow: hidden;padding: 0;position: absolute;width: 1px;}#sk-508b5bfe-1137-44b6-bee8-06c1483d0229 div.sk-estimator {font-family: monospace;background-color: #f0f8ff;border: 1px dotted black;border-radius: 0.25em;box-sizing: border-box;margin-bottom: 0.5em;}#sk-508b5bfe-1137-44b6-bee8-06c1483d0229 div.sk-estimator:hover {background-color: #d4ebff;}#sk-508b5bfe-1137-44b6-bee8-06c1483d0229 div.sk-parallel-item::after {content: \"\";width: 100%;border-bottom: 1px solid gray;flex-grow: 1;}#sk-508b5bfe-1137-44b6-bee8-06c1483d0229 div.sk-label:hover label.sk-toggleable__label {background-color: #d4ebff;}#sk-508b5bfe-1137-44b6-bee8-06c1483d0229 div.sk-serial::before {content: \"\";position: absolute;border-left: 1px solid gray;box-sizing: border-box;top: 2em;bottom: 0;left: 50%;}#sk-508b5bfe-1137-44b6-bee8-06c1483d0229 div.sk-serial {display: flex;flex-direction: column;align-items: center;background-color: white;padding-right: 0.2em;padding-left: 0.2em;}#sk-508b5bfe-1137-44b6-bee8-06c1483d0229 div.sk-item {z-index: 1;}#sk-508b5bfe-1137-44b6-bee8-06c1483d0229 div.sk-parallel {display: flex;align-items: stretch;justify-content: center;background-color: white;}#sk-508b5bfe-1137-44b6-bee8-06c1483d0229 div.sk-parallel::before {content: \"\";position: absolute;border-left: 1px solid gray;box-sizing: border-box;top: 2em;bottom: 0;left: 50%;}#sk-508b5bfe-1137-44b6-bee8-06c1483d0229 div.sk-parallel-item {display: flex;flex-direction: column;position: relative;background-color: white;}#sk-508b5bfe-1137-44b6-bee8-06c1483d0229 div.sk-parallel-item:first-child::after {align-self: flex-end;width: 50%;}#sk-508b5bfe-1137-44b6-bee8-06c1483d0229 div.sk-parallel-item:last-child::after {align-self: flex-start;width: 50%;}#sk-508b5bfe-1137-44b6-bee8-06c1483d0229 div.sk-parallel-item:only-child::after {width: 0;}#sk-508b5bfe-1137-44b6-bee8-06c1483d0229 div.sk-dashed-wrapped {border: 1px dashed gray;margin: 0 0.4em 0.5em 0.4em;box-sizing: border-box;padding-bottom: 0.4em;background-color: white;position: relative;}#sk-508b5bfe-1137-44b6-bee8-06c1483d0229 div.sk-label label {font-family: monospace;font-weight: bold;background-color: white;display: inline-block;line-height: 1.2em;}#sk-508b5bfe-1137-44b6-bee8-06c1483d0229 div.sk-label-container {position: relative;z-index: 2;text-align: center;}#sk-508b5bfe-1137-44b6-bee8-06c1483d0229 div.sk-container {/* jupyter's `normalize.less` sets `[hidden] { display: none; }` but bootstrap.min.css set `[hidden] { display: none !important; }` so we also need the `!important` here to be able to override the default hidden behavior on the sphinx rendered scikit-learn.org. See: https://github.com/scikit-learn/scikit-learn/issues/21755 */display: inline-block !important;position: relative;}#sk-508b5bfe-1137-44b6-bee8-06c1483d0229 div.sk-text-repr-fallback {display: none;}</style><div id=\"sk-508b5bfe-1137-44b6-bee8-06c1483d0229\" class=\"sk-top-container\"><div class=\"sk-text-repr-fallback\"><pre>Pipeline(steps=[(&#x27;columntransformer&#x27;,\n",
       "                 ColumnTransformer(transformers=[(&#x27;clusters_num_col&#x27;,\n",
       "                                                  Pipeline(steps=[(&#x27;Kmeans&#x27;,\n",
       "                                                                   KMeans(n_clusters=5)),\n",
       "                                                                  (&#x27;transformer_clusters&#x27;,\n",
       "                                                                   FunctionTransformer(func=&lt;function process_clusters at 0x7feff9a4c820&gt;)),\n",
       "                                                                  (&#x27;ohe&#x27;,\n",
       "                                                                   OneHotEncoder(drop=&#x27;first&#x27;,\n",
       "                                                                                 handle_unknown=&#x27;ignore&#x27;,\n",
       "                                                                                 sparse=False))]),\n",
       "                                                  [&#x27;acousticness&#x27;,\n",
       "                                                   &#x27;danceability&#x27;,\n",
       "                                                   &#x27;duration_ms&#x27;...\n",
       "                                                 (&#x27;year&#x27;,\n",
       "                                                  Pipeline(steps=[(&#x27;transformer_year&#x27;,\n",
       "                                                                   FunctionTransformer(func=&lt;function year_function at 0x7feff9a4c790&gt;)),\n",
       "                                                                  (&#x27;min_max_scaler&#x27;,\n",
       "                                                                   MinMaxScaler())]),\n",
       "                                                  [&#x27;release_date&#x27;]),\n",
       "                                                 (&#x27;artist&#x27;,\n",
       "                                                  Pipeline(steps=[(&#x27;artist_popularity&#x27;,\n",
       "                                                                   ArtistPopularityTransformer()),\n",
       "                                                                  (&#x27;MMscaler&#x27;,\n",
       "                                                                   MinMaxScaler())]),\n",
       "                                                  [&#x27;artist&#x27;])])),\n",
       "                (&#x27;randomforestregressor&#x27;, RandomForestRegressor(max_depth=8))])</pre><b>Please rerun this cell to show the HTML repr or trust the notebook.</b></div><div class=\"sk-container\" hidden><div class=\"sk-item sk-dashed-wrapped\"><div class=\"sk-label-container\"><div class=\"sk-label sk-toggleable\"><input class=\"sk-toggleable__control sk-hidden--visually\" id=\"e9740d0b-b9d3-4c38-b581-03db7915446e\" type=\"checkbox\" ><label for=\"e9740d0b-b9d3-4c38-b581-03db7915446e\" class=\"sk-toggleable__label sk-toggleable__label-arrow\">Pipeline</label><div class=\"sk-toggleable__content\"><pre>Pipeline(steps=[(&#x27;columntransformer&#x27;,\n",
       "                 ColumnTransformer(transformers=[(&#x27;clusters_num_col&#x27;,\n",
       "                                                  Pipeline(steps=[(&#x27;Kmeans&#x27;,\n",
       "                                                                   KMeans(n_clusters=5)),\n",
       "                                                                  (&#x27;transformer_clusters&#x27;,\n",
       "                                                                   FunctionTransformer(func=&lt;function process_clusters at 0x7feff9a4c820&gt;)),\n",
       "                                                                  (&#x27;ohe&#x27;,\n",
       "                                                                   OneHotEncoder(drop=&#x27;first&#x27;,\n",
       "                                                                                 handle_unknown=&#x27;ignore&#x27;,\n",
       "                                                                                 sparse=False))]),\n",
       "                                                  [&#x27;acousticness&#x27;,\n",
       "                                                   &#x27;danceability&#x27;,\n",
       "                                                   &#x27;duration_ms&#x27;...\n",
       "                                                 (&#x27;year&#x27;,\n",
       "                                                  Pipeline(steps=[(&#x27;transformer_year&#x27;,\n",
       "                                                                   FunctionTransformer(func=&lt;function year_function at 0x7feff9a4c790&gt;)),\n",
       "                                                                  (&#x27;min_max_scaler&#x27;,\n",
       "                                                                   MinMaxScaler())]),\n",
       "                                                  [&#x27;release_date&#x27;]),\n",
       "                                                 (&#x27;artist&#x27;,\n",
       "                                                  Pipeline(steps=[(&#x27;artist_popularity&#x27;,\n",
       "                                                                   ArtistPopularityTransformer()),\n",
       "                                                                  (&#x27;MMscaler&#x27;,\n",
       "                                                                   MinMaxScaler())]),\n",
       "                                                  [&#x27;artist&#x27;])])),\n",
       "                (&#x27;randomforestregressor&#x27;, RandomForestRegressor(max_depth=8))])</pre></div></div></div><div class=\"sk-serial\"><div class=\"sk-item sk-dashed-wrapped\"><div class=\"sk-label-container\"><div class=\"sk-label sk-toggleable\"><input class=\"sk-toggleable__control sk-hidden--visually\" id=\"081967dd-1a7d-4eb7-863f-10016d4b7565\" type=\"checkbox\" ><label for=\"081967dd-1a7d-4eb7-863f-10016d4b7565\" class=\"sk-toggleable__label sk-toggleable__label-arrow\">columntransformer: ColumnTransformer</label><div class=\"sk-toggleable__content\"><pre>ColumnTransformer(transformers=[(&#x27;clusters_num_col&#x27;,\n",
       "                                 Pipeline(steps=[(&#x27;Kmeans&#x27;,\n",
       "                                                  KMeans(n_clusters=5)),\n",
       "                                                 (&#x27;transformer_clusters&#x27;,\n",
       "                                                  FunctionTransformer(func=&lt;function process_clusters at 0x7feff9a4c820&gt;)),\n",
       "                                                 (&#x27;ohe&#x27;,\n",
       "                                                  OneHotEncoder(drop=&#x27;first&#x27;,\n",
       "                                                                handle_unknown=&#x27;ignore&#x27;,\n",
       "                                                                sparse=False))]),\n",
       "                                 [&#x27;acousticness&#x27;, &#x27;danceability&#x27;, &#x27;duration_ms&#x27;,\n",
       "                                  &#x27;energy&#x27;, &#x27;explicit&#x27;, &#x27;instrumentalnes...\n",
       "                                  &#x27;key&#x27;, &#x27;liveness&#x27;, &#x27;loudness&#x27;, &#x27;mode&#x27;,\n",
       "                                  &#x27;speechiness&#x27;, &#x27;tempo&#x27;, &#x27;valence&#x27;]),\n",
       "                                (&#x27;year&#x27;,\n",
       "                                 Pipeline(steps=[(&#x27;transformer_year&#x27;,\n",
       "                                                  FunctionTransformer(func=&lt;function year_function at 0x7feff9a4c790&gt;)),\n",
       "                                                 (&#x27;min_max_scaler&#x27;,\n",
       "                                                  MinMaxScaler())]),\n",
       "                                 [&#x27;release_date&#x27;]),\n",
       "                                (&#x27;artist&#x27;,\n",
       "                                 Pipeline(steps=[(&#x27;artist_popularity&#x27;,\n",
       "                                                  ArtistPopularityTransformer()),\n",
       "                                                 (&#x27;MMscaler&#x27;, MinMaxScaler())]),\n",
       "                                 [&#x27;artist&#x27;])])</pre></div></div></div><div class=\"sk-parallel\"><div class=\"sk-parallel-item\"><div class=\"sk-item\"><div class=\"sk-label-container\"><div class=\"sk-label sk-toggleable\"><input class=\"sk-toggleable__control sk-hidden--visually\" id=\"1b4d6fc7-540e-492b-b0ee-baf1c09cc0c8\" type=\"checkbox\" ><label for=\"1b4d6fc7-540e-492b-b0ee-baf1c09cc0c8\" class=\"sk-toggleable__label sk-toggleable__label-arrow\">clusters_num_col</label><div class=\"sk-toggleable__content\"><pre>[&#x27;acousticness&#x27;, &#x27;danceability&#x27;, &#x27;duration_ms&#x27;, &#x27;energy&#x27;, &#x27;explicit&#x27;, &#x27;instrumentalness&#x27;, &#x27;key&#x27;, &#x27;liveness&#x27;, &#x27;loudness&#x27;, &#x27;mode&#x27;, &#x27;speechiness&#x27;, &#x27;tempo&#x27;, &#x27;valence&#x27;]</pre></div></div></div><div class=\"sk-serial\"><div class=\"sk-item\"><div class=\"sk-serial\"><div class=\"sk-item\"><div class=\"sk-estimator sk-toggleable\"><input class=\"sk-toggleable__control sk-hidden--visually\" id=\"b9ff426c-a69b-493f-a026-7762972d4495\" type=\"checkbox\" ><label for=\"b9ff426c-a69b-493f-a026-7762972d4495\" class=\"sk-toggleable__label sk-toggleable__label-arrow\">KMeans</label><div class=\"sk-toggleable__content\"><pre>KMeans(n_clusters=5)</pre></div></div></div><div class=\"sk-item\"><div class=\"sk-estimator sk-toggleable\"><input class=\"sk-toggleable__control sk-hidden--visually\" id=\"fb146121-45ca-4418-b92b-fdf91322fa92\" type=\"checkbox\" ><label for=\"fb146121-45ca-4418-b92b-fdf91322fa92\" class=\"sk-toggleable__label sk-toggleable__label-arrow\">FunctionTransformer</label><div class=\"sk-toggleable__content\"><pre>FunctionTransformer(func=&lt;function process_clusters at 0x7feff9a4c820&gt;)</pre></div></div></div><div class=\"sk-item\"><div class=\"sk-estimator sk-toggleable\"><input class=\"sk-toggleable__control sk-hidden--visually\" id=\"1793065f-6624-4fcc-ba61-7622a4ad1ace\" type=\"checkbox\" ><label for=\"1793065f-6624-4fcc-ba61-7622a4ad1ace\" class=\"sk-toggleable__label sk-toggleable__label-arrow\">OneHotEncoder</label><div class=\"sk-toggleable__content\"><pre>OneHotEncoder(drop=&#x27;first&#x27;, handle_unknown=&#x27;ignore&#x27;, sparse=False)</pre></div></div></div></div></div></div></div></div><div class=\"sk-parallel-item\"><div class=\"sk-item\"><div class=\"sk-label-container\"><div class=\"sk-label sk-toggleable\"><input class=\"sk-toggleable__control sk-hidden--visually\" id=\"e1b74317-98fb-4743-8333-288b84a16fa0\" type=\"checkbox\" ><label for=\"e1b74317-98fb-4743-8333-288b84a16fa0\" class=\"sk-toggleable__label sk-toggleable__label-arrow\">MMscaler_num_col</label><div class=\"sk-toggleable__content\"><pre>[&#x27;acousticness&#x27;, &#x27;danceability&#x27;, &#x27;duration_ms&#x27;, &#x27;energy&#x27;, &#x27;explicit&#x27;, &#x27;instrumentalness&#x27;, &#x27;key&#x27;, &#x27;liveness&#x27;, &#x27;loudness&#x27;, &#x27;mode&#x27;, &#x27;speechiness&#x27;, &#x27;tempo&#x27;, &#x27;valence&#x27;]</pre></div></div></div><div class=\"sk-serial\"><div class=\"sk-item\"><div class=\"sk-estimator sk-toggleable\"><input class=\"sk-toggleable__control sk-hidden--visually\" id=\"1f05dd39-e425-4874-803e-8d0f0444d7b4\" type=\"checkbox\" ><label for=\"1f05dd39-e425-4874-803e-8d0f0444d7b4\" class=\"sk-toggleable__label sk-toggleable__label-arrow\">MinMaxScaler</label><div class=\"sk-toggleable__content\"><pre>MinMaxScaler()</pre></div></div></div></div></div></div><div class=\"sk-parallel-item\"><div class=\"sk-item\"><div class=\"sk-label-container\"><div class=\"sk-label sk-toggleable\"><input class=\"sk-toggleable__control sk-hidden--visually\" id=\"ed292482-d54e-487e-b0ce-bb2df62f941d\" type=\"checkbox\" ><label for=\"ed292482-d54e-487e-b0ce-bb2df62f941d\" class=\"sk-toggleable__label sk-toggleable__label-arrow\">year</label><div class=\"sk-toggleable__content\"><pre>[&#x27;release_date&#x27;]</pre></div></div></div><div class=\"sk-serial\"><div class=\"sk-item\"><div class=\"sk-serial\"><div class=\"sk-item\"><div class=\"sk-estimator sk-toggleable\"><input class=\"sk-toggleable__control sk-hidden--visually\" id=\"12fb110d-9843-487b-874d-a4290c1f8eba\" type=\"checkbox\" ><label for=\"12fb110d-9843-487b-874d-a4290c1f8eba\" class=\"sk-toggleable__label sk-toggleable__label-arrow\">FunctionTransformer</label><div class=\"sk-toggleable__content\"><pre>FunctionTransformer(func=&lt;function year_function at 0x7feff9a4c790&gt;)</pre></div></div></div><div class=\"sk-item\"><div class=\"sk-estimator sk-toggleable\"><input class=\"sk-toggleable__control sk-hidden--visually\" id=\"6a56b004-c343-46eb-883a-cc877fedb405\" type=\"checkbox\" ><label for=\"6a56b004-c343-46eb-883a-cc877fedb405\" class=\"sk-toggleable__label sk-toggleable__label-arrow\">MinMaxScaler</label><div class=\"sk-toggleable__content\"><pre>MinMaxScaler()</pre></div></div></div></div></div></div></div></div><div class=\"sk-parallel-item\"><div class=\"sk-item\"><div class=\"sk-label-container\"><div class=\"sk-label sk-toggleable\"><input class=\"sk-toggleable__control sk-hidden--visually\" id=\"c5f0e407-a021-4188-8ff5-5de80add7ffa\" type=\"checkbox\" ><label for=\"c5f0e407-a021-4188-8ff5-5de80add7ffa\" class=\"sk-toggleable__label sk-toggleable__label-arrow\">artist</label><div class=\"sk-toggleable__content\"><pre>[&#x27;artist&#x27;]</pre></div></div></div><div class=\"sk-serial\"><div class=\"sk-item\"><div class=\"sk-serial\"><div class=\"sk-item\"><div class=\"sk-estimator sk-toggleable\"><input class=\"sk-toggleable__control sk-hidden--visually\" id=\"0ba8ab9d-7b9a-4e45-b279-adf11d5670f7\" type=\"checkbox\" ><label for=\"0ba8ab9d-7b9a-4e45-b279-adf11d5670f7\" class=\"sk-toggleable__label sk-toggleable__label-arrow\">ArtistPopularityTransformer</label><div class=\"sk-toggleable__content\"><pre>ArtistPopularityTransformer()</pre></div></div></div><div class=\"sk-item\"><div class=\"sk-estimator sk-toggleable\"><input class=\"sk-toggleable__control sk-hidden--visually\" id=\"d165bc61-b7a5-46cd-a594-7b7509815f15\" type=\"checkbox\" ><label for=\"d165bc61-b7a5-46cd-a594-7b7509815f15\" class=\"sk-toggleable__label sk-toggleable__label-arrow\">MinMaxScaler</label><div class=\"sk-toggleable__content\"><pre>MinMaxScaler()</pre></div></div></div></div></div></div></div></div></div></div><div class=\"sk-item\"><div class=\"sk-estimator sk-toggleable\"><input class=\"sk-toggleable__control sk-hidden--visually\" id=\"a5d827d9-4211-4d79-95fa-52e528a72e80\" type=\"checkbox\" ><label for=\"a5d827d9-4211-4d79-95fa-52e528a72e80\" class=\"sk-toggleable__label sk-toggleable__label-arrow\">RandomForestRegressor</label><div class=\"sk-toggleable__content\"><pre>RandomForestRegressor(max_depth=8)</pre></div></div></div></div></div></div></div>"
      ],
      "text/plain": [
       "Pipeline(steps=[('columntransformer',\n",
       "                 ColumnTransformer(transformers=[('clusters_num_col',\n",
       "                                                  Pipeline(steps=[('Kmeans',\n",
       "                                                                   KMeans(n_clusters=5)),\n",
       "                                                                  ('transformer_clusters',\n",
       "                                                                   FunctionTransformer(func=<function process_clusters at 0x7feff9a4c820>)),\n",
       "                                                                  ('ohe',\n",
       "                                                                   OneHotEncoder(drop='first',\n",
       "                                                                                 handle_unknown='ignore',\n",
       "                                                                                 sparse=False))]),\n",
       "                                                  ['acousticness',\n",
       "                                                   'danceability',\n",
       "                                                   'duration_ms'...\n",
       "                                                 ('year',\n",
       "                                                  Pipeline(steps=[('transformer_year',\n",
       "                                                                   FunctionTransformer(func=<function year_function at 0x7feff9a4c790>)),\n",
       "                                                                  ('min_max_scaler',\n",
       "                                                                   MinMaxScaler())]),\n",
       "                                                  ['release_date']),\n",
       "                                                 ('artist',\n",
       "                                                  Pipeline(steps=[('artist_popularity',\n",
       "                                                                   ArtistPopularityTransformer()),\n",
       "                                                                  ('MMscaler',\n",
       "                                                                   MinMaxScaler())]),\n",
       "                                                  ['artist'])])),\n",
       "                ('randomforestregressor', RandomForestRegressor(max_depth=8))])"
      ]
     },
     "execution_count": 436,
     "metadata": {},
     "output_type": "execute_result"
    }
   ],
   "source": [
    "pipe_ensemble"
   ]
  },
  {
   "cell_type": "code",
   "execution_count": 437,
   "metadata": {},
   "outputs": [],
   "source": [
    "score_ensemble = cross_val_score(pipe_ensemble, X,y,cv=5,scoring = 'neg_root_mean_squared_error')"
   ]
  },
  {
   "cell_type": "code",
   "execution_count": 438,
   "metadata": {},
   "outputs": [],
   "source": [
    "score_ensemble = score_ensemble.mean()"
   ]
  },
  {
   "cell_type": "code",
   "execution_count": 439,
   "metadata": {},
   "outputs": [
    {
     "data": {
      "text/plain": [
       "-12.142731817797385"
      ]
     },
     "execution_count": 439,
     "metadata": {},
     "output_type": "execute_result"
    }
   ],
   "source": [
    "score_ensemble"
   ]
  },
  {
   "cell_type": "markdown",
   "metadata": {},
   "source": [
    "💾 **Run the following cell to save your results**"
   ]
  },
  {
   "cell_type": "code",
   "execution_count": 440,
   "metadata": {},
   "outputs": [],
   "source": [
    "from nbresult import ChallengeResult\n",
    "\n",
    "result = ChallengeResult(\"model_selection\",\n",
    "    baseline=baseline_score,\n",
    "    estimator_linear=pipe_linear._final_estimator,\n",
    "    estimator_ensemble=pipe_ensemble._final_estimator,\n",
    "    score_linear=score_linear,\n",
    "    score_ensemble=score_ensemble)\n",
    "result.write()"
   ]
  },
  {
   "cell_type": "markdown",
   "metadata": {},
   "source": [
    "## 7 - Fine-tuning (25 min)"
   ]
  },
  {
   "cell_type": "markdown",
   "metadata": {},
   "source": [
    "*C11 - Améliorer les capacités prédictives d'un systèmes en sélectionnant un modèle différent ou en modifiant ses hyperparamètres en vue de corriger des erreurs (hyperparameter tuning)*"
   ]
  },
  {
   "cell_type": "markdown",
   "metadata": {},
   "source": [
    "🎯 **Fine-tune your best model to achieve the highest possible score**"
   ]
  },
  {
   "cell_type": "markdown",
   "metadata": {},
   "source": [
    "📝 Create a cross-validated grid search and assign it to **search**  \n",
    "☑️ Choose the model that yielded the best result in section 6  \n",
    "☑️ Create a **grid**, a `dict`, that stores the hyperparameters you want to search  \n",
    "☑️ Limit yourself to 2 hyperparameters, with up to 3 possible values for each one  \n",
    "☑️ Use only one scoring method, the one you stored in **scoring** in section 2  "
   ]
  },
  {
   "cell_type": "code",
   "execution_count": 441,
   "metadata": {},
   "outputs": [
    {
     "data": {
      "text/plain": [
       "{'memory': None,\n",
       " 'steps': [('columntransformer',\n",
       "   ColumnTransformer(transformers=[('clusters_num_col',\n",
       "                                    Pipeline(steps=[('Kmeans',\n",
       "                                                     KMeans(n_clusters=5)),\n",
       "                                                    ('transformer_clusters',\n",
       "                                                     FunctionTransformer(func=<function process_clusters at 0x7feff9a4c820>)),\n",
       "                                                    ('ohe',\n",
       "                                                     OneHotEncoder(drop='first',\n",
       "                                                                   handle_unknown='ignore',\n",
       "                                                                   sparse=False))]),\n",
       "                                    ['acousticness', 'danceability', 'duration_ms',\n",
       "                                     'energy', 'explicit', 'instrumentalnes...\n",
       "                                     'key', 'liveness', 'loudness', 'mode',\n",
       "                                     'speechiness', 'tempo', 'valence']),\n",
       "                                   ('year',\n",
       "                                    Pipeline(steps=[('transformer_year',\n",
       "                                                     FunctionTransformer(func=<function year_function at 0x7feff9a4c790>)),\n",
       "                                                    ('min_max_scaler',\n",
       "                                                     MinMaxScaler())]),\n",
       "                                    ['release_date']),\n",
       "                                   ('artist',\n",
       "                                    Pipeline(steps=[('artist_popularity',\n",
       "                                                     ArtistPopularityTransformer()),\n",
       "                                                    ('MMscaler', MinMaxScaler())]),\n",
       "                                    ['artist'])])),\n",
       "  ('randomforestregressor', RandomForestRegressor(max_depth=8))],\n",
       " 'verbose': False,\n",
       " 'columntransformer': ColumnTransformer(transformers=[('clusters_num_col',\n",
       "                                  Pipeline(steps=[('Kmeans',\n",
       "                                                   KMeans(n_clusters=5)),\n",
       "                                                  ('transformer_clusters',\n",
       "                                                   FunctionTransformer(func=<function process_clusters at 0x7feff9a4c820>)),\n",
       "                                                  ('ohe',\n",
       "                                                   OneHotEncoder(drop='first',\n",
       "                                                                 handle_unknown='ignore',\n",
       "                                                                 sparse=False))]),\n",
       "                                  ['acousticness', 'danceability', 'duration_ms',\n",
       "                                   'energy', 'explicit', 'instrumentalnes...\n",
       "                                   'key', 'liveness', 'loudness', 'mode',\n",
       "                                   'speechiness', 'tempo', 'valence']),\n",
       "                                 ('year',\n",
       "                                  Pipeline(steps=[('transformer_year',\n",
       "                                                   FunctionTransformer(func=<function year_function at 0x7feff9a4c790>)),\n",
       "                                                  ('min_max_scaler',\n",
       "                                                   MinMaxScaler())]),\n",
       "                                  ['release_date']),\n",
       "                                 ('artist',\n",
       "                                  Pipeline(steps=[('artist_popularity',\n",
       "                                                   ArtistPopularityTransformer()),\n",
       "                                                  ('MMscaler', MinMaxScaler())]),\n",
       "                                  ['artist'])]),\n",
       " 'randomforestregressor': RandomForestRegressor(max_depth=8),\n",
       " 'columntransformer__n_jobs': None,\n",
       " 'columntransformer__remainder': 'drop',\n",
       " 'columntransformer__sparse_threshold': 0.3,\n",
       " 'columntransformer__transformer_weights': None,\n",
       " 'columntransformer__transformers': [('clusters_num_col',\n",
       "   Pipeline(steps=[('Kmeans', KMeans(n_clusters=5)),\n",
       "                   ('transformer_clusters',\n",
       "                    FunctionTransformer(func=<function process_clusters at 0x7feff9a4c820>)),\n",
       "                   ('ohe',\n",
       "                    OneHotEncoder(drop='first', handle_unknown='ignore',\n",
       "                                  sparse=False))]),\n",
       "   ['acousticness',\n",
       "    'danceability',\n",
       "    'duration_ms',\n",
       "    'energy',\n",
       "    'explicit',\n",
       "    'instrumentalness',\n",
       "    'key',\n",
       "    'liveness',\n",
       "    'loudness',\n",
       "    'mode',\n",
       "    'speechiness',\n",
       "    'tempo',\n",
       "    'valence']),\n",
       "  ('MMscaler_num_col',\n",
       "   MinMaxScaler(),\n",
       "   ['acousticness',\n",
       "    'danceability',\n",
       "    'duration_ms',\n",
       "    'energy',\n",
       "    'explicit',\n",
       "    'instrumentalness',\n",
       "    'key',\n",
       "    'liveness',\n",
       "    'loudness',\n",
       "    'mode',\n",
       "    'speechiness',\n",
       "    'tempo',\n",
       "    'valence']),\n",
       "  ('year',\n",
       "   Pipeline(steps=[('transformer_year',\n",
       "                    FunctionTransformer(func=<function year_function at 0x7feff9a4c790>)),\n",
       "                   ('min_max_scaler', MinMaxScaler())]),\n",
       "   ['release_date']),\n",
       "  ('artist',\n",
       "   Pipeline(steps=[('artist_popularity', ArtistPopularityTransformer()),\n",
       "                   ('MMscaler', MinMaxScaler())]),\n",
       "   ['artist'])],\n",
       " 'columntransformer__verbose': False,\n",
       " 'columntransformer__verbose_feature_names_out': True,\n",
       " 'columntransformer__clusters_num_col': Pipeline(steps=[('Kmeans', KMeans(n_clusters=5)),\n",
       "                 ('transformer_clusters',\n",
       "                  FunctionTransformer(func=<function process_clusters at 0x7feff9a4c820>)),\n",
       "                 ('ohe',\n",
       "                  OneHotEncoder(drop='first', handle_unknown='ignore',\n",
       "                                sparse=False))]),\n",
       " 'columntransformer__MMscaler_num_col': MinMaxScaler(),\n",
       " 'columntransformer__year': Pipeline(steps=[('transformer_year',\n",
       "                  FunctionTransformer(func=<function year_function at 0x7feff9a4c790>)),\n",
       "                 ('min_max_scaler', MinMaxScaler())]),\n",
       " 'columntransformer__artist': Pipeline(steps=[('artist_popularity', ArtistPopularityTransformer()),\n",
       "                 ('MMscaler', MinMaxScaler())]),\n",
       " 'columntransformer__clusters_num_col__memory': None,\n",
       " 'columntransformer__clusters_num_col__steps': [('Kmeans',\n",
       "   KMeans(n_clusters=5)),\n",
       "  ('transformer_clusters',\n",
       "   FunctionTransformer(func=<function process_clusters at 0x7feff9a4c820>)),\n",
       "  ('ohe', OneHotEncoder(drop='first', handle_unknown='ignore', sparse=False))],\n",
       " 'columntransformer__clusters_num_col__verbose': False,\n",
       " 'columntransformer__clusters_num_col__Kmeans': KMeans(n_clusters=5),\n",
       " 'columntransformer__clusters_num_col__transformer_clusters': FunctionTransformer(func=<function process_clusters at 0x7feff9a4c820>),\n",
       " 'columntransformer__clusters_num_col__ohe': OneHotEncoder(drop='first', handle_unknown='ignore', sparse=False),\n",
       " 'columntransformer__clusters_num_col__Kmeans__algorithm': 'auto',\n",
       " 'columntransformer__clusters_num_col__Kmeans__copy_x': True,\n",
       " 'columntransformer__clusters_num_col__Kmeans__init': 'k-means++',\n",
       " 'columntransformer__clusters_num_col__Kmeans__max_iter': 300,\n",
       " 'columntransformer__clusters_num_col__Kmeans__n_clusters': 5,\n",
       " 'columntransformer__clusters_num_col__Kmeans__n_init': 10,\n",
       " 'columntransformer__clusters_num_col__Kmeans__random_state': None,\n",
       " 'columntransformer__clusters_num_col__Kmeans__tol': 0.0001,\n",
       " 'columntransformer__clusters_num_col__Kmeans__verbose': 0,\n",
       " 'columntransformer__clusters_num_col__transformer_clusters__accept_sparse': False,\n",
       " 'columntransformer__clusters_num_col__transformer_clusters__check_inverse': True,\n",
       " 'columntransformer__clusters_num_col__transformer_clusters__func': <function __main__.process_clusters(clusters)>,\n",
       " 'columntransformer__clusters_num_col__transformer_clusters__inv_kw_args': None,\n",
       " 'columntransformer__clusters_num_col__transformer_clusters__inverse_func': None,\n",
       " 'columntransformer__clusters_num_col__transformer_clusters__kw_args': None,\n",
       " 'columntransformer__clusters_num_col__transformer_clusters__validate': False,\n",
       " 'columntransformer__clusters_num_col__ohe__categories': 'auto',\n",
       " 'columntransformer__clusters_num_col__ohe__drop': 'first',\n",
       " 'columntransformer__clusters_num_col__ohe__dtype': numpy.float64,\n",
       " 'columntransformer__clusters_num_col__ohe__handle_unknown': 'ignore',\n",
       " 'columntransformer__clusters_num_col__ohe__sparse': False,\n",
       " 'columntransformer__MMscaler_num_col__clip': False,\n",
       " 'columntransformer__MMscaler_num_col__copy': True,\n",
       " 'columntransformer__MMscaler_num_col__feature_range': (0, 1),\n",
       " 'columntransformer__year__memory': None,\n",
       " 'columntransformer__year__steps': [('transformer_year',\n",
       "   FunctionTransformer(func=<function year_function at 0x7feff9a4c790>)),\n",
       "  ('min_max_scaler', MinMaxScaler())],\n",
       " 'columntransformer__year__verbose': False,\n",
       " 'columntransformer__year__transformer_year': FunctionTransformer(func=<function year_function at 0x7feff9a4c790>),\n",
       " 'columntransformer__year__min_max_scaler': MinMaxScaler(),\n",
       " 'columntransformer__year__transformer_year__accept_sparse': False,\n",
       " 'columntransformer__year__transformer_year__check_inverse': True,\n",
       " 'columntransformer__year__transformer_year__func': <function __main__.year_function(df)>,\n",
       " 'columntransformer__year__transformer_year__inv_kw_args': None,\n",
       " 'columntransformer__year__transformer_year__inverse_func': None,\n",
       " 'columntransformer__year__transformer_year__kw_args': None,\n",
       " 'columntransformer__year__transformer_year__validate': False,\n",
       " 'columntransformer__year__min_max_scaler__clip': False,\n",
       " 'columntransformer__year__min_max_scaler__copy': True,\n",
       " 'columntransformer__year__min_max_scaler__feature_range': (0, 1),\n",
       " 'columntransformer__artist__memory': None,\n",
       " 'columntransformer__artist__steps': [('artist_popularity',\n",
       "   ArtistPopularityTransformer()),\n",
       "  ('MMscaler', MinMaxScaler())],\n",
       " 'columntransformer__artist__verbose': False,\n",
       " 'columntransformer__artist__artist_popularity': ArtistPopularityTransformer(),\n",
       " 'columntransformer__artist__MMscaler': MinMaxScaler(),\n",
       " 'columntransformer__artist__MMscaler__clip': False,\n",
       " 'columntransformer__artist__MMscaler__copy': True,\n",
       " 'columntransformer__artist__MMscaler__feature_range': (0, 1),\n",
       " 'randomforestregressor__bootstrap': True,\n",
       " 'randomforestregressor__ccp_alpha': 0.0,\n",
       " 'randomforestregressor__criterion': 'squared_error',\n",
       " 'randomforestregressor__max_depth': 8,\n",
       " 'randomforestregressor__max_features': 'auto',\n",
       " 'randomforestregressor__max_leaf_nodes': None,\n",
       " 'randomforestregressor__max_samples': None,\n",
       " 'randomforestregressor__min_impurity_decrease': 0.0,\n",
       " 'randomforestregressor__min_samples_leaf': 1,\n",
       " 'randomforestregressor__min_samples_split': 2,\n",
       " 'randomforestregressor__min_weight_fraction_leaf': 0.0,\n",
       " 'randomforestregressor__n_estimators': 100,\n",
       " 'randomforestregressor__n_jobs': None,\n",
       " 'randomforestregressor__oob_score': False,\n",
       " 'randomforestregressor__random_state': None,\n",
       " 'randomforestregressor__verbose': 0,\n",
       " 'randomforestregressor__warm_start': False}"
      ]
     },
     "execution_count": 441,
     "metadata": {},
     "output_type": "execute_result"
    }
   ],
   "source": [
    "pipe_ensemble.get_params()"
   ]
  },
  {
   "cell_type": "code",
   "execution_count": 445,
   "metadata": {
    "tags": [
     "challengify"
    ]
   },
   "outputs": [],
   "source": [
    "grid = {'randomforestregressor__max_depth' : [2,4,8],\n",
    "       'randomforestregressor__min_samples_split' : [2,4,8]}"
   ]
  },
  {
   "cell_type": "code",
   "execution_count": 450,
   "metadata": {},
   "outputs": [],
   "source": [
    "search = GridSearchCV(\n",
    "    pipe_ensemble, \n",
    "    param_grid = grid,\n",
    "    cv=5,\n",
    "    n_jobs = -1,\n",
    "    verbose = 3,\n",
    "    scoring=\"neg_root_mean_squared_error\")"
   ]
  },
  {
   "cell_type": "code",
   "execution_count": 451,
   "metadata": {},
   "outputs": [
    {
     "name": "stdout",
     "output_type": "stream",
     "text": [
      "Fitting 5 folds for each of 9 candidates, totalling 45 fits\n"
     ]
    },
    {
     "data": {
      "text/html": [
       "<style>#sk-13271640-b32d-403f-b438-1009efa852d3 {color: black;background-color: white;}#sk-13271640-b32d-403f-b438-1009efa852d3 pre{padding: 0;}#sk-13271640-b32d-403f-b438-1009efa852d3 div.sk-toggleable {background-color: white;}#sk-13271640-b32d-403f-b438-1009efa852d3 label.sk-toggleable__label {cursor: pointer;display: block;width: 100%;margin-bottom: 0;padding: 0.3em;box-sizing: border-box;text-align: center;}#sk-13271640-b32d-403f-b438-1009efa852d3 label.sk-toggleable__label-arrow:before {content: \"▸\";float: left;margin-right: 0.25em;color: #696969;}#sk-13271640-b32d-403f-b438-1009efa852d3 label.sk-toggleable__label-arrow:hover:before {color: black;}#sk-13271640-b32d-403f-b438-1009efa852d3 div.sk-estimator:hover label.sk-toggleable__label-arrow:before {color: black;}#sk-13271640-b32d-403f-b438-1009efa852d3 div.sk-toggleable__content {max-height: 0;max-width: 0;overflow: hidden;text-align: left;background-color: #f0f8ff;}#sk-13271640-b32d-403f-b438-1009efa852d3 div.sk-toggleable__content pre {margin: 0.2em;color: black;border-radius: 0.25em;background-color: #f0f8ff;}#sk-13271640-b32d-403f-b438-1009efa852d3 input.sk-toggleable__control:checked~div.sk-toggleable__content {max-height: 200px;max-width: 100%;overflow: auto;}#sk-13271640-b32d-403f-b438-1009efa852d3 input.sk-toggleable__control:checked~label.sk-toggleable__label-arrow:before {content: \"▾\";}#sk-13271640-b32d-403f-b438-1009efa852d3 div.sk-estimator input.sk-toggleable__control:checked~label.sk-toggleable__label {background-color: #d4ebff;}#sk-13271640-b32d-403f-b438-1009efa852d3 div.sk-label input.sk-toggleable__control:checked~label.sk-toggleable__label {background-color: #d4ebff;}#sk-13271640-b32d-403f-b438-1009efa852d3 input.sk-hidden--visually {border: 0;clip: rect(1px 1px 1px 1px);clip: rect(1px, 1px, 1px, 1px);height: 1px;margin: -1px;overflow: hidden;padding: 0;position: absolute;width: 1px;}#sk-13271640-b32d-403f-b438-1009efa852d3 div.sk-estimator {font-family: monospace;background-color: #f0f8ff;border: 1px dotted black;border-radius: 0.25em;box-sizing: border-box;margin-bottom: 0.5em;}#sk-13271640-b32d-403f-b438-1009efa852d3 div.sk-estimator:hover {background-color: #d4ebff;}#sk-13271640-b32d-403f-b438-1009efa852d3 div.sk-parallel-item::after {content: \"\";width: 100%;border-bottom: 1px solid gray;flex-grow: 1;}#sk-13271640-b32d-403f-b438-1009efa852d3 div.sk-label:hover label.sk-toggleable__label {background-color: #d4ebff;}#sk-13271640-b32d-403f-b438-1009efa852d3 div.sk-serial::before {content: \"\";position: absolute;border-left: 1px solid gray;box-sizing: border-box;top: 2em;bottom: 0;left: 50%;}#sk-13271640-b32d-403f-b438-1009efa852d3 div.sk-serial {display: flex;flex-direction: column;align-items: center;background-color: white;padding-right: 0.2em;padding-left: 0.2em;}#sk-13271640-b32d-403f-b438-1009efa852d3 div.sk-item {z-index: 1;}#sk-13271640-b32d-403f-b438-1009efa852d3 div.sk-parallel {display: flex;align-items: stretch;justify-content: center;background-color: white;}#sk-13271640-b32d-403f-b438-1009efa852d3 div.sk-parallel::before {content: \"\";position: absolute;border-left: 1px solid gray;box-sizing: border-box;top: 2em;bottom: 0;left: 50%;}#sk-13271640-b32d-403f-b438-1009efa852d3 div.sk-parallel-item {display: flex;flex-direction: column;position: relative;background-color: white;}#sk-13271640-b32d-403f-b438-1009efa852d3 div.sk-parallel-item:first-child::after {align-self: flex-end;width: 50%;}#sk-13271640-b32d-403f-b438-1009efa852d3 div.sk-parallel-item:last-child::after {align-self: flex-start;width: 50%;}#sk-13271640-b32d-403f-b438-1009efa852d3 div.sk-parallel-item:only-child::after {width: 0;}#sk-13271640-b32d-403f-b438-1009efa852d3 div.sk-dashed-wrapped {border: 1px dashed gray;margin: 0 0.4em 0.5em 0.4em;box-sizing: border-box;padding-bottom: 0.4em;background-color: white;position: relative;}#sk-13271640-b32d-403f-b438-1009efa852d3 div.sk-label label {font-family: monospace;font-weight: bold;background-color: white;display: inline-block;line-height: 1.2em;}#sk-13271640-b32d-403f-b438-1009efa852d3 div.sk-label-container {position: relative;z-index: 2;text-align: center;}#sk-13271640-b32d-403f-b438-1009efa852d3 div.sk-container {/* jupyter's `normalize.less` sets `[hidden] { display: none; }` but bootstrap.min.css set `[hidden] { display: none !important; }` so we also need the `!important` here to be able to override the default hidden behavior on the sphinx rendered scikit-learn.org. See: https://github.com/scikit-learn/scikit-learn/issues/21755 */display: inline-block !important;position: relative;}#sk-13271640-b32d-403f-b438-1009efa852d3 div.sk-text-repr-fallback {display: none;}</style><div id=\"sk-13271640-b32d-403f-b438-1009efa852d3\" class=\"sk-top-container\"><div class=\"sk-text-repr-fallback\"><pre>GridSearchCV(cv=5,\n",
       "             estimator=Pipeline(steps=[(&#x27;columntransformer&#x27;,\n",
       "                                        ColumnTransformer(transformers=[(&#x27;clusters_num_col&#x27;,\n",
       "                                                                         Pipeline(steps=[(&#x27;Kmeans&#x27;,\n",
       "                                                                                          KMeans(n_clusters=5)),\n",
       "                                                                                         (&#x27;transformer_clusters&#x27;,\n",
       "                                                                                          FunctionTransformer(func=&lt;function process_clusters at 0x7feff9a4c820&gt;)),\n",
       "                                                                                         (&#x27;ohe&#x27;,\n",
       "                                                                                          OneHotEncoder(drop=&#x27;first&#x27;,\n",
       "                                                                                                        handle_unknown=&#x27;ignore&#x27;,\n",
       "                                                                                                        sparse=False))]),\n",
       "                                                                         [&#x27;acousticness&#x27;,...\n",
       "                                                                        (&#x27;artist&#x27;,\n",
       "                                                                         Pipeline(steps=[(&#x27;artist_popularity&#x27;,\n",
       "                                                                                          ArtistPopularityTransformer()),\n",
       "                                                                                         (&#x27;MMscaler&#x27;,\n",
       "                                                                                          MinMaxScaler())]),\n",
       "                                                                         [&#x27;artist&#x27;])])),\n",
       "                                       (&#x27;randomforestregressor&#x27;,\n",
       "                                        RandomForestRegressor(max_depth=8))]),\n",
       "             n_jobs=-1,\n",
       "             param_grid={&#x27;randomforestregressor__max_depth&#x27;: [2, 4, 8],\n",
       "                         &#x27;randomforestregressor__min_samples_split&#x27;: [2, 4, 8]},\n",
       "             scoring=&#x27;neg_root_mean_squared_error&#x27;, verbose=3)</pre><b>Please rerun this cell to show the HTML repr or trust the notebook.</b></div><div class=\"sk-container\" hidden><div class=\"sk-item sk-dashed-wrapped\"><div class=\"sk-label-container\"><div class=\"sk-label sk-toggleable\"><input class=\"sk-toggleable__control sk-hidden--visually\" id=\"2dc08e30-2bab-4a54-90e1-b3dab99d8145\" type=\"checkbox\" ><label for=\"2dc08e30-2bab-4a54-90e1-b3dab99d8145\" class=\"sk-toggleable__label sk-toggleable__label-arrow\">GridSearchCV</label><div class=\"sk-toggleable__content\"><pre>GridSearchCV(cv=5,\n",
       "             estimator=Pipeline(steps=[(&#x27;columntransformer&#x27;,\n",
       "                                        ColumnTransformer(transformers=[(&#x27;clusters_num_col&#x27;,\n",
       "                                                                         Pipeline(steps=[(&#x27;Kmeans&#x27;,\n",
       "                                                                                          KMeans(n_clusters=5)),\n",
       "                                                                                         (&#x27;transformer_clusters&#x27;,\n",
       "                                                                                          FunctionTransformer(func=&lt;function process_clusters at 0x7feff9a4c820&gt;)),\n",
       "                                                                                         (&#x27;ohe&#x27;,\n",
       "                                                                                          OneHotEncoder(drop=&#x27;first&#x27;,\n",
       "                                                                                                        handle_unknown=&#x27;ignore&#x27;,\n",
       "                                                                                                        sparse=False))]),\n",
       "                                                                         [&#x27;acousticness&#x27;,...\n",
       "                                                                        (&#x27;artist&#x27;,\n",
       "                                                                         Pipeline(steps=[(&#x27;artist_popularity&#x27;,\n",
       "                                                                                          ArtistPopularityTransformer()),\n",
       "                                                                                         (&#x27;MMscaler&#x27;,\n",
       "                                                                                          MinMaxScaler())]),\n",
       "                                                                         [&#x27;artist&#x27;])])),\n",
       "                                       (&#x27;randomforestregressor&#x27;,\n",
       "                                        RandomForestRegressor(max_depth=8))]),\n",
       "             n_jobs=-1,\n",
       "             param_grid={&#x27;randomforestregressor__max_depth&#x27;: [2, 4, 8],\n",
       "                         &#x27;randomforestregressor__min_samples_split&#x27;: [2, 4, 8]},\n",
       "             scoring=&#x27;neg_root_mean_squared_error&#x27;, verbose=3)</pre></div></div></div><div class=\"sk-parallel\"><div class=\"sk-parallel-item\"><div class=\"sk-item\"><div class=\"sk-serial\"><div class=\"sk-item\"><div class=\"sk-serial\"><div class=\"sk-item sk-dashed-wrapped\"><div class=\"sk-label-container\"><div class=\"sk-label sk-toggleable\"><input class=\"sk-toggleable__control sk-hidden--visually\" id=\"7d4ae269-0bbf-4726-9e51-742dc0d6caca\" type=\"checkbox\" ><label for=\"7d4ae269-0bbf-4726-9e51-742dc0d6caca\" class=\"sk-toggleable__label sk-toggleable__label-arrow\">columntransformer: ColumnTransformer</label><div class=\"sk-toggleable__content\"><pre>ColumnTransformer(transformers=[(&#x27;clusters_num_col&#x27;,\n",
       "                                 Pipeline(steps=[(&#x27;Kmeans&#x27;,\n",
       "                                                  KMeans(n_clusters=5)),\n",
       "                                                 (&#x27;transformer_clusters&#x27;,\n",
       "                                                  FunctionTransformer(func=&lt;function process_clusters at 0x7feff9a4c820&gt;)),\n",
       "                                                 (&#x27;ohe&#x27;,\n",
       "                                                  OneHotEncoder(drop=&#x27;first&#x27;,\n",
       "                                                                handle_unknown=&#x27;ignore&#x27;,\n",
       "                                                                sparse=False))]),\n",
       "                                 [&#x27;acousticness&#x27;, &#x27;danceability&#x27;, &#x27;duration_ms&#x27;,\n",
       "                                  &#x27;energy&#x27;, &#x27;explicit&#x27;, &#x27;instrumentalnes...\n",
       "                                  &#x27;key&#x27;, &#x27;liveness&#x27;, &#x27;loudness&#x27;, &#x27;mode&#x27;,\n",
       "                                  &#x27;speechiness&#x27;, &#x27;tempo&#x27;, &#x27;valence&#x27;]),\n",
       "                                (&#x27;year&#x27;,\n",
       "                                 Pipeline(steps=[(&#x27;transformer_year&#x27;,\n",
       "                                                  FunctionTransformer(func=&lt;function year_function at 0x7feff9a4c790&gt;)),\n",
       "                                                 (&#x27;min_max_scaler&#x27;,\n",
       "                                                  MinMaxScaler())]),\n",
       "                                 [&#x27;release_date&#x27;]),\n",
       "                                (&#x27;artist&#x27;,\n",
       "                                 Pipeline(steps=[(&#x27;artist_popularity&#x27;,\n",
       "                                                  ArtistPopularityTransformer()),\n",
       "                                                 (&#x27;MMscaler&#x27;, MinMaxScaler())]),\n",
       "                                 [&#x27;artist&#x27;])])</pre></div></div></div><div class=\"sk-parallel\"><div class=\"sk-parallel-item\"><div class=\"sk-item\"><div class=\"sk-label-container\"><div class=\"sk-label sk-toggleable\"><input class=\"sk-toggleable__control sk-hidden--visually\" id=\"85adf3f0-1c8a-447b-991c-8eb8dbc7d4fa\" type=\"checkbox\" ><label for=\"85adf3f0-1c8a-447b-991c-8eb8dbc7d4fa\" class=\"sk-toggleable__label sk-toggleable__label-arrow\">clusters_num_col</label><div class=\"sk-toggleable__content\"><pre>[&#x27;acousticness&#x27;, &#x27;danceability&#x27;, &#x27;duration_ms&#x27;, &#x27;energy&#x27;, &#x27;explicit&#x27;, &#x27;instrumentalness&#x27;, &#x27;key&#x27;, &#x27;liveness&#x27;, &#x27;loudness&#x27;, &#x27;mode&#x27;, &#x27;speechiness&#x27;, &#x27;tempo&#x27;, &#x27;valence&#x27;]</pre></div></div></div><div class=\"sk-serial\"><div class=\"sk-item\"><div class=\"sk-serial\"><div class=\"sk-item\"><div class=\"sk-estimator sk-toggleable\"><input class=\"sk-toggleable__control sk-hidden--visually\" id=\"b0ee6deb-7aed-43ce-90a9-a51b579bc3e5\" type=\"checkbox\" ><label for=\"b0ee6deb-7aed-43ce-90a9-a51b579bc3e5\" class=\"sk-toggleable__label sk-toggleable__label-arrow\">KMeans</label><div class=\"sk-toggleable__content\"><pre>KMeans(n_clusters=5)</pre></div></div></div><div class=\"sk-item\"><div class=\"sk-estimator sk-toggleable\"><input class=\"sk-toggleable__control sk-hidden--visually\" id=\"0884fec9-c927-4fad-9082-b820a6655c29\" type=\"checkbox\" ><label for=\"0884fec9-c927-4fad-9082-b820a6655c29\" class=\"sk-toggleable__label sk-toggleable__label-arrow\">FunctionTransformer</label><div class=\"sk-toggleable__content\"><pre>FunctionTransformer(func=&lt;function process_clusters at 0x7feff9a4c820&gt;)</pre></div></div></div><div class=\"sk-item\"><div class=\"sk-estimator sk-toggleable\"><input class=\"sk-toggleable__control sk-hidden--visually\" id=\"ff3582c7-201c-4ae3-b104-62867535a388\" type=\"checkbox\" ><label for=\"ff3582c7-201c-4ae3-b104-62867535a388\" class=\"sk-toggleable__label sk-toggleable__label-arrow\">OneHotEncoder</label><div class=\"sk-toggleable__content\"><pre>OneHotEncoder(drop=&#x27;first&#x27;, handle_unknown=&#x27;ignore&#x27;, sparse=False)</pre></div></div></div></div></div></div></div></div><div class=\"sk-parallel-item\"><div class=\"sk-item\"><div class=\"sk-label-container\"><div class=\"sk-label sk-toggleable\"><input class=\"sk-toggleable__control sk-hidden--visually\" id=\"3f6e8374-959a-466a-aa7e-4e100e86dfea\" type=\"checkbox\" ><label for=\"3f6e8374-959a-466a-aa7e-4e100e86dfea\" class=\"sk-toggleable__label sk-toggleable__label-arrow\">MMscaler_num_col</label><div class=\"sk-toggleable__content\"><pre>[&#x27;acousticness&#x27;, &#x27;danceability&#x27;, &#x27;duration_ms&#x27;, &#x27;energy&#x27;, &#x27;explicit&#x27;, &#x27;instrumentalness&#x27;, &#x27;key&#x27;, &#x27;liveness&#x27;, &#x27;loudness&#x27;, &#x27;mode&#x27;, &#x27;speechiness&#x27;, &#x27;tempo&#x27;, &#x27;valence&#x27;]</pre></div></div></div><div class=\"sk-serial\"><div class=\"sk-item\"><div class=\"sk-estimator sk-toggleable\"><input class=\"sk-toggleable__control sk-hidden--visually\" id=\"d0ed9e8e-efc7-4cbc-89d6-f09b869b3a4d\" type=\"checkbox\" ><label for=\"d0ed9e8e-efc7-4cbc-89d6-f09b869b3a4d\" class=\"sk-toggleable__label sk-toggleable__label-arrow\">MinMaxScaler</label><div class=\"sk-toggleable__content\"><pre>MinMaxScaler()</pre></div></div></div></div></div></div><div class=\"sk-parallel-item\"><div class=\"sk-item\"><div class=\"sk-label-container\"><div class=\"sk-label sk-toggleable\"><input class=\"sk-toggleable__control sk-hidden--visually\" id=\"4be8887d-dd7b-46de-89c7-5aa1f6148218\" type=\"checkbox\" ><label for=\"4be8887d-dd7b-46de-89c7-5aa1f6148218\" class=\"sk-toggleable__label sk-toggleable__label-arrow\">year</label><div class=\"sk-toggleable__content\"><pre>[&#x27;release_date&#x27;]</pre></div></div></div><div class=\"sk-serial\"><div class=\"sk-item\"><div class=\"sk-serial\"><div class=\"sk-item\"><div class=\"sk-estimator sk-toggleable\"><input class=\"sk-toggleable__control sk-hidden--visually\" id=\"ffdd2cae-2e94-4067-a887-e3a10d832547\" type=\"checkbox\" ><label for=\"ffdd2cae-2e94-4067-a887-e3a10d832547\" class=\"sk-toggleable__label sk-toggleable__label-arrow\">FunctionTransformer</label><div class=\"sk-toggleable__content\"><pre>FunctionTransformer(func=&lt;function year_function at 0x7feff9a4c790&gt;)</pre></div></div></div><div class=\"sk-item\"><div class=\"sk-estimator sk-toggleable\"><input class=\"sk-toggleable__control sk-hidden--visually\" id=\"b7e4bf4b-b5fe-4b11-a92f-99fd0e62b338\" type=\"checkbox\" ><label for=\"b7e4bf4b-b5fe-4b11-a92f-99fd0e62b338\" class=\"sk-toggleable__label sk-toggleable__label-arrow\">MinMaxScaler</label><div class=\"sk-toggleable__content\"><pre>MinMaxScaler()</pre></div></div></div></div></div></div></div></div><div class=\"sk-parallel-item\"><div class=\"sk-item\"><div class=\"sk-label-container\"><div class=\"sk-label sk-toggleable\"><input class=\"sk-toggleable__control sk-hidden--visually\" id=\"13d77d7d-2ad0-4a3a-b6d7-dbee28b5518d\" type=\"checkbox\" ><label for=\"13d77d7d-2ad0-4a3a-b6d7-dbee28b5518d\" class=\"sk-toggleable__label sk-toggleable__label-arrow\">artist</label><div class=\"sk-toggleable__content\"><pre>[&#x27;artist&#x27;]</pre></div></div></div><div class=\"sk-serial\"><div class=\"sk-item\"><div class=\"sk-serial\"><div class=\"sk-item\"><div class=\"sk-estimator sk-toggleable\"><input class=\"sk-toggleable__control sk-hidden--visually\" id=\"ebecd944-f503-4192-bed6-b9f4b9b759e0\" type=\"checkbox\" ><label for=\"ebecd944-f503-4192-bed6-b9f4b9b759e0\" class=\"sk-toggleable__label sk-toggleable__label-arrow\">ArtistPopularityTransformer</label><div class=\"sk-toggleable__content\"><pre>ArtistPopularityTransformer()</pre></div></div></div><div class=\"sk-item\"><div class=\"sk-estimator sk-toggleable\"><input class=\"sk-toggleable__control sk-hidden--visually\" id=\"98529b52-f18f-4879-be68-b5f726fa85b3\" type=\"checkbox\" ><label for=\"98529b52-f18f-4879-be68-b5f726fa85b3\" class=\"sk-toggleable__label sk-toggleable__label-arrow\">MinMaxScaler</label><div class=\"sk-toggleable__content\"><pre>MinMaxScaler()</pre></div></div></div></div></div></div></div></div></div></div><div class=\"sk-item\"><div class=\"sk-estimator sk-toggleable\"><input class=\"sk-toggleable__control sk-hidden--visually\" id=\"0acf9bcd-fb5d-4a35-8254-e2f5002feada\" type=\"checkbox\" ><label for=\"0acf9bcd-fb5d-4a35-8254-e2f5002feada\" class=\"sk-toggleable__label sk-toggleable__label-arrow\">RandomForestRegressor</label><div class=\"sk-toggleable__content\"><pre>RandomForestRegressor(max_depth=8)</pre></div></div></div></div></div></div></div></div></div></div></div></div>"
      ],
      "text/plain": [
       "GridSearchCV(cv=5,\n",
       "             estimator=Pipeline(steps=[('columntransformer',\n",
       "                                        ColumnTransformer(transformers=[('clusters_num_col',\n",
       "                                                                         Pipeline(steps=[('Kmeans',\n",
       "                                                                                          KMeans(n_clusters=5)),\n",
       "                                                                                         ('transformer_clusters',\n",
       "                                                                                          FunctionTransformer(func=<function process_clusters at 0x7feff9a4c820>)),\n",
       "                                                                                         ('ohe',\n",
       "                                                                                          OneHotEncoder(drop='first',\n",
       "                                                                                                        handle_unknown='ignore',\n",
       "                                                                                                        sparse=False))]),\n",
       "                                                                         ['acousticness',...\n",
       "                                                                        ('artist',\n",
       "                                                                         Pipeline(steps=[('artist_popularity',\n",
       "                                                                                          ArtistPopularityTransformer()),\n",
       "                                                                                         ('MMscaler',\n",
       "                                                                                          MinMaxScaler())]),\n",
       "                                                                         ['artist'])])),\n",
       "                                       ('randomforestregressor',\n",
       "                                        RandomForestRegressor(max_depth=8))]),\n",
       "             n_jobs=-1,\n",
       "             param_grid={'randomforestregressor__max_depth': [2, 4, 8],\n",
       "                         'randomforestregressor__min_samples_split': [2, 4, 8]},\n",
       "             scoring='neg_root_mean_squared_error', verbose=3)"
      ]
     },
     "execution_count": 451,
     "metadata": {},
     "output_type": "execute_result"
    }
   ],
   "source": [
    "search.fit(X,y)"
   ]
  },
  {
   "cell_type": "markdown",
   "metadata": {},
   "source": [
    "📝 fit your **search**  on the full **X** and **y**  \n",
    "☑️ Iterate until you notice an improvement on the best score  compared to the scores obtained in section 6  \n",
    "💡 You won't be judged by the computing power of your machine, your grid search should fit in under 3 minutes"
   ]
  },
  {
   "cell_type": "code",
   "execution_count": 455,
   "metadata": {
    "tags": [
     "challengify"
    ]
   },
   "outputs": [
    {
     "data": {
      "text/plain": [
       "-12.137131447220522"
      ]
     },
     "execution_count": 455,
     "metadata": {},
     "output_type": "execute_result"
    },
    {
     "name": "stdout",
     "output_type": "stream",
     "text": [
      "[CV 3/5] END randomforestregressor__max_depth=2, randomforestregressor__min_samples_split=4;, score=-14.654 total time=  12.7s\n",
      "[CV 5/5] END randomforestregressor__max_depth=2, randomforestregressor__min_samples_split=8;, score=-14.660 total time=  13.7s\n",
      "[CV 2/5] END randomforestregressor__max_depth=4, randomforestregressor__min_samples_split=4;, score=-13.279 total time=  24.1s\n",
      "[CV 5/5] END randomforestregressor__max_depth=4, randomforestregressor__min_samples_split=8;, score=-13.200 total time=  25.1s\n",
      "[CV 3/5] END randomforestregressor__max_depth=8, randomforestregressor__min_samples_split=4;, score=-12.141 total time=  41.8s\n",
      "[CV 4/5] END randomforestregressor__max_depth=2, randomforestregressor__min_samples_split=2;, score=-14.628 total time=  13.0s\n",
      "[CV 4/5] END randomforestregressor__max_depth=2, randomforestregressor__min_samples_split=8;, score=-14.633 total time=  13.6s\n",
      "[CV 1/5] END randomforestregressor__max_depth=4, randomforestregressor__min_samples_split=4;, score=-13.514 total time=  24.5s\n",
      "[CV 1/5] END randomforestregressor__max_depth=8, randomforestregressor__min_samples_split=2;, score=-12.474 total time=  41.2s\n",
      "[CV 4/5] END randomforestregressor__max_depth=8, randomforestregressor__min_samples_split=4;, score=-12.012 total time=  39.0s\n",
      "[CV 1/5] END randomforestregressor__max_depth=2, randomforestregressor__min_samples_split=4;, score=-14.937 total time=  13.2s\n",
      "[CV 1/5] END randomforestregressor__max_depth=4, randomforestregressor__min_samples_split=2;, score=-13.501 total time=  25.5s\n",
      "[CV 4/5] END randomforestregressor__max_depth=4, randomforestregressor__min_samples_split=4;, score=-13.125 total time=  24.6s\n",
      "[CV 2/5] END randomforestregressor__max_depth=8, randomforestregressor__min_samples_split=2;, score=-12.049 total time=  42.3s\n",
      "[CV 5/5] END randomforestregressor__max_depth=8, randomforestregressor__min_samples_split=4;, score=-12.047 total time=  37.2s\n",
      "[CV 3/5] END randomforestregressor__max_depth=2, randomforestregressor__min_samples_split=2;, score=-14.668 total time=  12.3s\n",
      "[CV 4/5] END randomforestregressor__max_depth=2, randomforestregressor__min_samples_split=4;, score=-14.625 total time=  13.3s\n",
      "[CV 3/5] END randomforestregressor__max_depth=4, randomforestregressor__min_samples_split=2;, score=-13.251 total time=  23.3s\n",
      "[CV 5/5] END randomforestregressor__max_depth=4, randomforestregressor__min_samples_split=4;, score=-13.195 total time=  24.3s\n",
      "[CV 3/5] END randomforestregressor__max_depth=8, randomforestregressor__min_samples_split=2;, score=-12.152 total time=  40.2s\n",
      "[CV 1/5] END randomforestregressor__max_depth=8, randomforestregressor__min_samples_split=8;, score=-12.447 total time=  36.6s\n",
      "[CV 1/5] END randomforestregressor__max_depth=2, randomforestregressor__min_samples_split=2;, score=-14.940 total time=  12.6s\n",
      "[CV 5/5] END randomforestregressor__max_depth=2, randomforestregressor__min_samples_split=4;, score=-14.668 total time=  13.1s\n",
      "[CV 2/5] END randomforestregressor__max_depth=4, randomforestregressor__min_samples_split=2;, score=-13.289 total time=  23.8s\n",
      "[CV 2/5] END randomforestregressor__max_depth=4, randomforestregressor__min_samples_split=8;, score=-13.280 total time=  24.4s\n",
      "[CV 4/5] END randomforestregressor__max_depth=8, randomforestregressor__min_samples_split=2;, score=-12.054 total time=  40.3s\n",
      "[CV 2/5] END randomforestregressor__max_depth=8, randomforestregressor__min_samples_split=8;, score=-12.067 total time=  36.9s\n",
      "[CV 2/5] END randomforestregressor__max_depth=2, randomforestregressor__min_samples_split=4;, score=-14.726 total time=  12.8s\n",
      "[CV 3/5] END randomforestregressor__max_depth=2, randomforestregressor__min_samples_split=8;, score=-14.660 total time=  14.1s\n",
      "[CV 3/5] END randomforestregressor__max_depth=4, randomforestregressor__min_samples_split=4;, score=-13.239 total time=  23.1s\n",
      "[CV 3/5] END randomforestregressor__max_depth=4, randomforestregressor__min_samples_split=8;, score=-13.243 total time=  24.3s\n",
      "[CV 1/5] END randomforestregressor__max_depth=8, randomforestregressor__min_samples_split=4;, score=-12.456 total time=  39.6s\n",
      "[CV 3/5] END randomforestregressor__max_depth=8, randomforestregressor__min_samples_split=8;, score=-12.186 total time=  36.7s\n",
      "[CV 5/5] END randomforestregressor__max_depth=2, randomforestregressor__min_samples_split=2;, score=-14.640 total time=  12.6s\n",
      "[CV 2/5] END randomforestregressor__max_depth=2, randomforestregressor__min_samples_split=8;, score=-14.725 total time=  13.1s\n",
      "[CV 4/5] END randomforestregressor__max_depth=4, randomforestregressor__min_samples_split=2;, score=-13.114 total time=  23.2s\n",
      "[CV 1/5] END randomforestregressor__max_depth=4, randomforestregressor__min_samples_split=8;, score=-13.506 total time=  24.9s\n",
      "[CV 5/5] END randomforestregressor__max_depth=8, randomforestregressor__min_samples_split=2;, score=-12.039 total time=  41.5s\n",
      "[CV 4/5] END randomforestregressor__max_depth=8, randomforestregressor__min_samples_split=8;, score=-12.049 total time=  36.4s\n",
      "[CV 2/5] END randomforestregressor__max_depth=2, randomforestregressor__min_samples_split=2;, score=-14.714 total time=  12.9s\n",
      "[CV 1/5] END randomforestregressor__max_depth=2, randomforestregressor__min_samples_split=8;, score=-14.928 total time=  13.9s\n",
      "[CV 5/5] END randomforestregressor__max_depth=4, randomforestregressor__min_samples_split=2;, score=-13.192 total time=  24.0s\n",
      "[CV 4/5] END randomforestregressor__max_depth=4, randomforestregressor__min_samples_split=8;, score=-13.131 total time=  25.3s\n",
      "[CV 2/5] END randomforestregressor__max_depth=8, randomforestregressor__min_samples_split=4;, score=-12.030 total time=  41.6s\n",
      "[CV 5/5] END randomforestregressor__max_depth=8, randomforestregressor__min_samples_split=8;, score=-12.056 total time=  34.9s\n"
     ]
    }
   ],
   "source": [
    "search.best_score_"
   ]
  },
  {
   "cell_type": "markdown",
   "metadata": {},
   "source": [
    "💾 **Run the following cell to save your results**"
   ]
  },
  {
   "cell_type": "code",
   "execution_count": 481,
   "metadata": {},
   "outputs": [],
   "source": [
    "from nbresult import ChallengeResult\n",
    "\n",
    "result = ChallengeResult(\"model_tuning\",\n",
    "    search_results=search.cv,\n",
    "    score=search.best_score_)\n",
    "result.write()"
   ]
  },
  {
   "cell_type": "markdown",
   "metadata": {},
   "source": [
    "## 8 - Recommendations and Continuous Improvement (30 min)"
   ]
  },
  {
   "cell_type": "markdown",
   "metadata": {},
   "source": [
    "*C13 - Adopter une démarche d'amélioration continue en identifiant les axes de perfectionnement d'un produit à l'aide d'une méthode adaptée de manière à améliorer la performance d'un produit*"
   ]
  },
  {
   "cell_type": "markdown",
   "metadata": {},
   "source": [
    "🎯 **Transform your regression task into a classification task**"
   ]
  },
  {
   "cell_type": "markdown",
   "metadata": {},
   "source": [
    "The product owner of your company tells you that he only needs to know whether a song is above or below popularity median  \n",
    "The exact popularity value is of little interest to her as it won't bring any value to the feature under development."
   ]
  },
  {
   "cell_type": "markdown",
   "metadata": {},
   "source": [
    "📝 Create a new target **y_cat**, a `Series`, using the formula below  \n",
    "\n",
    "☑️ $y\\_cat_i = 1 \\quad if\\quad y_i \\geq median(y),\\quad 0\\quad otherwise.$  "
   ]
  },
  {
   "cell_type": "code",
   "execution_count": 482,
   "metadata": {},
   "outputs": [],
   "source": [
    "median = y.median()"
   ]
  },
  {
   "cell_type": "code",
   "execution_count": 483,
   "metadata": {
    "tags": [
     "challengify"
    ]
   },
   "outputs": [],
   "source": [
    "y_cat = y.apply(lambda x : 1 if x > median else 0)"
   ]
  },
  {
   "cell_type": "code",
   "execution_count": 484,
   "metadata": {},
   "outputs": [
    {
     "data": {
      "text/plain": [
       "0    26591\n",
       "1    25462\n",
       "Name: popularity, dtype: int64"
      ]
     },
     "execution_count": 484,
     "metadata": {},
     "output_type": "execute_result"
    }
   ],
   "source": [
    "y_cat.value_counts()"
   ]
  },
  {
   "cell_type": "code",
   "execution_count": 485,
   "metadata": {},
   "outputs": [
    {
     "data": {
      "text/plain": [
       "((52053,), (52053,))"
      ]
     },
     "execution_count": 485,
     "metadata": {},
     "output_type": "execute_result"
    }
   ],
   "source": [
    "y_cat.shape, y.shape"
   ]
  },
  {
   "cell_type": "markdown",
   "metadata": {},
   "source": [
    "📝 Cross validate a classification  \n",
    "\n",
    "☑️ Use your **preproc** with a basic linear model from `sklearn` suited for classification  \n",
    "☑️ Assign the resulting pipeline to **pipe_cat**  \n",
    "☑️ Cross validate the pipeline with 5 folds  \n",
    "☑️ Use the Accuracy metric and store the mean of scores in **score_cat**  "
   ]
  },
  {
   "cell_type": "code",
   "execution_count": 493,
   "metadata": {
    "scrolled": true,
    "tags": [
     "challengify"
    ]
   },
   "outputs": [],
   "source": [
    "pipe_cat = make_pipeline(preprocessor, LogisticRegression(max_iter = 1000))"
   ]
  },
  {
   "cell_type": "code",
   "execution_count": 494,
   "metadata": {},
   "outputs": [
    {
     "data": {
      "text/html": [
       "<style>#sk-c5c4e7a3-f625-444e-bc4c-ca33a1ddfbfb {color: black;background-color: white;}#sk-c5c4e7a3-f625-444e-bc4c-ca33a1ddfbfb pre{padding: 0;}#sk-c5c4e7a3-f625-444e-bc4c-ca33a1ddfbfb div.sk-toggleable {background-color: white;}#sk-c5c4e7a3-f625-444e-bc4c-ca33a1ddfbfb label.sk-toggleable__label {cursor: pointer;display: block;width: 100%;margin-bottom: 0;padding: 0.3em;box-sizing: border-box;text-align: center;}#sk-c5c4e7a3-f625-444e-bc4c-ca33a1ddfbfb label.sk-toggleable__label-arrow:before {content: \"▸\";float: left;margin-right: 0.25em;color: #696969;}#sk-c5c4e7a3-f625-444e-bc4c-ca33a1ddfbfb label.sk-toggleable__label-arrow:hover:before {color: black;}#sk-c5c4e7a3-f625-444e-bc4c-ca33a1ddfbfb div.sk-estimator:hover label.sk-toggleable__label-arrow:before {color: black;}#sk-c5c4e7a3-f625-444e-bc4c-ca33a1ddfbfb div.sk-toggleable__content {max-height: 0;max-width: 0;overflow: hidden;text-align: left;background-color: #f0f8ff;}#sk-c5c4e7a3-f625-444e-bc4c-ca33a1ddfbfb div.sk-toggleable__content pre {margin: 0.2em;color: black;border-radius: 0.25em;background-color: #f0f8ff;}#sk-c5c4e7a3-f625-444e-bc4c-ca33a1ddfbfb input.sk-toggleable__control:checked~div.sk-toggleable__content {max-height: 200px;max-width: 100%;overflow: auto;}#sk-c5c4e7a3-f625-444e-bc4c-ca33a1ddfbfb input.sk-toggleable__control:checked~label.sk-toggleable__label-arrow:before {content: \"▾\";}#sk-c5c4e7a3-f625-444e-bc4c-ca33a1ddfbfb div.sk-estimator input.sk-toggleable__control:checked~label.sk-toggleable__label {background-color: #d4ebff;}#sk-c5c4e7a3-f625-444e-bc4c-ca33a1ddfbfb div.sk-label input.sk-toggleable__control:checked~label.sk-toggleable__label {background-color: #d4ebff;}#sk-c5c4e7a3-f625-444e-bc4c-ca33a1ddfbfb input.sk-hidden--visually {border: 0;clip: rect(1px 1px 1px 1px);clip: rect(1px, 1px, 1px, 1px);height: 1px;margin: -1px;overflow: hidden;padding: 0;position: absolute;width: 1px;}#sk-c5c4e7a3-f625-444e-bc4c-ca33a1ddfbfb div.sk-estimator {font-family: monospace;background-color: #f0f8ff;border: 1px dotted black;border-radius: 0.25em;box-sizing: border-box;margin-bottom: 0.5em;}#sk-c5c4e7a3-f625-444e-bc4c-ca33a1ddfbfb div.sk-estimator:hover {background-color: #d4ebff;}#sk-c5c4e7a3-f625-444e-bc4c-ca33a1ddfbfb div.sk-parallel-item::after {content: \"\";width: 100%;border-bottom: 1px solid gray;flex-grow: 1;}#sk-c5c4e7a3-f625-444e-bc4c-ca33a1ddfbfb div.sk-label:hover label.sk-toggleable__label {background-color: #d4ebff;}#sk-c5c4e7a3-f625-444e-bc4c-ca33a1ddfbfb div.sk-serial::before {content: \"\";position: absolute;border-left: 1px solid gray;box-sizing: border-box;top: 2em;bottom: 0;left: 50%;}#sk-c5c4e7a3-f625-444e-bc4c-ca33a1ddfbfb div.sk-serial {display: flex;flex-direction: column;align-items: center;background-color: white;padding-right: 0.2em;padding-left: 0.2em;}#sk-c5c4e7a3-f625-444e-bc4c-ca33a1ddfbfb div.sk-item {z-index: 1;}#sk-c5c4e7a3-f625-444e-bc4c-ca33a1ddfbfb div.sk-parallel {display: flex;align-items: stretch;justify-content: center;background-color: white;}#sk-c5c4e7a3-f625-444e-bc4c-ca33a1ddfbfb div.sk-parallel::before {content: \"\";position: absolute;border-left: 1px solid gray;box-sizing: border-box;top: 2em;bottom: 0;left: 50%;}#sk-c5c4e7a3-f625-444e-bc4c-ca33a1ddfbfb div.sk-parallel-item {display: flex;flex-direction: column;position: relative;background-color: white;}#sk-c5c4e7a3-f625-444e-bc4c-ca33a1ddfbfb div.sk-parallel-item:first-child::after {align-self: flex-end;width: 50%;}#sk-c5c4e7a3-f625-444e-bc4c-ca33a1ddfbfb div.sk-parallel-item:last-child::after {align-self: flex-start;width: 50%;}#sk-c5c4e7a3-f625-444e-bc4c-ca33a1ddfbfb div.sk-parallel-item:only-child::after {width: 0;}#sk-c5c4e7a3-f625-444e-bc4c-ca33a1ddfbfb div.sk-dashed-wrapped {border: 1px dashed gray;margin: 0 0.4em 0.5em 0.4em;box-sizing: border-box;padding-bottom: 0.4em;background-color: white;position: relative;}#sk-c5c4e7a3-f625-444e-bc4c-ca33a1ddfbfb div.sk-label label {font-family: monospace;font-weight: bold;background-color: white;display: inline-block;line-height: 1.2em;}#sk-c5c4e7a3-f625-444e-bc4c-ca33a1ddfbfb div.sk-label-container {position: relative;z-index: 2;text-align: center;}#sk-c5c4e7a3-f625-444e-bc4c-ca33a1ddfbfb div.sk-container {/* jupyter's `normalize.less` sets `[hidden] { display: none; }` but bootstrap.min.css set `[hidden] { display: none !important; }` so we also need the `!important` here to be able to override the default hidden behavior on the sphinx rendered scikit-learn.org. See: https://github.com/scikit-learn/scikit-learn/issues/21755 */display: inline-block !important;position: relative;}#sk-c5c4e7a3-f625-444e-bc4c-ca33a1ddfbfb div.sk-text-repr-fallback {display: none;}</style><div id=\"sk-c5c4e7a3-f625-444e-bc4c-ca33a1ddfbfb\" class=\"sk-top-container\"><div class=\"sk-text-repr-fallback\"><pre>Pipeline(steps=[(&#x27;columntransformer&#x27;,\n",
       "                 ColumnTransformer(transformers=[(&#x27;clusters_num_col&#x27;,\n",
       "                                                  Pipeline(steps=[(&#x27;Kmeans&#x27;,\n",
       "                                                                   KMeans(n_clusters=5)),\n",
       "                                                                  (&#x27;transformer_clusters&#x27;,\n",
       "                                                                   FunctionTransformer(func=&lt;function process_clusters at 0x7feff9a4c820&gt;)),\n",
       "                                                                  (&#x27;ohe&#x27;,\n",
       "                                                                   OneHotEncoder(drop=&#x27;first&#x27;,\n",
       "                                                                                 handle_unknown=&#x27;ignore&#x27;,\n",
       "                                                                                 sparse=False))]),\n",
       "                                                  [&#x27;acousticness&#x27;,\n",
       "                                                   &#x27;danceability&#x27;,\n",
       "                                                   &#x27;duration_ms&#x27;...\n",
       "                                                   &#x27;tempo&#x27;, &#x27;valence&#x27;]),\n",
       "                                                 (&#x27;year&#x27;,\n",
       "                                                  Pipeline(steps=[(&#x27;transformer_year&#x27;,\n",
       "                                                                   FunctionTransformer(func=&lt;function year_function at 0x7feff9a4c790&gt;)),\n",
       "                                                                  (&#x27;min_max_scaler&#x27;,\n",
       "                                                                   MinMaxScaler())]),\n",
       "                                                  [&#x27;release_date&#x27;]),\n",
       "                                                 (&#x27;artist&#x27;,\n",
       "                                                  Pipeline(steps=[(&#x27;artist_popularity&#x27;,\n",
       "                                                                   ArtistPopularityTransformer()),\n",
       "                                                                  (&#x27;MMscaler&#x27;,\n",
       "                                                                   MinMaxScaler())]),\n",
       "                                                  [&#x27;artist&#x27;])])),\n",
       "                (&#x27;logisticregression&#x27;, LogisticRegression(max_iter=1000))])</pre><b>Please rerun this cell to show the HTML repr or trust the notebook.</b></div><div class=\"sk-container\" hidden><div class=\"sk-item sk-dashed-wrapped\"><div class=\"sk-label-container\"><div class=\"sk-label sk-toggleable\"><input class=\"sk-toggleable__control sk-hidden--visually\" id=\"ae832cfb-5a73-4194-a188-f6507ca7bebd\" type=\"checkbox\" ><label for=\"ae832cfb-5a73-4194-a188-f6507ca7bebd\" class=\"sk-toggleable__label sk-toggleable__label-arrow\">Pipeline</label><div class=\"sk-toggleable__content\"><pre>Pipeline(steps=[(&#x27;columntransformer&#x27;,\n",
       "                 ColumnTransformer(transformers=[(&#x27;clusters_num_col&#x27;,\n",
       "                                                  Pipeline(steps=[(&#x27;Kmeans&#x27;,\n",
       "                                                                   KMeans(n_clusters=5)),\n",
       "                                                                  (&#x27;transformer_clusters&#x27;,\n",
       "                                                                   FunctionTransformer(func=&lt;function process_clusters at 0x7feff9a4c820&gt;)),\n",
       "                                                                  (&#x27;ohe&#x27;,\n",
       "                                                                   OneHotEncoder(drop=&#x27;first&#x27;,\n",
       "                                                                                 handle_unknown=&#x27;ignore&#x27;,\n",
       "                                                                                 sparse=False))]),\n",
       "                                                  [&#x27;acousticness&#x27;,\n",
       "                                                   &#x27;danceability&#x27;,\n",
       "                                                   &#x27;duration_ms&#x27;...\n",
       "                                                   &#x27;tempo&#x27;, &#x27;valence&#x27;]),\n",
       "                                                 (&#x27;year&#x27;,\n",
       "                                                  Pipeline(steps=[(&#x27;transformer_year&#x27;,\n",
       "                                                                   FunctionTransformer(func=&lt;function year_function at 0x7feff9a4c790&gt;)),\n",
       "                                                                  (&#x27;min_max_scaler&#x27;,\n",
       "                                                                   MinMaxScaler())]),\n",
       "                                                  [&#x27;release_date&#x27;]),\n",
       "                                                 (&#x27;artist&#x27;,\n",
       "                                                  Pipeline(steps=[(&#x27;artist_popularity&#x27;,\n",
       "                                                                   ArtistPopularityTransformer()),\n",
       "                                                                  (&#x27;MMscaler&#x27;,\n",
       "                                                                   MinMaxScaler())]),\n",
       "                                                  [&#x27;artist&#x27;])])),\n",
       "                (&#x27;logisticregression&#x27;, LogisticRegression(max_iter=1000))])</pre></div></div></div><div class=\"sk-serial\"><div class=\"sk-item sk-dashed-wrapped\"><div class=\"sk-label-container\"><div class=\"sk-label sk-toggleable\"><input class=\"sk-toggleable__control sk-hidden--visually\" id=\"402e3a15-3488-4e82-aeaa-16f627e108cc\" type=\"checkbox\" ><label for=\"402e3a15-3488-4e82-aeaa-16f627e108cc\" class=\"sk-toggleable__label sk-toggleable__label-arrow\">columntransformer: ColumnTransformer</label><div class=\"sk-toggleable__content\"><pre>ColumnTransformer(transformers=[(&#x27;clusters_num_col&#x27;,\n",
       "                                 Pipeline(steps=[(&#x27;Kmeans&#x27;,\n",
       "                                                  KMeans(n_clusters=5)),\n",
       "                                                 (&#x27;transformer_clusters&#x27;,\n",
       "                                                  FunctionTransformer(func=&lt;function process_clusters at 0x7feff9a4c820&gt;)),\n",
       "                                                 (&#x27;ohe&#x27;,\n",
       "                                                  OneHotEncoder(drop=&#x27;first&#x27;,\n",
       "                                                                handle_unknown=&#x27;ignore&#x27;,\n",
       "                                                                sparse=False))]),\n",
       "                                 [&#x27;acousticness&#x27;, &#x27;danceability&#x27;, &#x27;duration_ms&#x27;,\n",
       "                                  &#x27;energy&#x27;, &#x27;explicit&#x27;, &#x27;instrumentalnes...\n",
       "                                  &#x27;key&#x27;, &#x27;liveness&#x27;, &#x27;loudness&#x27;, &#x27;mode&#x27;,\n",
       "                                  &#x27;speechiness&#x27;, &#x27;tempo&#x27;, &#x27;valence&#x27;]),\n",
       "                                (&#x27;year&#x27;,\n",
       "                                 Pipeline(steps=[(&#x27;transformer_year&#x27;,\n",
       "                                                  FunctionTransformer(func=&lt;function year_function at 0x7feff9a4c790&gt;)),\n",
       "                                                 (&#x27;min_max_scaler&#x27;,\n",
       "                                                  MinMaxScaler())]),\n",
       "                                 [&#x27;release_date&#x27;]),\n",
       "                                (&#x27;artist&#x27;,\n",
       "                                 Pipeline(steps=[(&#x27;artist_popularity&#x27;,\n",
       "                                                  ArtistPopularityTransformer()),\n",
       "                                                 (&#x27;MMscaler&#x27;, MinMaxScaler())]),\n",
       "                                 [&#x27;artist&#x27;])])</pre></div></div></div><div class=\"sk-parallel\"><div class=\"sk-parallel-item\"><div class=\"sk-item\"><div class=\"sk-label-container\"><div class=\"sk-label sk-toggleable\"><input class=\"sk-toggleable__control sk-hidden--visually\" id=\"bc9b4bac-e724-408b-8526-2f15252d8637\" type=\"checkbox\" ><label for=\"bc9b4bac-e724-408b-8526-2f15252d8637\" class=\"sk-toggleable__label sk-toggleable__label-arrow\">clusters_num_col</label><div class=\"sk-toggleable__content\"><pre>[&#x27;acousticness&#x27;, &#x27;danceability&#x27;, &#x27;duration_ms&#x27;, &#x27;energy&#x27;, &#x27;explicit&#x27;, &#x27;instrumentalness&#x27;, &#x27;key&#x27;, &#x27;liveness&#x27;, &#x27;loudness&#x27;, &#x27;mode&#x27;, &#x27;speechiness&#x27;, &#x27;tempo&#x27;, &#x27;valence&#x27;]</pre></div></div></div><div class=\"sk-serial\"><div class=\"sk-item\"><div class=\"sk-serial\"><div class=\"sk-item\"><div class=\"sk-estimator sk-toggleable\"><input class=\"sk-toggleable__control sk-hidden--visually\" id=\"6b59d78c-063c-4052-99d9-86a1500b452b\" type=\"checkbox\" ><label for=\"6b59d78c-063c-4052-99d9-86a1500b452b\" class=\"sk-toggleable__label sk-toggleable__label-arrow\">KMeans</label><div class=\"sk-toggleable__content\"><pre>KMeans(n_clusters=5)</pre></div></div></div><div class=\"sk-item\"><div class=\"sk-estimator sk-toggleable\"><input class=\"sk-toggleable__control sk-hidden--visually\" id=\"9bc9d2d3-95ae-4354-b927-9143487bd864\" type=\"checkbox\" ><label for=\"9bc9d2d3-95ae-4354-b927-9143487bd864\" class=\"sk-toggleable__label sk-toggleable__label-arrow\">FunctionTransformer</label><div class=\"sk-toggleable__content\"><pre>FunctionTransformer(func=&lt;function process_clusters at 0x7feff9a4c820&gt;)</pre></div></div></div><div class=\"sk-item\"><div class=\"sk-estimator sk-toggleable\"><input class=\"sk-toggleable__control sk-hidden--visually\" id=\"b8d6bdd5-a85c-485e-956c-5e2b1194c766\" type=\"checkbox\" ><label for=\"b8d6bdd5-a85c-485e-956c-5e2b1194c766\" class=\"sk-toggleable__label sk-toggleable__label-arrow\">OneHotEncoder</label><div class=\"sk-toggleable__content\"><pre>OneHotEncoder(drop=&#x27;first&#x27;, handle_unknown=&#x27;ignore&#x27;, sparse=False)</pre></div></div></div></div></div></div></div></div><div class=\"sk-parallel-item\"><div class=\"sk-item\"><div class=\"sk-label-container\"><div class=\"sk-label sk-toggleable\"><input class=\"sk-toggleable__control sk-hidden--visually\" id=\"bee7ac61-e90e-4ad9-89e9-748935a4ceb1\" type=\"checkbox\" ><label for=\"bee7ac61-e90e-4ad9-89e9-748935a4ceb1\" class=\"sk-toggleable__label sk-toggleable__label-arrow\">MMscaler_num_col</label><div class=\"sk-toggleable__content\"><pre>[&#x27;acousticness&#x27;, &#x27;danceability&#x27;, &#x27;duration_ms&#x27;, &#x27;energy&#x27;, &#x27;explicit&#x27;, &#x27;instrumentalness&#x27;, &#x27;key&#x27;, &#x27;liveness&#x27;, &#x27;loudness&#x27;, &#x27;mode&#x27;, &#x27;speechiness&#x27;, &#x27;tempo&#x27;, &#x27;valence&#x27;]</pre></div></div></div><div class=\"sk-serial\"><div class=\"sk-item\"><div class=\"sk-estimator sk-toggleable\"><input class=\"sk-toggleable__control sk-hidden--visually\" id=\"72b4f777-2c12-400f-abd2-b374d112539f\" type=\"checkbox\" ><label for=\"72b4f777-2c12-400f-abd2-b374d112539f\" class=\"sk-toggleable__label sk-toggleable__label-arrow\">MinMaxScaler</label><div class=\"sk-toggleable__content\"><pre>MinMaxScaler()</pre></div></div></div></div></div></div><div class=\"sk-parallel-item\"><div class=\"sk-item\"><div class=\"sk-label-container\"><div class=\"sk-label sk-toggleable\"><input class=\"sk-toggleable__control sk-hidden--visually\" id=\"86fad0b0-bd89-4bcf-8278-f22315536e1a\" type=\"checkbox\" ><label for=\"86fad0b0-bd89-4bcf-8278-f22315536e1a\" class=\"sk-toggleable__label sk-toggleable__label-arrow\">year</label><div class=\"sk-toggleable__content\"><pre>[&#x27;release_date&#x27;]</pre></div></div></div><div class=\"sk-serial\"><div class=\"sk-item\"><div class=\"sk-serial\"><div class=\"sk-item\"><div class=\"sk-estimator sk-toggleable\"><input class=\"sk-toggleable__control sk-hidden--visually\" id=\"92ed60ed-cca4-487f-87dc-5c8dc73de849\" type=\"checkbox\" ><label for=\"92ed60ed-cca4-487f-87dc-5c8dc73de849\" class=\"sk-toggleable__label sk-toggleable__label-arrow\">FunctionTransformer</label><div class=\"sk-toggleable__content\"><pre>FunctionTransformer(func=&lt;function year_function at 0x7feff9a4c790&gt;)</pre></div></div></div><div class=\"sk-item\"><div class=\"sk-estimator sk-toggleable\"><input class=\"sk-toggleable__control sk-hidden--visually\" id=\"008571a9-797d-40c9-80bf-b2c4ecb32a4c\" type=\"checkbox\" ><label for=\"008571a9-797d-40c9-80bf-b2c4ecb32a4c\" class=\"sk-toggleable__label sk-toggleable__label-arrow\">MinMaxScaler</label><div class=\"sk-toggleable__content\"><pre>MinMaxScaler()</pre></div></div></div></div></div></div></div></div><div class=\"sk-parallel-item\"><div class=\"sk-item\"><div class=\"sk-label-container\"><div class=\"sk-label sk-toggleable\"><input class=\"sk-toggleable__control sk-hidden--visually\" id=\"b2e929d6-f7d5-488e-862e-45a8f53ff439\" type=\"checkbox\" ><label for=\"b2e929d6-f7d5-488e-862e-45a8f53ff439\" class=\"sk-toggleable__label sk-toggleable__label-arrow\">artist</label><div class=\"sk-toggleable__content\"><pre>[&#x27;artist&#x27;]</pre></div></div></div><div class=\"sk-serial\"><div class=\"sk-item\"><div class=\"sk-serial\"><div class=\"sk-item\"><div class=\"sk-estimator sk-toggleable\"><input class=\"sk-toggleable__control sk-hidden--visually\" id=\"15310556-5f8b-4cb3-8720-140c92540639\" type=\"checkbox\" ><label for=\"15310556-5f8b-4cb3-8720-140c92540639\" class=\"sk-toggleable__label sk-toggleable__label-arrow\">ArtistPopularityTransformer</label><div class=\"sk-toggleable__content\"><pre>ArtistPopularityTransformer()</pre></div></div></div><div class=\"sk-item\"><div class=\"sk-estimator sk-toggleable\"><input class=\"sk-toggleable__control sk-hidden--visually\" id=\"a9ea075c-5c0f-435d-9d17-fe763af3537d\" type=\"checkbox\" ><label for=\"a9ea075c-5c0f-435d-9d17-fe763af3537d\" class=\"sk-toggleable__label sk-toggleable__label-arrow\">MinMaxScaler</label><div class=\"sk-toggleable__content\"><pre>MinMaxScaler()</pre></div></div></div></div></div></div></div></div></div></div><div class=\"sk-item\"><div class=\"sk-estimator sk-toggleable\"><input class=\"sk-toggleable__control sk-hidden--visually\" id=\"64ed4153-40dc-48b6-9b1d-befb6fb2b6f8\" type=\"checkbox\" ><label for=\"64ed4153-40dc-48b6-9b1d-befb6fb2b6f8\" class=\"sk-toggleable__label sk-toggleable__label-arrow\">LogisticRegression</label><div class=\"sk-toggleable__content\"><pre>LogisticRegression(max_iter=1000)</pre></div></div></div></div></div></div></div>"
      ],
      "text/plain": [
       "Pipeline(steps=[('columntransformer',\n",
       "                 ColumnTransformer(transformers=[('clusters_num_col',\n",
       "                                                  Pipeline(steps=[('Kmeans',\n",
       "                                                                   KMeans(n_clusters=5)),\n",
       "                                                                  ('transformer_clusters',\n",
       "                                                                   FunctionTransformer(func=<function process_clusters at 0x7feff9a4c820>)),\n",
       "                                                                  ('ohe',\n",
       "                                                                   OneHotEncoder(drop='first',\n",
       "                                                                                 handle_unknown='ignore',\n",
       "                                                                                 sparse=False))]),\n",
       "                                                  ['acousticness',\n",
       "                                                   'danceability',\n",
       "                                                   'duration_ms'...\n",
       "                                                   'tempo', 'valence']),\n",
       "                                                 ('year',\n",
       "                                                  Pipeline(steps=[('transformer_year',\n",
       "                                                                   FunctionTransformer(func=<function year_function at 0x7feff9a4c790>)),\n",
       "                                                                  ('min_max_scaler',\n",
       "                                                                   MinMaxScaler())]),\n",
       "                                                  ['release_date']),\n",
       "                                                 ('artist',\n",
       "                                                  Pipeline(steps=[('artist_popularity',\n",
       "                                                                   ArtistPopularityTransformer()),\n",
       "                                                                  ('MMscaler',\n",
       "                                                                   MinMaxScaler())]),\n",
       "                                                  ['artist'])])),\n",
       "                ('logisticregression', LogisticRegression(max_iter=1000))])"
      ]
     },
     "execution_count": 494,
     "metadata": {},
     "output_type": "execute_result"
    }
   ],
   "source": [
    "pipe_cat"
   ]
  },
  {
   "cell_type": "code",
   "execution_count": 495,
   "metadata": {},
   "outputs": [],
   "source": [
    "score_cat = cross_val_score(pipe_cat, X, y_cat , cv=5,scoring = 'accuracy')"
   ]
  },
  {
   "cell_type": "code",
   "execution_count": 496,
   "metadata": {},
   "outputs": [],
   "source": [
    "score_cat = score_cat.mean()"
   ]
  },
  {
   "cell_type": "code",
   "execution_count": 497,
   "metadata": {},
   "outputs": [
    {
     "data": {
      "text/plain": [
       "0.8255816988072635"
      ]
     },
     "execution_count": 497,
     "metadata": {},
     "output_type": "execute_result"
    }
   ],
   "source": [
    "score_cat"
   ]
  },
  {
   "cell_type": "markdown",
   "metadata": {},
   "source": [
    "💾 **Run the following cell to save your results**"
   ]
  },
  {
   "cell_type": "code",
   "execution_count": 498,
   "metadata": {},
   "outputs": [],
   "source": [
    "from nbresult import ChallengeResult\n",
    "\n",
    "result = ChallengeResult(\n",
    "    \"recommendations\",\n",
    "    target_cat = y_cat.value_counts(normalize=True).values,\n",
    "    model = pipe_cat._final_estimator,\n",
    "    score_cat = score_cat\n",
    ")\n",
    "result.write()"
   ]
  },
  {
   "cell_type": "markdown",
   "metadata": {},
   "source": [
    "## 9 - Deployment - API (40 min)"
   ]
  },
  {
   "cell_type": "markdown",
   "metadata": {},
   "source": [
    "*C12 - Mettre en production le modèle d'apprentissage supervisé ou non supervisé obtenu sous la forme d'une API*"
   ]
  },
  {
   "cell_type": "markdown",
   "metadata": {},
   "source": [
    "📝 This challenge takes place in another repository  \n",
    "☑️ Follow the instructions provided on the certification platform"
   ]
  }
 ],
 "metadata": {
  "kernelspec": {
   "display_name": "Python 3 (ipykernel)",
   "language": "python",
   "name": "python3"
  },
  "language_info": {
   "codemirror_mode": {
    "name": "ipython",
    "version": 3
   },
   "file_extension": ".py",
   "mimetype": "text/x-python",
   "name": "python",
   "nbconvert_exporter": "python",
   "pygments_lexer": "ipython3",
   "version": "3.8.12"
  },
  "toc": {
   "base_numbering": 1,
   "nav_menu": {},
   "number_sections": false,
   "sideBar": true,
   "skip_h1_title": false,
   "title_cell": "Table of Contents",
   "title_sidebar": "Contents",
   "toc_cell": false,
   "toc_position": {
    "height": "calc(100% - 180px)",
    "left": "10px",
    "top": "150px",
    "width": "254px"
   },
   "toc_section_display": true,
   "toc_window_display": true
  },
  "varInspector": {
   "cols": {
    "lenName": 16,
    "lenType": 16,
    "lenVar": 40
   },
   "kernels_config": {
    "python": {
     "delete_cmd_postfix": "",
     "delete_cmd_prefix": "del ",
     "library": "var_list.py",
     "varRefreshCmd": "print(var_dic_list())"
    },
    "r": {
     "delete_cmd_postfix": ") ",
     "delete_cmd_prefix": "rm(",
     "library": "var_list.r",
     "varRefreshCmd": "cat(var_dic_list()) "
    }
   },
   "position": {
    "height": "239.844px",
    "left": "869.333px",
    "right": "20px",
    "top": "122px",
    "width": "348px"
   },
   "types_to_exclude": [
    "module",
    "function",
    "builtin_function_or_method",
    "instance",
    "_Feature"
   ],
   "window_display": false
  }
 },
 "nbformat": 4,
 "nbformat_minor": 4
}
